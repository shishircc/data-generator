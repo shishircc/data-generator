{
 "cells": [
  {
   "cell_type": "markdown",
   "id": "25ba9752-3755-4b8e-99a1-b15d1bcdb223",
   "metadata": {},
   "source": [
    "# Data Generators "
   ]
  },
  {
   "cell_type": "markdown",
   "id": "987c496d-c576-4f31-aa80-380cfa0bfec4",
   "metadata": {},
   "source": [
    "For data generation, one can create an agent, who typically would represent a person but could also represent a system which is generating data \n",
    "\n",
    "This agent then would use some \n",
    "1. Demographic strategies to generate data.\n",
    "2. Time strategy to generte data with some time probability \n",
    "\n",
    "The data generators should be \n",
    "1. Composable (create a new generator as combination of strategies)\n",
    "2. Reproducible (without side effect===functional) \n",
    "3. Lazily Enumerable (one should be able to pull 10 or 1000 or 1 million data points from the generator by simply pulling data)\n",
    "4. Optionally support state+event=>new state+data\n",
    "\n"
   ]
  },
  {
   "cell_type": "markdown",
   "id": "57e0c071-d39f-4ac8-9a3d-fd2435d56754",
   "metadata": {},
   "source": [
    "# Example Usage"
   ]
  },
  {
   "cell_type": "markdown",
   "id": "59166dd2-ca8b-49fa-be07-756b4f57d1db",
   "metadata": {},
   "source": [
    "1. I want to model a person who has a family with a toddler and teen, who love to buy latest gadgets \n",
    "2. I want to model a man, who loves to buy musical rock albums and rock style clothes and has moderate purchases except at promotion times and holidays when a lot of purchase is done\n",
    "\n"
   ]
  },
  {
   "cell_type": "markdown",
   "id": "6598d4b7-b76c-4337-8b5d-28df394adc9e",
   "metadata": {},
   "source": [
    "Once the strategis are created, you can instantiate many agents with different combination of strategies or many agents with same or similar strategies. This would be as simple as saying create an agent and supply a list of strategy ids.\n",
    "\n"
   ]
  },
  {
   "cell_type": "code",
   "execution_count": 1,
   "id": "6fbced11-54fb-4ffe-8ad2-f44a966f7389",
   "metadata": {},
   "outputs": [
    {
     "data": {
      "text/plain": [
       "datetime.datetime(2022, 1, 1, 2, 50, 31, 886027)"
      ]
     },
     "execution_count": 1,
     "metadata": {},
     "output_type": "execute_result"
    }
   ],
   "source": [
    "from datetime import datetime \n",
    "\n",
    "datetime.utcnow()"
   ]
  },
  {
   "cell_type": "code",
   "execution_count": 2,
   "id": "0e9df02a-16ad-4a78-a27e-9c263d4ea45a",
   "metadata": {},
   "outputs": [],
   "source": [
    "class Event:\n",
    "    def __init__(self,datetime,data, kind=\"default\", description=\"default event\"):\n",
    "        self.datetime = datetime \n",
    "        self.data = data \n",
    "        self.kind = kind \n",
    "        self.description = description "
   ]
  },
  {
   "cell_type": "code",
   "execution_count": 3,
   "id": "4c1a9641-4dfc-46bb-a3d1-b875754fd604",
   "metadata": {},
   "outputs": [],
   "source": [
    "class Agent:\n",
    "    \n",
    "    def __init__(self, starttime):\n",
    "        self.starttime=starttime \n",
    "    def getStartTime(self):\n",
    "        return self.starttime\n",
    "    "
   ]
  },
  {
   "cell_type": "code",
   "execution_count": 4,
   "id": "a53a95fe-6600-4a30-a649-e39b9abed20d",
   "metadata": {},
   "outputs": [
    {
     "ename": "IndentationError",
     "evalue": "expected an indented block (235489485.py, line 2)",
     "output_type": "error",
     "traceback": [
      "\u001b[0;36m  File \u001b[0;32m\"/tmp/ipykernel_49/235489485.py\"\u001b[0;36m, line \u001b[0;32m2\u001b[0m\n\u001b[0;31m    \u001b[0m\n\u001b[0m    ^\u001b[0m\n\u001b[0;31mIndentationError\u001b[0m\u001b[0;31m:\u001b[0m expected an indented block\n"
     ]
    }
   ],
   "source": [
    "class TimeStrategy:\n",
    "    "
   ]
  },
  {
   "cell_type": "code",
   "execution_count": null,
   "id": "9b833bfb-4851-45e7-a9b1-21e0ec192efb",
   "metadata": {},
   "outputs": [],
   "source": [
    "class DemographicStrategy:\n",
    "    "
   ]
  },
  {
   "cell_type": "code",
   "execution_count": null,
   "id": "4106b52f-ebb1-402a-94af-09a3033b813d",
   "metadata": {},
   "outputs": [],
   "source": [
    "class Strategy:\n",
    "    "
   ]
  },
  {
   "cell_type": "code",
   "execution_count": null,
   "id": "373ac912-3fac-4057-95c6-bd57bbad795e",
   "metadata": {},
   "outputs": [],
   "source": [
    "class DataSink:\n",
    "    def write(self,data):\n",
    "        pass\n",
    "    \n",
    "    "
   ]
  },
  {
   "cell_type": "code",
   "execution_count": 6,
   "id": "e464dd2e-bcca-4ca1-ace7-13bd2fc3e4a2",
   "metadata": {},
   "outputs": [
    {
     "name": "stderr",
     "output_type": "stream",
     "text": [
      "<>:14: SyntaxWarning: assertion is always true, perhaps remove parentheses?\n",
      "<>:14: SyntaxWarning: assertion is always true, perhaps remove parentheses?\n",
      "/tmp/ipykernel_49/2141425129.py:14: SyntaxWarning: assertion is always true, perhaps remove parentheses?\n",
      "  assert(force == True or name not in self.agents,\"Can't overwrite an agent unless forced explicitly. Pass parameter force=True\")\n"
     ]
    }
   ],
   "source": [
    "class DataGenerator:\n",
    "    \n",
    "    ##Initialise Data Generator with empty strategies. You could also load it using pickle from disk file\n",
    "    def __init__(self):\n",
    "        self.agents = {}\n",
    "        self.time_strategies = {}\n",
    "        self.demographic_strategies = {}\n",
    "        self.datasink = None \n",
    "    \n",
    "    ##Register an agent\n",
    "    ##When simulation starts, all agents would start producing data \n",
    "    def registerAgent(self, name, agent, force=False):\n",
    "        if(force == False and name  in self.agents):\n",
    "            assert(force == True or name not in self.agents,\"Can't overwrite an agent unless forced explicitly. Pass parameter force=True\")\n",
    "        #register the agent in dictionary\n",
    "        self.agents[name]=agent\n",
    "    \n",
    "    \n",
    "    \n",
    "    \n",
    "    \n",
    "    "
   ]
  },
  {
   "cell_type": "code",
   "execution_count": null,
   "id": "9ba11eb8-edde-4cf1-b43b-e480f1d76769",
   "metadata": {},
   "outputs": [],
   "source": []
  }
 ],
 "metadata": {
  "kernelspec": {
   "display_name": "default:Python",
   "language": "python",
   "name": "conda-env-default-py"
  },
  "language_info": {
   "codemirror_mode": {
    "name": "ipython",
    "version": 3
   },
   "file_extension": ".py",
   "mimetype": "text/x-python",
   "name": "python",
   "nbconvert_exporter": "python",
   "pygments_lexer": "ipython3",
   "version": "3.9.7"
  }
 },
 "nbformat": 4,
 "nbformat_minor": 5
}
