{
 "cells": [
  {
   "cell_type": "markdown",
   "id": "52635b0a-49f3-46a0-8f72-a3918d5ea857",
   "metadata": {},
   "source": [
    "## Data Gen"
   ]
  },
  {
   "cell_type": "markdown",
   "id": "21a53224-f1b3-47b0-b201-4098bcc7c198",
   "metadata": {},
   "source": [
    "I want to create a retail data mart\n",
    "\n",
    "This has tables like\n",
    "\n",
    "1. ClickLogs (sessionid, deviceid, userid, id, pageurl, previousurl, time) \n",
    "2. Users (id, name#, email#, address#, country#, join_date)\n",
    "3. Products\n",
    "4. Sale\n",
    "5. AddToCart\n",
    "6. Returns \n",
    "7. Categories \n"
   ]
  },
  {
   "cell_type": "code",
   "execution_count": 1,
   "id": "d135b2f4-1f9b-4a9e-b6dd-439b4a7d10b0",
   "metadata": {},
   "outputs": [
    {
     "name": "stdout",
     "output_type": "stream",
     "text": [
      "Collecting Faker\n",
      "  Downloading Faker-11.3.0-py3-none-any.whl (1.2 MB)\n",
      "\u001b[K     |████████████████████████████████| 1.2 MB 2.8 MB/s eta 0:00:01\n",
      "\u001b[?25hCollecting text-unidecode==1.3\n",
      "  Downloading text_unidecode-1.3-py2.py3-none-any.whl (78 kB)\n",
      "\u001b[K     |████████████████████████████████| 78 kB 9.7 MB/s  eta 0:00:01\n",
      "\u001b[?25hRequirement already satisfied: python-dateutil>=2.4 in /home/studio-lab-user/.conda/envs/default/lib/python3.9/site-packages (from Faker) (2.8.2)\n",
      "Requirement already satisfied: six>=1.5 in /home/studio-lab-user/.conda/envs/default/lib/python3.9/site-packages (from python-dateutil>=2.4->Faker) (1.16.0)\n",
      "Installing collected packages: text-unidecode, Faker\n",
      "Successfully installed Faker-11.3.0 text-unidecode-1.3\n"
     ]
    }
   ],
   "source": [
    "!pip install Faker "
   ]
  },
  {
   "cell_type": "code",
   "execution_count": 24,
   "id": "07c40842-8379-41b8-ba29-2e55a16b0bc5",
   "metadata": {},
   "outputs": [
    {
     "name": "stdout",
     "output_type": "stream",
     "text": [
      "Collecting pandas\n",
      "  Downloading pandas-1.3.5-cp39-cp39-manylinux_2_17_x86_64.manylinux2014_x86_64.whl (11.5 MB)\n",
      "\u001b[K     |████████████████████████████████| 11.5 MB 3.3 MB/s eta 0:00:01\n",
      "\u001b[?25hRequirement already satisfied: python-dateutil>=2.7.3 in /home/studio-lab-user/.conda/envs/default/lib/python3.9/site-packages (from pandas) (2.8.2)\n",
      "Collecting pytz>=2017.3\n",
      "  Downloading pytz-2021.3-py2.py3-none-any.whl (503 kB)\n",
      "\u001b[K     |████████████████████████████████| 503 kB 76.7 MB/s eta 0:00:01\n",
      "\u001b[?25hRequirement already satisfied: numpy>=1.17.3 in /home/studio-lab-user/.conda/envs/default/lib/python3.9/site-packages (from pandas) (1.21.4)\n",
      "Requirement already satisfied: six>=1.5 in /home/studio-lab-user/.conda/envs/default/lib/python3.9/site-packages (from python-dateutil>=2.7.3->pandas) (1.16.0)\n",
      "Installing collected packages: pytz, pandas\n",
      "Successfully installed pandas-1.3.5 pytz-2021.3\n"
     ]
    }
   ],
   "source": [
    "!pip install pandas"
   ]
  },
  {
   "cell_type": "code",
   "execution_count": 30,
   "id": "54d48049-1349-49ec-a7e0-6aa746da1902",
   "metadata": {},
   "outputs": [
    {
     "data": {
      "text/plain": [
       "('listing3.json', <http.client.HTTPMessage at 0x7ffae4263550>)"
      ]
     },
     "execution_count": 30,
     "metadata": {},
     "output_type": "execute_result"
    }
   ],
   "source": [
    "# import urllib\n",
    "# urllib.request.urlretrieve(\"https://amazon-berkeley-objects.s3.amazonaws.com/static_html/assets/listings.json\", \"listing3.json\")"
   ]
  },
  {
   "cell_type": "code",
   "execution_count": 40,
   "id": "5ef81789-42f2-42bd-9370-0dbe6bd3fb99",
   "metadata": {},
   "outputs": [],
   "source": [
    "import json \n",
    "\n",
    "\n",
    "def initProducts():\n",
    "\n",
    "    lines = open(\"listings.json\").readlines()\n",
    "\n",
    "    return [json.loads(line) for line in lines]\n",
    "    "
   ]
  },
  {
   "cell_type": "code",
   "execution_count": 41,
   "id": "181fec3c-4a5a-4913-8c6c-1ecf9ebdcb75",
   "metadata": {},
   "outputs": [],
   "source": [
    "listings=initProducts()"
   ]
  },
  {
   "cell_type": "code",
   "execution_count": 51,
   "id": "1daaa523-0624-4bea-ac9a-ae3c61ff5c21",
   "metadata": {},
   "outputs": [],
   "source": [
    "l2 = [ [l['item_id'],l.get('main_image_id',''),l['item_name'][0]['value'],l['item_name'][0]['language_tag'],l['product_type'][0]['value'], l['domain_name'],\",\".join(l.get('other_image_id',[]))] for l in listings]"
   ]
  },
  {
   "cell_type": "code",
   "execution_count": 52,
   "id": "0209c330-7f73-46a8-9ea3-c79a212ef25e",
   "metadata": {},
   "outputs": [
    {
     "data": {
      "text/plain": [
       "[{'item_id': 'B0857LX8VK',\n",
       "  'main_image_id': '61kQWDA5EIL',\n",
       "  'product_type': [{'value': 'CELLULAR_PHONE_CASE'}],\n",
       "  'item_name': [{'language_tag': 'en_IN',\n",
       "    'value': 'Amazon Brand - Solimo Designer Red Moon UV Printed Soft Back Case Mobile Cover for LYF\\xa0Water\\xa010'}],\n",
       "  'other_image_id': ['61+woWTqkwL', '61SE4RTPjdL'],\n",
       "  'domain_name': 'amazon.in'},\n",
       " {'item_id': 'B0861MYNRX',\n",
       "  'main_image_id': '71ClawtTlKL',\n",
       "  'product_type': [{'value': 'SHOES'}],\n",
       "  'item_name': [{'language_tag': 'nl_NL',\n",
       "    'value': 'vinden. Ruth-s-sh-1c-2, vrouwen Sling Back Heels,Zwart,8 UK'}],\n",
       "  'other_image_id': ['8134IvwMtfL',\n",
       "   '81ENdE-nmOL',\n",
       "   '81ySKoF47QL',\n",
       "   '714x1EAJADL'],\n",
       "  'domain_name': 'amazon.nl'}]"
      ]
     },
     "execution_count": 52,
     "metadata": {},
     "output_type": "execute_result"
    }
   ],
   "source": [
    "listings[:2]"
   ]
  },
  {
   "cell_type": "code",
   "execution_count": 53,
   "id": "19d8008b-098a-4754-9107-64a38a38e3f4",
   "metadata": {},
   "outputs": [
    {
     "data": {
      "text/plain": [
       "[['B0857LX8VK',\n",
       "  '61kQWDA5EIL',\n",
       "  'Amazon Brand - Solimo Designer Red Moon UV Printed Soft Back Case Mobile Cover for LYF\\xa0Water\\xa010',\n",
       "  'en_IN',\n",
       "  'CELLULAR_PHONE_CASE',\n",
       "  'amazon.in',\n",
       "  '61+woWTqkwL,61SE4RTPjdL'],\n",
       " ['B0861MYNRX',\n",
       "  '71ClawtTlKL',\n",
       "  'vinden. Ruth-s-sh-1c-2, vrouwen Sling Back Heels,Zwart,8 UK',\n",
       "  'nl_NL',\n",
       "  'SHOES',\n",
       "  'amazon.nl',\n",
       "  '8134IvwMtfL,81ENdE-nmOL,81ySKoF47QL,714x1EAJADL']]"
      ]
     },
     "execution_count": 53,
     "metadata": {},
     "output_type": "execute_result"
    }
   ],
   "source": [
    "l2[:2]"
   ]
  },
  {
   "cell_type": "code",
   "execution_count": 56,
   "id": "1c08663e-3ee6-4322-a053-ba5c8d21e01f",
   "metadata": {},
   "outputs": [],
   "source": [
    "df =pd.DataFrame(l2,columns=[\"id\",\"image_id_main\",\"name\",\"language\",\"category\",\"domain\",\"image_ids_other\"])"
   ]
  },
  {
   "cell_type": "code",
   "execution_count": 57,
   "id": "722f52fd-64ec-4371-9bfb-7b79584ce5ea",
   "metadata": {},
   "outputs": [
    {
     "data": {
      "text/html": [
       "<div>\n",
       "<style scoped>\n",
       "    .dataframe tbody tr th:only-of-type {\n",
       "        vertical-align: middle;\n",
       "    }\n",
       "\n",
       "    .dataframe tbody tr th {\n",
       "        vertical-align: top;\n",
       "    }\n",
       "\n",
       "    .dataframe thead th {\n",
       "        text-align: right;\n",
       "    }\n",
       "</style>\n",
       "<table border=\"1\" class=\"dataframe\">\n",
       "  <thead>\n",
       "    <tr style=\"text-align: right;\">\n",
       "      <th></th>\n",
       "      <th>id</th>\n",
       "      <th>image_id_main</th>\n",
       "      <th>name</th>\n",
       "      <th>language</th>\n",
       "      <th>category</th>\n",
       "      <th>domain</th>\n",
       "      <th>image_ids_other</th>\n",
       "    </tr>\n",
       "  </thead>\n",
       "  <tbody>\n",
       "    <tr>\n",
       "      <th>0</th>\n",
       "      <td>B0857LX8VK</td>\n",
       "      <td>61kQWDA5EIL</td>\n",
       "      <td>Amazon Brand - Solimo Designer Red Moon UV Pri...</td>\n",
       "      <td>en_IN</td>\n",
       "      <td>CELLULAR_PHONE_CASE</td>\n",
       "      <td>amazon.in</td>\n",
       "      <td>61+woWTqkwL,61SE4RTPjdL</td>\n",
       "    </tr>\n",
       "    <tr>\n",
       "      <th>1</th>\n",
       "      <td>B0861MYNRX</td>\n",
       "      <td>71ClawtTlKL</td>\n",
       "      <td>vinden. Ruth-s-sh-1c-2, vrouwen Sling Back Hee...</td>\n",
       "      <td>nl_NL</td>\n",
       "      <td>SHOES</td>\n",
       "      <td>amazon.nl</td>\n",
       "      <td>8134IvwMtfL,81ENdE-nmOL,81ySKoF47QL,714x1EAJADL</td>\n",
       "    </tr>\n",
       "    <tr>\n",
       "      <th>2</th>\n",
       "      <td>B0861NJL8Q</td>\n",
       "      <td>711TvbASiPL</td>\n",
       "      <td>find. FERN-S-SH-1-70 Fersenriemen, Blau/Marine...</td>\n",
       "      <td>de_DE</td>\n",
       "      <td>SHOES</td>\n",
       "      <td>amazon.de</td>\n",
       "      <td>81rXWFlGEQL,71Ib5be9J3L,818M-gvo5qL,81b+l1RpB9L</td>\n",
       "    </tr>\n",
       "    <tr>\n",
       "      <th>3</th>\n",
       "      <td>B00UZ7E4KK</td>\n",
       "      <td>91F8oJ3oUaL</td>\n",
       "      <td>AmazonBasics 'Everyday' Drap-housse en coton, ...</td>\n",
       "      <td>fr_FR</td>\n",
       "      <td>HOME_BED_AND_BATH</td>\n",
       "      <td>amazon.fr</td>\n",
       "      <td>81lf9OOumvL,91dBWuD03xL</td>\n",
       "    </tr>\n",
       "    <tr>\n",
       "      <th>4</th>\n",
       "      <td>B07YF2L8YK</td>\n",
       "      <td>71E1C39m8tL</td>\n",
       "      <td>AmazonBasics Flex Style Correction Tape, 6-Pack</td>\n",
       "      <td>en_CA</td>\n",
       "      <td>OFFICE_PRODUCTS</td>\n",
       "      <td>amazon.ca</td>\n",
       "      <td>71EL3apdNWL,61h6xXK3M8L,51d-Pa+EC+L,61mJdxkw4CL</td>\n",
       "    </tr>\n",
       "  </tbody>\n",
       "</table>\n",
       "</div>"
      ],
      "text/plain": [
       "           id image_id_main  \\\n",
       "0  B0857LX8VK   61kQWDA5EIL   \n",
       "1  B0861MYNRX   71ClawtTlKL   \n",
       "2  B0861NJL8Q   711TvbASiPL   \n",
       "3  B00UZ7E4KK   91F8oJ3oUaL   \n",
       "4  B07YF2L8YK   71E1C39m8tL   \n",
       "\n",
       "                                                name language  \\\n",
       "0  Amazon Brand - Solimo Designer Red Moon UV Pri...    en_IN   \n",
       "1  vinden. Ruth-s-sh-1c-2, vrouwen Sling Back Hee...    nl_NL   \n",
       "2  find. FERN-S-SH-1-70 Fersenriemen, Blau/Marine...    de_DE   \n",
       "3  AmazonBasics 'Everyday' Drap-housse en coton, ...    fr_FR   \n",
       "4    AmazonBasics Flex Style Correction Tape, 6-Pack    en_CA   \n",
       "\n",
       "              category     domain  \\\n",
       "0  CELLULAR_PHONE_CASE  amazon.in   \n",
       "1                SHOES  amazon.nl   \n",
       "2                SHOES  amazon.de   \n",
       "3    HOME_BED_AND_BATH  amazon.fr   \n",
       "4      OFFICE_PRODUCTS  amazon.ca   \n",
       "\n",
       "                                   image_ids_other  \n",
       "0                          61+woWTqkwL,61SE4RTPjdL  \n",
       "1  8134IvwMtfL,81ENdE-nmOL,81ySKoF47QL,714x1EAJADL  \n",
       "2  81rXWFlGEQL,71Ib5be9J3L,818M-gvo5qL,81b+l1RpB9L  \n",
       "3                          81lf9OOumvL,91dBWuD03xL  \n",
       "4  71EL3apdNWL,61h6xXK3M8L,51d-Pa+EC+L,61mJdxkw4CL  "
      ]
     },
     "execution_count": 57,
     "metadata": {},
     "output_type": "execute_result"
    }
   ],
   "source": [
    "df.head()"
   ]
  },
  {
   "cell_type": "code",
   "execution_count": 55,
   "id": "9c086421-5673-4feb-a97e-308cb414c894",
   "metadata": {},
   "outputs": [
    {
     "data": {
      "text/plain": [
       "[{'item_id': 'B0857LX8VK',\n",
       "  'main_image_id': '61kQWDA5EIL',\n",
       "  'product_type': [{'value': 'CELLULAR_PHONE_CASE'}],\n",
       "  'item_name': [{'language_tag': 'en_IN',\n",
       "    'value': 'Amazon Brand - Solimo Designer Red Moon UV Printed Soft Back Case Mobile Cover for LYF\\xa0Water\\xa010'}],\n",
       "  'other_image_id': ['61+woWTqkwL', '61SE4RTPjdL'],\n",
       "  'domain_name': 'amazon.in'},\n",
       " {'item_id': 'B0861MYNRX',\n",
       "  'main_image_id': '71ClawtTlKL',\n",
       "  'product_type': [{'value': 'SHOES'}],\n",
       "  'item_name': [{'language_tag': 'nl_NL',\n",
       "    'value': 'vinden. Ruth-s-sh-1c-2, vrouwen Sling Back Heels,Zwart,8 UK'}],\n",
       "  'other_image_id': ['8134IvwMtfL',\n",
       "   '81ENdE-nmOL',\n",
       "   '81ySKoF47QL',\n",
       "   '714x1EAJADL'],\n",
       "  'domain_name': 'amazon.nl'}]"
      ]
     },
     "execution_count": 55,
     "metadata": {},
     "output_type": "execute_result"
    }
   ],
   "source": [
    "listings[:2]"
   ]
  },
  {
   "cell_type": "code",
   "execution_count": 6,
   "id": "274ea79c-f5c7-4277-a583-b077ebe25280",
   "metadata": {},
   "outputs": [],
   "source": [
    "from faker import Faker\n",
    "fake = Faker()"
   ]
  },
  {
   "cell_type": "code",
   "execution_count": 20,
   "id": "5321bfb2-98be-4b9c-b44d-7eb1ba6974ad",
   "metadata": {},
   "outputs": [],
   "source": [
    "def getRandomUser():\n",
    "    name = fake.name()\n",
    "    email = fake.email() \n",
    "    address = fake.address()\n",
    "    date_joined = fake.date_time_this_century()\n",
    "    return [ name, email, address, date_joined]"
   ]
  },
  {
   "cell_type": "code",
   "execution_count": null,
   "id": "eda2ed97-6ae9-43f2-9a89-939e983de4c8",
   "metadata": {},
   "outputs": [],
   "source": [
    "def getRandomProduct():\n",
    "    name = fake.prod"
   ]
  },
  {
   "cell_type": "code",
   "execution_count": 21,
   "id": "354e3323-7e7b-4c94-8438-518514e92e9c",
   "metadata": {},
   "outputs": [
    {
     "ename": "IndentationError",
     "evalue": "expected an indented block (191213573.py, line 1)",
     "output_type": "error",
     "traceback": [
      "\u001b[0;36m  File \u001b[0;32m\"/tmp/ipykernel_796/191213573.py\"\u001b[0;36m, line \u001b[0;32m1\u001b[0m\n\u001b[0;31m    def gadgetLover():\u001b[0m\n\u001b[0m                      ^\u001b[0m\n\u001b[0;31mIndentationError\u001b[0m\u001b[0;31m:\u001b[0m expected an indented block\n"
     ]
    }
   ],
   "source": [
    "def gadgetLover():\n"
   ]
  },
  {
   "cell_type": "code",
   "execution_count": 22,
   "id": "0968a33b-c7e8-403b-8a56-bd2c4ec39dde",
   "metadata": {},
   "outputs": [
    {
     "data": {
      "text/plain": [
       "['Robert Wall',\n",
       " 'owaters@example.com',\n",
       " '0623 Logan Well Apt. 586\\nCrystalborough, MA 50927',\n",
       " datetime.datetime(2016, 3, 30, 1, 27, 44)]"
      ]
     },
     "execution_count": 22,
     "metadata": {},
     "output_type": "execute_result"
    }
   ],
   "source": [
    "getRandomUser()"
   ]
  },
  {
   "cell_type": "code",
   "execution_count": 5,
   "id": "71d2fe67-a527-46f2-9e7d-4638a4d08076",
   "metadata": {},
   "outputs": [
    {
     "data": {
      "text/plain": [
       "'David Mcmahon'"
      ]
     },
     "execution_count": 5,
     "metadata": {},
     "output_type": "execute_result"
    }
   ],
   "source": [
    "fake.name()"
   ]
  },
  {
   "cell_type": "code",
   "execution_count": null,
   "id": "e4897300-d128-48a9-bff2-30659ab1908a",
   "metadata": {},
   "outputs": [],
   "source": []
  }
 ],
 "metadata": {
  "kernelspec": {
   "display_name": "default:Python",
   "language": "python",
   "name": "conda-env-default-py"
  },
  "language_info": {
   "codemirror_mode": {
    "name": "ipython",
    "version": 3
   },
   "file_extension": ".py",
   "mimetype": "text/x-python",
   "name": "python",
   "nbconvert_exporter": "python",
   "pygments_lexer": "ipython3",
   "version": "3.9.7"
  }
 },
 "nbformat": 4,
 "nbformat_minor": 5
}
