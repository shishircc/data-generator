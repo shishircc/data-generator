{
 "cells": [
  {
   "cell_type": "markdown",
   "id": "52635b0a-49f3-46a0-8f72-a3918d5ea857",
   "metadata": {},
   "source": [
    "## Data Gen"
   ]
  },
  {
   "cell_type": "markdown",
   "id": "21a53224-f1b3-47b0-b201-4098bcc7c198",
   "metadata": {},
   "source": [
    "I want to create a retail data mart\n",
    "\n",
    "This has tables like\n",
    "\n",
    "1. ClickLogs (sessionid, deviceid, userid, id, pageurl, previousurl, time) \n",
    "2. Users (id, name#, email#, address#, country#, join_date)\n",
    "3. Products\n",
    "4. Sale\n",
    "5. AddToCart\n",
    "6. Returns \n",
    "7. Categories \n"
   ]
  },
  {
   "cell_type": "code",
   "execution_count": 1,
   "id": "d135b2f4-1f9b-4a9e-b6dd-439b4a7d10b0",
   "metadata": {},
   "outputs": [
    {
     "name": "stdout",
     "output_type": "stream",
     "text": [
      "Collecting Faker\n",
      "  Downloading Faker-11.3.0-py3-none-any.whl (1.2 MB)\n",
      "\u001b[K     |████████████████████████████████| 1.2 MB 2.8 MB/s eta 0:00:01\n",
      "\u001b[?25hCollecting text-unidecode==1.3\n",
      "  Downloading text_unidecode-1.3-py2.py3-none-any.whl (78 kB)\n",
      "\u001b[K     |████████████████████████████████| 78 kB 9.7 MB/s  eta 0:00:01\n",
      "\u001b[?25hRequirement already satisfied: python-dateutil>=2.4 in /home/studio-lab-user/.conda/envs/default/lib/python3.9/site-packages (from Faker) (2.8.2)\n",
      "Requirement already satisfied: six>=1.5 in /home/studio-lab-user/.conda/envs/default/lib/python3.9/site-packages (from python-dateutil>=2.4->Faker) (1.16.0)\n",
      "Installing collected packages: text-unidecode, Faker\n",
      "Successfully installed Faker-11.3.0 text-unidecode-1.3\n"
     ]
    }
   ],
   "source": [
    "!pip install Faker "
   ]
  },
  {
   "cell_type": "code",
   "execution_count": 24,
   "id": "07c40842-8379-41b8-ba29-2e55a16b0bc5",
   "metadata": {},
   "outputs": [
    {
     "name": "stdout",
     "output_type": "stream",
     "text": [
      "Collecting pandas\n",
      "  Downloading pandas-1.3.5-cp39-cp39-manylinux_2_17_x86_64.manylinux2014_x86_64.whl (11.5 MB)\n",
      "\u001b[K     |████████████████████████████████| 11.5 MB 3.3 MB/s eta 0:00:01\n",
      "\u001b[?25hRequirement already satisfied: python-dateutil>=2.7.3 in /home/studio-lab-user/.conda/envs/default/lib/python3.9/site-packages (from pandas) (2.8.2)\n",
      "Collecting pytz>=2017.3\n",
      "  Downloading pytz-2021.3-py2.py3-none-any.whl (503 kB)\n",
      "\u001b[K     |████████████████████████████████| 503 kB 76.7 MB/s eta 0:00:01\n",
      "\u001b[?25hRequirement already satisfied: numpy>=1.17.3 in /home/studio-lab-user/.conda/envs/default/lib/python3.9/site-packages (from pandas) (1.21.4)\n",
      "Requirement already satisfied: six>=1.5 in /home/studio-lab-user/.conda/envs/default/lib/python3.9/site-packages (from python-dateutil>=2.7.3->pandas) (1.16.0)\n",
      "Installing collected packages: pytz, pandas\n",
      "Successfully installed pandas-1.3.5 pytz-2021.3\n"
     ]
    }
   ],
   "source": [
    "!pip install pandas"
   ]
  },
  {
   "cell_type": "code",
   "execution_count": 7,
   "id": "6c4463aa-b86f-44fc-bed9-d61cf55ad1af",
   "metadata": {},
   "outputs": [],
   "source": [
    "import pandas as pd"
   ]
  },
  {
   "cell_type": "code",
   "execution_count": 30,
   "id": "54d48049-1349-49ec-a7e0-6aa746da1902",
   "metadata": {},
   "outputs": [
    {
     "data": {
      "text/plain": [
       "('listing3.json', <http.client.HTTPMessage at 0x7ffae4263550>)"
      ]
     },
     "execution_count": 30,
     "metadata": {},
     "output_type": "execute_result"
    }
   ],
   "source": [
    "# import urllib\n",
    "# urllib.request.urlretrieve(\"https://amazon-berkeley-objects.s3.amazonaws.com/static_html/assets/listings.json\", \"listing3.json\")"
   ]
  },
  {
   "cell_type": "code",
   "execution_count": 24,
   "id": "5ef81789-42f2-42bd-9370-0dbe6bd3fb99",
   "metadata": {},
   "outputs": [],
   "source": [
    "import json \n",
    "\n",
    "\n",
    "\n",
    "def getProducts():\n",
    "    if (getProducts._products is None):\n",
    "        lines = open(\"listings.json\").readlines()\n",
    "        l1 = [json.loads(line) for line in lines]\n",
    "        l2 = [ [l['item_id'],l.get('main_image_id',''),l['item_name'][0]['value'],l['item_name'][0]['language_tag'],l['product_type'][0]['value'], l['domain_name'],\",\".join(l.get('other_image_id',[]))] for l in l1]\n",
    "        getProducts._products = pd.DataFrame(l2,columns=[\"id\",\"image_id_main\",\"name\",\"language\",\"category\",\"domain\",\"image_ids_other\"])\n",
    "    return getProducts._products\n",
    "\n",
    "getProducts._products = None\n",
    "    "
   ]
  },
  {
   "cell_type": "code",
   "execution_count": 27,
   "id": "181fec3c-4a5a-4913-8c6c-1ecf9ebdcb75",
   "metadata": {},
   "outputs": [],
   "source": [
    "listings=getProducts()"
   ]
  },
  {
   "cell_type": "code",
   "execution_count": 28,
   "id": "0209c330-7f73-46a8-9ea3-c79a212ef25e",
   "metadata": {},
   "outputs": [
    {
     "data": {
      "text/html": [
       "<div>\n",
       "<style scoped>\n",
       "    .dataframe tbody tr th:only-of-type {\n",
       "        vertical-align: middle;\n",
       "    }\n",
       "\n",
       "    .dataframe tbody tr th {\n",
       "        vertical-align: top;\n",
       "    }\n",
       "\n",
       "    .dataframe thead th {\n",
       "        text-align: right;\n",
       "    }\n",
       "</style>\n",
       "<table border=\"1\" class=\"dataframe\">\n",
       "  <thead>\n",
       "    <tr style=\"text-align: right;\">\n",
       "      <th></th>\n",
       "      <th>id</th>\n",
       "      <th>image_id_main</th>\n",
       "      <th>name</th>\n",
       "      <th>language</th>\n",
       "      <th>category</th>\n",
       "      <th>domain</th>\n",
       "      <th>image_ids_other</th>\n",
       "    </tr>\n",
       "  </thead>\n",
       "  <tbody>\n",
       "    <tr>\n",
       "      <th>0</th>\n",
       "      <td>B0857LX8VK</td>\n",
       "      <td>61kQWDA5EIL</td>\n",
       "      <td>Amazon Brand - Solimo Designer Red Moon UV Pri...</td>\n",
       "      <td>en_IN</td>\n",
       "      <td>CELLULAR_PHONE_CASE</td>\n",
       "      <td>amazon.in</td>\n",
       "      <td>61+woWTqkwL,61SE4RTPjdL</td>\n",
       "    </tr>\n",
       "    <tr>\n",
       "      <th>1</th>\n",
       "      <td>B0861MYNRX</td>\n",
       "      <td>71ClawtTlKL</td>\n",
       "      <td>vinden. Ruth-s-sh-1c-2, vrouwen Sling Back Hee...</td>\n",
       "      <td>nl_NL</td>\n",
       "      <td>SHOES</td>\n",
       "      <td>amazon.nl</td>\n",
       "      <td>8134IvwMtfL,81ENdE-nmOL,81ySKoF47QL,714x1EAJADL</td>\n",
       "    </tr>\n",
       "  </tbody>\n",
       "</table>\n",
       "</div>"
      ],
      "text/plain": [
       "           id image_id_main  \\\n",
       "0  B0857LX8VK   61kQWDA5EIL   \n",
       "1  B0861MYNRX   71ClawtTlKL   \n",
       "\n",
       "                                                name language  \\\n",
       "0  Amazon Brand - Solimo Designer Red Moon UV Pri...    en_IN   \n",
       "1  vinden. Ruth-s-sh-1c-2, vrouwen Sling Back Hee...    nl_NL   \n",
       "\n",
       "              category     domain  \\\n",
       "0  CELLULAR_PHONE_CASE  amazon.in   \n",
       "1                SHOES  amazon.nl   \n",
       "\n",
       "                                   image_ids_other  \n",
       "0                          61+woWTqkwL,61SE4RTPjdL  \n",
       "1  8134IvwMtfL,81ENdE-nmOL,81ySKoF47QL,714x1EAJADL  "
      ]
     },
     "execution_count": 28,
     "metadata": {},
     "output_type": "execute_result"
    }
   ],
   "source": [
    "listings[:2]"
   ]
  },
  {
   "cell_type": "code",
   "execution_count": 9,
   "id": "722f52fd-64ec-4371-9bfb-7b79584ce5ea",
   "metadata": {},
   "outputs": [
    {
     "data": {
      "text/html": [
       "<div>\n",
       "<style scoped>\n",
       "    .dataframe tbody tr th:only-of-type {\n",
       "        vertical-align: middle;\n",
       "    }\n",
       "\n",
       "    .dataframe tbody tr th {\n",
       "        vertical-align: top;\n",
       "    }\n",
       "\n",
       "    .dataframe thead th {\n",
       "        text-align: right;\n",
       "    }\n",
       "</style>\n",
       "<table border=\"1\" class=\"dataframe\">\n",
       "  <thead>\n",
       "    <tr style=\"text-align: right;\">\n",
       "      <th></th>\n",
       "      <th>id</th>\n",
       "      <th>image_id_main</th>\n",
       "      <th>name</th>\n",
       "      <th>language</th>\n",
       "      <th>category</th>\n",
       "      <th>domain</th>\n",
       "      <th>image_ids_other</th>\n",
       "    </tr>\n",
       "  </thead>\n",
       "  <tbody>\n",
       "    <tr>\n",
       "      <th>0</th>\n",
       "      <td>B0857LX8VK</td>\n",
       "      <td>61kQWDA5EIL</td>\n",
       "      <td>Amazon Brand - Solimo Designer Red Moon UV Pri...</td>\n",
       "      <td>en_IN</td>\n",
       "      <td>CELLULAR_PHONE_CASE</td>\n",
       "      <td>amazon.in</td>\n",
       "      <td>61+woWTqkwL,61SE4RTPjdL</td>\n",
       "    </tr>\n",
       "    <tr>\n",
       "      <th>1</th>\n",
       "      <td>B0861MYNRX</td>\n",
       "      <td>71ClawtTlKL</td>\n",
       "      <td>vinden. Ruth-s-sh-1c-2, vrouwen Sling Back Hee...</td>\n",
       "      <td>nl_NL</td>\n",
       "      <td>SHOES</td>\n",
       "      <td>amazon.nl</td>\n",
       "      <td>8134IvwMtfL,81ENdE-nmOL,81ySKoF47QL,714x1EAJADL</td>\n",
       "    </tr>\n",
       "    <tr>\n",
       "      <th>2</th>\n",
       "      <td>B0861NJL8Q</td>\n",
       "      <td>711TvbASiPL</td>\n",
       "      <td>find. FERN-S-SH-1-70 Fersenriemen, Blau/Marine...</td>\n",
       "      <td>de_DE</td>\n",
       "      <td>SHOES</td>\n",
       "      <td>amazon.de</td>\n",
       "      <td>81rXWFlGEQL,71Ib5be9J3L,818M-gvo5qL,81b+l1RpB9L</td>\n",
       "    </tr>\n",
       "    <tr>\n",
       "      <th>3</th>\n",
       "      <td>B00UZ7E4KK</td>\n",
       "      <td>91F8oJ3oUaL</td>\n",
       "      <td>AmazonBasics 'Everyday' Drap-housse en coton, ...</td>\n",
       "      <td>fr_FR</td>\n",
       "      <td>HOME_BED_AND_BATH</td>\n",
       "      <td>amazon.fr</td>\n",
       "      <td>81lf9OOumvL,91dBWuD03xL</td>\n",
       "    </tr>\n",
       "    <tr>\n",
       "      <th>4</th>\n",
       "      <td>B07YF2L8YK</td>\n",
       "      <td>71E1C39m8tL</td>\n",
       "      <td>AmazonBasics Flex Style Correction Tape, 6-Pack</td>\n",
       "      <td>en_CA</td>\n",
       "      <td>OFFICE_PRODUCTS</td>\n",
       "      <td>amazon.ca</td>\n",
       "      <td>71EL3apdNWL,61h6xXK3M8L,51d-Pa+EC+L,61mJdxkw4CL</td>\n",
       "    </tr>\n",
       "  </tbody>\n",
       "</table>\n",
       "</div>"
      ],
      "text/plain": [
       "           id image_id_main  \\\n",
       "0  B0857LX8VK   61kQWDA5EIL   \n",
       "1  B0861MYNRX   71ClawtTlKL   \n",
       "2  B0861NJL8Q   711TvbASiPL   \n",
       "3  B00UZ7E4KK   91F8oJ3oUaL   \n",
       "4  B07YF2L8YK   71E1C39m8tL   \n",
       "\n",
       "                                                name language  \\\n",
       "0  Amazon Brand - Solimo Designer Red Moon UV Pri...    en_IN   \n",
       "1  vinden. Ruth-s-sh-1c-2, vrouwen Sling Back Hee...    nl_NL   \n",
       "2  find. FERN-S-SH-1-70 Fersenriemen, Blau/Marine...    de_DE   \n",
       "3  AmazonBasics 'Everyday' Drap-housse en coton, ...    fr_FR   \n",
       "4    AmazonBasics Flex Style Correction Tape, 6-Pack    en_CA   \n",
       "\n",
       "              category     domain  \\\n",
       "0  CELLULAR_PHONE_CASE  amazon.in   \n",
       "1                SHOES  amazon.nl   \n",
       "2                SHOES  amazon.de   \n",
       "3    HOME_BED_AND_BATH  amazon.fr   \n",
       "4      OFFICE_PRODUCTS  amazon.ca   \n",
       "\n",
       "                                   image_ids_other  \n",
       "0                          61+woWTqkwL,61SE4RTPjdL  \n",
       "1  8134IvwMtfL,81ENdE-nmOL,81ySKoF47QL,714x1EAJADL  \n",
       "2  81rXWFlGEQL,71Ib5be9J3L,818M-gvo5qL,81b+l1RpB9L  \n",
       "3                          81lf9OOumvL,91dBWuD03xL  \n",
       "4  71EL3apdNWL,61h6xXK3M8L,51d-Pa+EC+L,61mJdxkw4CL  "
      ]
     },
     "execution_count": 9,
     "metadata": {},
     "output_type": "execute_result"
    }
   ],
   "source": [
    "listings[listings.language].head()"
   ]
  },
  {
   "cell_type": "code",
   "execution_count": 10,
   "id": "1e1128f9-5a10-47b7-be89-c3401b86fd1c",
   "metadata": {},
   "outputs": [
    {
     "data": {
      "text/plain": [
       "array(['CELLULAR_PHONE_CASE', 'SHOES', 'HOME_BED_AND_BATH',\n",
       "       'OFFICE_PRODUCTS', 'HOME_FURNITURE_AND_DECOR', 'SUITCASE',\n",
       "       'STORAGE_HOOK', 'HOME', 'FINERING', 'BOOT', 'FLATWARE',\n",
       "       'SPORTING_GOODS', 'BAKING_PAN', 'EYELID_COLOR', 'BED', 'TABLE',\n",
       "       'CABINET', 'LAMP', 'EXERCISE_MAT', 'HAT', 'SHELF', 'SCREWDRIVER',\n",
       "       'PLANTER', 'TOOLS', 'CHARGING_ADAPTER', 'HARDWARE', 'GROCERY',\n",
       "       'ACCESSORY_OR_PART_OR_SUPPLY', 'SANDAL', 'LAUNDRY_HAMPER', 'BISS',\n",
       "       'PET_SUPPLIES', 'ACCESSORY', 'FINEEARRING', 'MUSCLE_ROLLER',\n",
       "       'PORTABLE_ELECTRONIC_DEVICE_MOUNT', 'SKIN_CLEANING_WIPE',\n",
       "       'LIGHT_FIXTURE', 'HARDWARE_HANDLE', 'PLUMBING_FIXTURE', 'SOFA',\n",
       "       'DUTCH_OVENS', 'DRINKING_CUP', 'OUTDOOR_LIVING', 'AREA_DEODORIZER',\n",
       "       'SAFETY_SUPPLY', 'PORTABLE_ELECTRONIC_DEVICE_STAND', 'MEDICATION',\n",
       "       'HAIR_REMOVAL_AGENT', 'STRING_LIGHT', 'BACKPACK', 'BATTERY',\n",
       "       'WIRELESS_ACCESSORY', 'PORTABLE_ELECTRONIC_DEVICE_COVER',\n",
       "       'NUTRITIONAL_SUPPLEMENT', 'RING', 'ABIS_LAWN_AND_GARDEN',\n",
       "       'FINENECKLACEBRACELETANKLET', 'SPEAKERS', 'LIGHT_SOURCE',\n",
       "       'TOOTH_CLEANING_AGENT', 'TOYS_AND_GAMES', 'CHAIR',\n",
       "       'THERMOPLASTIC_FILAMENT', 'JANITORIAL_SUPPLY', 'OTTOMAN', 'HERB',\n",
       "       'WINE', 'DRILL_BITS', 'ABIS_KITCHEN', 'FOOD_SERVICE_SUPPLY',\n",
       "       'PITCHER', 'UMBRELLA', 'HEADBOARD', 'DRYING_RACK', 'LOCK',\n",
       "       'HEADPHONES', 'KITCHEN', 'BREAD', 'INPUT_MOUSE', 'RECREATION_BALL',\n",
       "       'FLAT_SHEET', 'HEALTH_PERSONAL_CARE', 'STOOL_SEATING', 'HANDBAG',\n",
       "       'CAMERA_SUPPORT', 'SKIN_CLEANING_AGENT', 'LUGGAGE', 'WRENCH',\n",
       "       'LABEL', 'TOTE_BAG', 'CLEANING_AGENT', 'CLOTHES_HANGER', 'DRESSER',\n",
       "       'AUTO_PART', 'VITAMIN', 'PORTABLE_TOOL_BOX',\n",
       "       'DAIRY_BASED_ICE_CREAM', 'CAMERA_TRIPOD', 'EARRING',\n",
       "       'INSTRUMENT_PARTS_AND_ACCESSORIES', 'FILE_FOLDER', 'SUNSCREEN',\n",
       "       'WASTE_BAG', 'MEASURING_CUP', 'BARBELL', 'AUTO_ACCESSORY',\n",
       "       'SWATCH', 'COFFEE', 'VASE', 'FURNITURE_COVER', 'DESK', 'EARMUFF',\n",
       "       'HARDWARE_TUBING', 'WRITING_BOARD', 'PROTEIN_SUPPLEMENT_POWDER',\n",
       "       'PERCUSSION_INSTRUMENTS', 'OUTDOOR_RECREATION_PRODUCT',\n",
       "       'JUICE_AND_JUICE_DRINK', 'STORAGE_BINDER', 'MAJOR_HOME_APPLIANCES',\n",
       "       'SCREEN_PROTECTOR', 'FLAT_SCREEN_DISPLAY_MOUNT', 'WALLET',\n",
       "       'FURNITURE', 'SAUTE_FRY_PAN', 'BED_FRAME', 'MARKING_PEN',\n",
       "       'STORAGE_BAG', 'BEAUTY', 'TECHNICAL_SPORT_SHOE', 'PAPER_PRODUCT',\n",
       "       'VACUUM_CLEANER', 'LIP_COLOR', 'NOODLE',\n",
       "       'CAMERA_OTHER_ACCESSORIES', 'EXERCISE_BAND', 'JEWELRY_STORAGE',\n",
       "       'OVERALLS', 'STAPLER', 'FOOD_BLENDER', 'CANDLE_HOLDER',\n",
       "       'VEHICLE_SEAT_COVER', 'TOASTER', 'FOOD_MIXER', 'MULTIPORT_HUB',\n",
       "       'MICROPHONE', 'DAIRY_BASED_DRINK', 'TRASH_CAN', 'BASKET', 'HONEY',\n",
       "       'HOME_LIGHTING_AND_LAMPS', 'MOUSE_PAD', 'BENCH', 'HUMIDIFIER',\n",
       "       'DISHWARE_PLATE', 'BEAN_BAG_CHAIR', 'BOTTLE', 'DAIRY_BASED_CHEESE',\n",
       "       'TOWEL_HOLDER', 'SAUCE', 'SNACK_FOOD_BAR',\n",
       "       'HOME_LIGHTING_ACCESSORY', 'LIGHT_BULB', 'MECHANICAL_COMPONENTS',\n",
       "       'TEACHING_EQUIPMENT', 'FLASH_MEMORY', 'ANIMAL_LITTER',\n",
       "       'CLEANING_BRUSH', 'NECKLACE', 'BUCKET',\n",
       "       'COMPUTER_DRIVE_OR_STORAGE', 'SOUND_AND_RECORDING_EQUIPMENT',\n",
       "       'THERMOMETER', 'ELECTROMECHANICAL_GAUGE', 'DISHWARE_PLACE_SETTING',\n",
       "       'VALVE', 'BAG', 'LAUNDRY_DETERGENT', 'FRUIT', 'PINBOARD',\n",
       "       'WIRELESS_LOCKED_PHONE', 'ABIS_HOME_IMPROVEMENT', 'SAFE',\n",
       "       'AMAZON_TABLET_ACCESSORY', 'STORAGE_DRAWER', 'AIR_CONDITIONER',\n",
       "       'PROFESSIONAL_HEALTHCARE', 'OFFICE_ELECTRONICS', 'MOUTHWASH',\n",
       "       'WRITING_INSTRUMENT', 'MINERAL_SUPPLEMENT', 'ELECTRONIC_ADAPTER',\n",
       "       'FINEOTHER', 'HOME_ORGANIZERS_AND_STORAGE', 'PLIERS',\n",
       "       'STORAGE_BOX', 'AUTO_OIL', 'KITCHEN_KNIFE',\n",
       "       'POWER_SUPPLIES_OR_PROTECTION', 'SALWAR_SUIT_SET',\n",
       "       'NETWORKING_DEVICE', 'STEERING_WHEEL_COVER', 'TOILET_PAPER_HOLDER',\n",
       "       'HERBAL_SUPPLEMENT', 'FASTENER_DRIVE_BIT', 'FASHIONEARRING',\n",
       "       'CLOTHES_RACK', 'SKIN_MOISTURIZER', 'CAMERA_BAGS_AND_CASES',\n",
       "       'FOOD_SLICER', 'WINDOW_SHADE', 'TEA', 'STRINGED_INSTRUMENTS',\n",
       "       'DOORSTOP', 'WOUND_DRESSING', 'COMPUTER_SPEAKER', 'ENVELOPE',\n",
       "       'COSMETIC_CASE', 'ELECTRIC_FAN', 'EARPLUG', 'CONDITIONER',\n",
       "       'MASSAGE_STICK', 'VIDEO_GAME_ACCESSORIES', 'ABIS_BEAUTY',\n",
       "       'INK_OR_TONER', 'WATER', 'TREADMILL', 'ASTRINGENT_SUBSTANCE',\n",
       "       'POULTRY', 'NOTEBOOK_COMPUTER', 'SAFETY_GLASSES',\n",
       "       'NETWORK_INTERFACE_CONTROLLER_ADAPTER', 'PANTRY', 'COMPUTER',\n",
       "       'DAIRY_BASED_CREAM', 'ABIS_DRUGSTORE', 'EDIBLE_OIL_VEGETABLE',\n",
       "       'SCISSORS', 'PUMP_DISPENSER', 'ABIS_ELECTRONICS',\n",
       "       'CARRYING_CASE_OR_BAG', 'BOTTLE_OPENER', 'PLACEMAT',\n",
       "       'GOLF_CLUB_BAG', 'COMPUTER_COMPONENT', 'ORTHOPEDIC_BRACE',\n",
       "       'FURNITURE_LINER', 'BODY_POSITIONER', 'RAZOR_BLADE_CARTRIDGE',\n",
       "       'LEGUME', 'FACIAL_TISSUE', 'TOOTHBRUSH_HOLDER',\n",
       "       'VEHICLE_INTERIOR_SHADE', 'MULTITOOL', 'PHONE_ACCESSORY',\n",
       "       'ROASTING_PAN', 'SHEET_PAN', 'BOTTLE_RACK', 'BRACELET', 'JAR',\n",
       "       'SNACK_CHIP_AND_CRISP', 'BAKING_CUP', 'COMPUTER_ADD_ON', 'CLOCK',\n",
       "       'FAUCET', 'VEGETABLE', 'WATER_PURIFICATION_UNIT',\n",
       "       'CHOCOLATE_CANDY', 'BABY_PRODUCT', 'NAIL_POLISH',\n",
       "       'BREAKFAST_CEREAL', 'CANDLE', 'FASHIONRING', 'PET_PEST_CONTROL',\n",
       "       'BINOCULAR', 'SECURITY_ELECTRONICS', 'MEAT', 'PAINT_BRUSH', 'CAKE',\n",
       "       'HARDWARE_HINGE', 'PRINT_COPY_PAPER', 'CANDY', 'BROOM',\n",
       "       'STORAGE_RACK', 'COOKIE', 'LEOTARD', 'HAIRBAND', 'AV_FURNITURE',\n",
       "       'BAKING_PAPER', 'FISH', 'KEYBOARDS', 'NUT_BUTTER', 'FASHIONOTHER',\n",
       "       'CE_ACCESSORY', 'WILDLIFE_FEEDER', 'PERSONAL_CARE_APPLIANCE',\n",
       "       'PORTABLE_AUDIO', 'RADIO', 'FOOD_STORAGE_BAG', 'MEAL_HOLDER',\n",
       "       'FACE_SHAPING_MAKEUP', 'CARD_STOCK', 'VEHICLE_LIGHT_BULB',\n",
       "       'UTILITY_KNIFE', 'RUG_PAD', 'CAMERA_LENS_FILTERS', 'HAIR_COMB',\n",
       "       'SWEATBAND', 'LITTER_BOX', 'WEIGH_SCALE', 'TOILET_SEAT',\n",
       "       'CARGO_STRAP', 'BLANK_MEDIA', 'BATHWATER_ADDITIVE',\n",
       "       'UTILITY_CART_WAGON', 'DISHWASHER_DETERGENT',\n",
       "       'MANUAL_SHAVING_RAZOR', 'PERSONAL_COMPUTER', 'SNACK_MIX',\n",
       "       'CONSUMER_ELECTRONICS', 'ANTENNA', 'SALAD_DRESSING', 'TOOTHBRUSH',\n",
       "       'FREESTANDING_SHELTER', 'CAN_OPENER',\n",
       "       'FASHIONNECKLACEBRACELETANKLET', 'SHAMPOO', 'PAPER_TOWEL_HOLDER',\n",
       "       'DISHWARE_BOWL', 'BOOKEND', 'EYEWEAR', 'FOOD_PREPARATION_MOLD',\n",
       "       'PRESSURE_COOKER', 'TRANSPORT_RACK', 'SHIPPING_BOX',\n",
       "       'LICENSE_PLATE_ATTACHMENT', 'VIDEO_PROJECTOR', 'JERKY',\n",
       "       'CAR_AUDIO_OR_THEATER', 'HAIR_IRON', 'INKJET_PRINTER_INK',\n",
       "       'REMOTE_CONTROL', 'MEDIA_STORAGE', 'SELF_STICK_NOTE',\n",
       "       'STICKER_DECAL', 'PACIFIER', 'PACKAGED_SOUP_AND_STEW',\n",
       "       'AUTO_CHEMICAL', 'FOOD_PROCESSOR', 'POWER_STRIP',\n",
       "       'SYSTEM_POWER_DEVICE', 'SHOWERHEAD', 'THERMOS', 'DISHWASHER',\n",
       "       'INPUT_PEN', 'GPS_OR_NAVIGATION_SYSTEM', 'CAR_ELECTRONICS',\n",
       "       'KNIFE_BLOCK_SET', 'VINEGAR', 'NUTS', 'POT_HOLDER',\n",
       "       'CE_CARRYING_CASE_OR_BAG', 'COSMETIC_BRUSH', 'FUEL_PUMP',\n",
       "       'BARBECUE_GRILL', 'ARTIFICIAL_TREE', 'FLOUR', 'DRINKING_STRAW',\n",
       "       'WHEEL', 'MICROSCOPES', 'ICE_CHEST', 'TOY_SLIME', 'JEWELRY_SET',\n",
       "       'FOUNTAIN', 'REFRIGERATOR', 'PRETZEL', 'BODY_DEODORANT', 'JUICER',\n",
       "       'FRUIT_SNACK', 'LADDER', 'ART_AND_CRAFT_SUPPLY',\n",
       "       'ELECTRIC_WATER_BOILER', 'ABIS_BOOK', 'EDUCATIONAL_SUPPLIES',\n",
       "       'ROBOTIC_VACUUM_CLEANER', 'POWER_CONVERTER', 'SPORT_RACKET',\n",
       "       'WATCH', 'DRINK_FLAVORED', 'ROOM_DIVIDER', 'MONITOR', 'FIGURINE',\n",
       "       'EYEBROW_COLOR', 'ARTIFICIAL_PLANT', 'PET_APPAREL',\n",
       "       'LANDLINE_PHONE', 'WATER_PUMP', 'SPORT_TABLE_GAME', 'SUGAR',\n",
       "       'CRACKER', 'DEHUMIDIFIER', 'AUDIO_OR_VIDEO', 'DIETARY_SUPPLEMENTS',\n",
       "       'COFFEE_MAKER', 'DAIRY_BASED_BUTTER', 'AIR_MATTRESS', 'CASSEROLES',\n",
       "       'SAW_BLADE', 'TENT', 'VEHICLE_SAFETY_CAMERA', 'DRINK_COASTER',\n",
       "       'BAKING_MIX', 'POPCORN', 'SHOE_INSERT', 'PORTABLE_AV_DEVICE',\n",
       "       'TELEVISION', 'VACUUM_SEALER_MACHINE', 'WASHER_DRYER_COMBINATION',\n",
       "       'COOKIE_CUTTER', 'CAMCORDER', 'BADGE_HOLDER', 'SLEEPING_BAG',\n",
       "       'RECEIVER_OR_AMPLIFIER', 'MILK_SUBSTITUTE', 'PUNCHING_BAG',\n",
       "       'BREAD_MAKING_MACHINE', 'MICROWAVE_OVEN',\n",
       "       'PERSONAL_PILL_DISPENSER', 'MASCARA', 'SKATEBOARD', 'RICE_COOKERS',\n",
       "       'PHONE', 'SUNGLASSES', 'ESSENTIAL_OIL', 'COMPUTER_INPUT_DEVICE',\n",
       "       'HARDWARE_CLAMP_VISE', 'LAB_SUPPLY', 'CYCLING_EQUIPMENT',\n",
       "       'SPIRITS', 'CADDY', 'HAIR_STYLING_AGENT', 'STROLLER', 'SEALS',\n",
       "       'JEWELRY', 'CHILDRENS_COSTUME', 'BABY_BOTTLE', 'SKIN_EXFOLIANT',\n",
       "       'AIR_COMPRESSOR', 'VEHICLE_LIGHT_ASSEMBLY', 'FITNESS_BENCH',\n",
       "       'GPS_OR_NAVIGATION_ACCESSORY', 'MASSAGER', 'LEAVENING_AGENT',\n",
       "       'KITCHEN_TOOLS', 'TOY_BUILDING_BLOCK', 'PASTRY', 'TABLETOP_GAME',\n",
       "       'COUNTERTOP_GRIDDLE_APPLIANCE', 'TOY_FIGURE', 'NON_DAIRY_CREAM',\n",
       "       'SCULPTURE', 'TRACK_SUIT', 'BOXING_GLOVE', 'PET_TOY', 'PUZZLES',\n",
       "       'INCENSE', 'VIDEO_DEVICE', 'AV_RECEIVER', 'MEMORY_READER',\n",
       "       'GUITARS', 'INFANT_TODDLER_CAR_SEAT',\n",
       "       'COMPUTER_INPUT_DEVICE_ACCESSORY', 'ABIS_VIDEO_GAMES', 'CHARM',\n",
       "       'WALKING_STICK', 'COSMETIC_POWDER', 'DEEP_FRYER', 'POWER_BANK',\n",
       "       'CAMERA_FLASH', 'WRITING_PAPER', 'LIP_BALM', 'AIR_PUMP',\n",
       "       'TELESCOPE', 'SWING', 'RICE_MIX', 'SHOVEL_SPADE', 'VIVARIUM',\n",
       "       'ABIS_PET_PRODUCTS', 'SKIN_TREATMENT_MASK',\n",
       "       'ELECTRONIC_DEVICE_DOCKING_STATION', 'SUGAR_SUBSTITUTE',\n",
       "       'AIR_FRYER', 'PORTABLE_STOVE', 'GOLF_CLUB', 'DRILL', 'CALCULATOR',\n",
       "       'POWERSPORTS_VEHICLE_PART', 'HAIR_CLEANER_CONDITIONER',\n",
       "       'ROWING_MACHINE', 'PROTEIN_DRINK', 'TWO_WAY_RADIO', 'OUTBUILDING',\n",
       "       'HAIR_BRUSH', 'CHANGING_PAD_COVER', 'WHEEL_CUTTER',\n",
       "       'WATER_FLOTATION_DEVICE', 'FIREPLACE', 'SMALL_HOME_APPLIANCES',\n",
       "       'AIR_PURIFIER', 'WALLPAPER', 'WAIST_CINCHER', 'ICE_CUBE_TRAY',\n",
       "       'PRINTER', 'STATIONARY_BICYCLE', 'NECKTIE', 'TERMINAL_BLOCK',\n",
       "       'FIRST_AID_KIT', 'HAIR_COLORING_AGENT', 'ELECTRONIC_SWITCH',\n",
       "       'SUGAR_CANDY', 'SKIN_FOUNDATION_CONCEALER', 'VEHICLE_MIRROR',\n",
       "       'CELLULAR_PHONE', 'FISHING_EQUIPMENT', 'SHELLFISH',\n",
       "       'AMAZON_BOOK_READER_ACCESSORY', 'COUNTERTOP_OVEN',\n",
       "       'NETWORKING_ROUTER', 'DVD_PLAYER_OR_RECORDER', 'SLOW_COOKER',\n",
       "       'FOOD_DEHYDRATOR', 'COUNTERTOP_BURNER', 'TIMER',\n",
       "       'FLAVORED_DRINK_CONCENTRATE', 'BODY_LUBRICANT',\n",
       "       'LAUNDRY_APPLIANCE', 'THICKENING_AGENT', 'SCANNER', 'GAME_DICE',\n",
       "       'COOKING_OVEN', 'MECHANICAL_LIGHTER', 'SECURITY_CAMERA', 'VEST',\n",
       "       'DIGITAL_DEVICE_3', 'FLASH_DRIVE', 'KICK_SCOOTER',\n",
       "       'LEHENGA_CHOLI_SET', 'SURVEILANCE_SYSTEMS', 'SUSPENDER', 'VINE',\n",
       "       'SOUS_VIDE_MACHINE', 'CUTTING_BOARD', 'NON_RIDING_TOY_VEHICLE',\n",
       "       'GARLIC_PRESS', 'VEHICLE_SCAN_TOOL', 'BLOOD_PRESSURE_MONITOR',\n",
       "       'OTC_MEDICATION', 'REFRIGERATION_APPLIANCE', 'SLEEP_MASK',\n",
       "       'AGRICULTURAL_SUPPLIES', 'BAKEWARE', 'COMPUTER_COOLING_DEVICE',\n",
       "       'DINNERWARE', 'CONDIMENT', 'RUG', 'HOME_MIRROR', 'WALL_ART',\n",
       "       'PILLOW', 'MATTRESS', 'BUILDING_MATERIAL', 'CURTAIN',\n",
       "       'PICTURE_FRAME', 'ELECTRONIC_CABLE', 'BLANKET', 'ANIMAL_COLLAR'],\n",
       "      dtype=object)"
      ]
     },
     "execution_count": 10,
     "metadata": {},
     "output_type": "execute_result"
    }
   ],
   "source": [
    "df.category.unique()"
   ]
  },
  {
   "cell_type": "code",
   "execution_count": 30,
   "id": "ee43922b-82e5-4327-89a5-05990dd8c458",
   "metadata": {},
   "outputs": [],
   "source": [
    "english_languages = [l for l in df.language.unique() if 'en_' in l]"
   ]
  },
  {
   "cell_type": "code",
   "execution_count": null,
   "id": "66b395d7-bff4-4bd1-b54b-55a63b0049ec",
   "metadata": {},
   "outputs": [],
   "source": [
    "english_languages"
   ]
  },
  {
   "cell_type": "code",
   "execution_count": 34,
   "id": "0f712194-ae2e-4461-b0b3-3783d8cae642",
   "metadata": {},
   "outputs": [
    {
     "data": {
      "text/html": [
       "<div>\n",
       "<style scoped>\n",
       "    .dataframe tbody tr th:only-of-type {\n",
       "        vertical-align: middle;\n",
       "    }\n",
       "\n",
       "    .dataframe tbody tr th {\n",
       "        vertical-align: top;\n",
       "    }\n",
       "\n",
       "    .dataframe thead th {\n",
       "        text-align: right;\n",
       "    }\n",
       "</style>\n",
       "<table border=\"1\" class=\"dataframe\">\n",
       "  <thead>\n",
       "    <tr style=\"text-align: right;\">\n",
       "      <th></th>\n",
       "      <th>id</th>\n",
       "      <th>image_id_main</th>\n",
       "      <th>name</th>\n",
       "      <th>language</th>\n",
       "      <th>category</th>\n",
       "      <th>domain</th>\n",
       "      <th>image_ids_other</th>\n",
       "    </tr>\n",
       "  </thead>\n",
       "  <tbody>\n",
       "    <tr>\n",
       "      <th>0</th>\n",
       "      <td>B0857LX8VK</td>\n",
       "      <td>61kQWDA5EIL</td>\n",
       "      <td>Amazon Brand - Solimo Designer Red Moon UV Pri...</td>\n",
       "      <td>en_IN</td>\n",
       "      <td>CELLULAR_PHONE_CASE</td>\n",
       "      <td>amazon.in</td>\n",
       "      <td>61+woWTqkwL,61SE4RTPjdL</td>\n",
       "    </tr>\n",
       "    <tr>\n",
       "      <th>4</th>\n",
       "      <td>B07YF2L8YK</td>\n",
       "      <td>71E1C39m8tL</td>\n",
       "      <td>AmazonBasics Flex Style Correction Tape, 6-Pack</td>\n",
       "      <td>en_CA</td>\n",
       "      <td>OFFICE_PRODUCTS</td>\n",
       "      <td>amazon.ca</td>\n",
       "      <td>71EL3apdNWL,61h6xXK3M8L,51d-Pa+EC+L,61mJdxkw4CL</td>\n",
       "    </tr>\n",
       "    <tr>\n",
       "      <th>5</th>\n",
       "      <td>B07YFG4GF1</td>\n",
       "      <td>81svzHPcn7L</td>\n",
       "      <td>Concept 3 by Skechers Issel Lace-up Casual Sne...</td>\n",
       "      <td>en_GB</td>\n",
       "      <td>SHOES</td>\n",
       "      <td>amazon.co.uk</td>\n",
       "      <td>81Vgckr3ISL,81rbO80vpOL,71TY0I+fncL,71ZOP4y25v...</td>\n",
       "    </tr>\n",
       "    <tr>\n",
       "      <th>7</th>\n",
       "      <td>B00R45AFPO</td>\n",
       "      <td>91FAysakrbL</td>\n",
       "      <td>AmazonBasics 100% Cotton Duvet Set, Green Bloc...</td>\n",
       "      <td>en_GB</td>\n",
       "      <td>HOME_BED_AND_BATH</td>\n",
       "      <td>amazon.co.uk</td>\n",
       "      <td>A1w+DAKDs6L</td>\n",
       "    </tr>\n",
       "    <tr>\n",
       "      <th>8</th>\n",
       "      <td>B00SXKUIX8</td>\n",
       "      <td>A1JiwW0pf4L</td>\n",
       "      <td>AmazonBasics 4-Piece Packing Cube Set - 2 Medi...</td>\n",
       "      <td>en_US</td>\n",
       "      <td>SUITCASE</td>\n",
       "      <td>primenow.amazon.com</td>\n",
       "      <td>A1hFXE9J9OL,61W0fs5v8fL,91EJxyLTvFL,91vCCws6tA...</td>\n",
       "    </tr>\n",
       "  </tbody>\n",
       "</table>\n",
       "</div>"
      ],
      "text/plain": [
       "           id image_id_main  \\\n",
       "0  B0857LX8VK   61kQWDA5EIL   \n",
       "4  B07YF2L8YK   71E1C39m8tL   \n",
       "5  B07YFG4GF1   81svzHPcn7L   \n",
       "7  B00R45AFPO   91FAysakrbL   \n",
       "8  B00SXKUIX8   A1JiwW0pf4L   \n",
       "\n",
       "                                                name language  \\\n",
       "0  Amazon Brand - Solimo Designer Red Moon UV Pri...    en_IN   \n",
       "4    AmazonBasics Flex Style Correction Tape, 6-Pack    en_CA   \n",
       "5  Concept 3 by Skechers Issel Lace-up Casual Sne...    en_GB   \n",
       "7  AmazonBasics 100% Cotton Duvet Set, Green Bloc...    en_GB   \n",
       "8  AmazonBasics 4-Piece Packing Cube Set - 2 Medi...    en_US   \n",
       "\n",
       "              category               domain  \\\n",
       "0  CELLULAR_PHONE_CASE            amazon.in   \n",
       "4      OFFICE_PRODUCTS            amazon.ca   \n",
       "5                SHOES         amazon.co.uk   \n",
       "7    HOME_BED_AND_BATH         amazon.co.uk   \n",
       "8             SUITCASE  primenow.amazon.com   \n",
       "\n",
       "                                     image_ids_other  \n",
       "0                            61+woWTqkwL,61SE4RTPjdL  \n",
       "4    71EL3apdNWL,61h6xXK3M8L,51d-Pa+EC+L,61mJdxkw4CL  \n",
       "5  81Vgckr3ISL,81rbO80vpOL,71TY0I+fncL,71ZOP4y25v...  \n",
       "7                                        A1w+DAKDs6L  \n",
       "8  A1hFXE9J9OL,61W0fs5v8fL,91EJxyLTvFL,91vCCws6tA...  "
      ]
     },
     "execution_count": 34,
     "metadata": {},
     "output_type": "execute_result"
    }
   ],
   "source": [
    "df[df['language'].isin(english_languages)].head()"
   ]
  },
  {
   "cell_type": "code",
   "execution_count": null,
   "id": "6245490e-4070-408c-bf90-21d3d21cc356",
   "metadata": {},
   "outputs": [],
   "source": [
    "df.describe()"
   ]
  },
  {
   "cell_type": "code",
   "execution_count": null,
   "id": "0431f068-9ea7-473b-93b2-3f756b3a5777",
   "metadata": {},
   "outputs": [],
   "source": [
    "def getRandomProduct():\n",
    "    if(getRandomProduct._products == None):\n",
    "        getRandomProduct._products = getProducts()\n",
    "    \n",
    "    "
   ]
  },
  {
   "cell_type": "code",
   "execution_count": 6,
   "id": "274ea79c-f5c7-4277-a583-b077ebe25280",
   "metadata": {},
   "outputs": [],
   "source": [
    "from faker import Faker\n",
    "fake = Faker()"
   ]
  },
  {
   "cell_type": "code",
   "execution_count": 20,
   "id": "5321bfb2-98be-4b9c-b44d-7eb1ba6974ad",
   "metadata": {},
   "outputs": [],
   "source": [
    "def getRandomUser():\n",
    "    name = fake.name()\n",
    "    email = fake.email() \n",
    "    address = fake.address()\n",
    "    date_joined = fake.date_time_this_century()\n",
    "    return [ name, email, address, date_joined]"
   ]
  },
  {
   "cell_type": "code",
   "execution_count": null,
   "id": "eda2ed97-6ae9-43f2-9a89-939e983de4c8",
   "metadata": {},
   "outputs": [],
   "source": [
    "def getRandomProduct():\n",
    "    name = fake.prod"
   ]
  },
  {
   "cell_type": "code",
   "execution_count": 21,
   "id": "354e3323-7e7b-4c94-8438-518514e92e9c",
   "metadata": {},
   "outputs": [
    {
     "ename": "IndentationError",
     "evalue": "expected an indented block (191213573.py, line 1)",
     "output_type": "error",
     "traceback": [
      "\u001b[0;36m  File \u001b[0;32m\"/tmp/ipykernel_796/191213573.py\"\u001b[0;36m, line \u001b[0;32m1\u001b[0m\n\u001b[0;31m    def gadgetLover():\u001b[0m\n\u001b[0m                      ^\u001b[0m\n\u001b[0;31mIndentationError\u001b[0m\u001b[0;31m:\u001b[0m expected an indented block\n"
     ]
    }
   ],
   "source": [
    "def gadgetLover():\n"
   ]
  },
  {
   "cell_type": "code",
   "execution_count": 22,
   "id": "0968a33b-c7e8-403b-8a56-bd2c4ec39dde",
   "metadata": {},
   "outputs": [
    {
     "data": {
      "text/plain": [
       "['Robert Wall',\n",
       " 'owaters@example.com',\n",
       " '0623 Logan Well Apt. 586\\nCrystalborough, MA 50927',\n",
       " datetime.datetime(2016, 3, 30, 1, 27, 44)]"
      ]
     },
     "execution_count": 22,
     "metadata": {},
     "output_type": "execute_result"
    }
   ],
   "source": [
    "getRandomUser()"
   ]
  },
  {
   "cell_type": "code",
   "execution_count": 5,
   "id": "71d2fe67-a527-46f2-9e7d-4638a4d08076",
   "metadata": {},
   "outputs": [
    {
     "data": {
      "text/plain": [
       "'David Mcmahon'"
      ]
     },
     "execution_count": 5,
     "metadata": {},
     "output_type": "execute_result"
    }
   ],
   "source": [
    "fake.name()"
   ]
  },
  {
   "cell_type": "code",
   "execution_count": null,
   "id": "e4897300-d128-48a9-bff2-30659ab1908a",
   "metadata": {},
   "outputs": [],
   "source": []
  }
 ],
 "metadata": {
  "kernelspec": {
   "display_name": "default:Python",
   "language": "python",
   "name": "conda-env-default-py"
  },
  "language_info": {
   "codemirror_mode": {
    "name": "ipython",
    "version": 3
   },
   "file_extension": ".py",
   "mimetype": "text/x-python",
   "name": "python",
   "nbconvert_exporter": "python",
   "pygments_lexer": "ipython3",
   "version": "3.9.7"
  }
 },
 "nbformat": 4,
 "nbformat_minor": 5
}
