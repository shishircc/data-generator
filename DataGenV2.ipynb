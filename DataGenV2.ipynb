{
 "cells": [
  {
   "cell_type": "markdown",
   "id": "52635b0a-49f3-46a0-8f72-a3918d5ea857",
   "metadata": {},
   "source": [
    "## Data Gen"
   ]
  },
  {
   "cell_type": "markdown",
   "id": "21a53224-f1b3-47b0-b201-4098bcc7c198",
   "metadata": {},
   "source": [
    "I want to create a retail data mart\n",
    "\n",
    "This has tables like\n",
    "\n",
    "1. ClickLogs (sessionid, deviceid, userid, id, pageurl, previousurl, time) \n",
    "2. Users (id, name#, email#, address#, country#, join_date)\n",
    "3. Products\n",
    "4. Sale\n",
    "5. AddToCart\n",
    "6. Returns \n",
    "7. Categories \n"
   ]
  },
  {
   "cell_type": "code",
   "execution_count": 1,
   "id": "d135b2f4-1f9b-4a9e-b6dd-439b4a7d10b0",
   "metadata": {},
   "outputs": [
    {
     "name": "stdout",
     "output_type": "stream",
     "text": [
      "Collecting Faker\n",
      "  Downloading Faker-11.3.0-py3-none-any.whl (1.2 MB)\n",
      "\u001b[K     |████████████████████████████████| 1.2 MB 2.8 MB/s eta 0:00:01\n",
      "\u001b[?25hCollecting text-unidecode==1.3\n",
      "  Downloading text_unidecode-1.3-py2.py3-none-any.whl (78 kB)\n",
      "\u001b[K     |████████████████████████████████| 78 kB 9.7 MB/s  eta 0:00:01\n",
      "\u001b[?25hRequirement already satisfied: python-dateutil>=2.4 in /home/studio-lab-user/.conda/envs/default/lib/python3.9/site-packages (from Faker) (2.8.2)\n",
      "Requirement already satisfied: six>=1.5 in /home/studio-lab-user/.conda/envs/default/lib/python3.9/site-packages (from python-dateutil>=2.4->Faker) (1.16.0)\n",
      "Installing collected packages: text-unidecode, Faker\n",
      "Successfully installed Faker-11.3.0 text-unidecode-1.3\n"
     ]
    }
   ],
   "source": [
    "!pip install Faker "
   ]
  },
  {
   "cell_type": "code",
   "execution_count": 24,
   "id": "07c40842-8379-41b8-ba29-2e55a16b0bc5",
   "metadata": {},
   "outputs": [
    {
     "name": "stdout",
     "output_type": "stream",
     "text": [
      "Collecting pandas\n",
      "  Downloading pandas-1.3.5-cp39-cp39-manylinux_2_17_x86_64.manylinux2014_x86_64.whl (11.5 MB)\n",
      "\u001b[K     |████████████████████████████████| 11.5 MB 3.3 MB/s eta 0:00:01\n",
      "\u001b[?25hRequirement already satisfied: python-dateutil>=2.7.3 in /home/studio-lab-user/.conda/envs/default/lib/python3.9/site-packages (from pandas) (2.8.2)\n",
      "Collecting pytz>=2017.3\n",
      "  Downloading pytz-2021.3-py2.py3-none-any.whl (503 kB)\n",
      "\u001b[K     |████████████████████████████████| 503 kB 76.7 MB/s eta 0:00:01\n",
      "\u001b[?25hRequirement already satisfied: numpy>=1.17.3 in /home/studio-lab-user/.conda/envs/default/lib/python3.9/site-packages (from pandas) (1.21.4)\n",
      "Requirement already satisfied: six>=1.5 in /home/studio-lab-user/.conda/envs/default/lib/python3.9/site-packages (from python-dateutil>=2.7.3->pandas) (1.16.0)\n",
      "Installing collected packages: pytz, pandas\n",
      "Successfully installed pandas-1.3.5 pytz-2021.3\n"
     ]
    }
   ],
   "source": [
    "!pip install pandas"
   ]
  },
  {
   "cell_type": "code",
   "execution_count": 1,
   "id": "896df716-8ca3-47ba-afd7-8c8af6e0ffa4",
   "metadata": {},
   "outputs": [
    {
     "name": "stdout",
     "output_type": "stream",
     "text": [
      "Collecting fasttext\n",
      "  Downloading fasttext-0.9.2.tar.gz (68 kB)\n",
      "\u001b[K     |████████████████████████████████| 68 kB 2.3 MB/s eta 0:00:01\n",
      "\u001b[?25hCollecting pybind11>=2.2\n",
      "  Using cached pybind11-2.9.0-py2.py3-none-any.whl (210 kB)\n",
      "Requirement already satisfied: setuptools>=0.7.0 in /home/studio-lab-user/.conda/envs/default/lib/python3.9/site-packages (from fasttext) (59.2.0)\n",
      "Requirement already satisfied: numpy in /home/studio-lab-user/.conda/envs/default/lib/python3.9/site-packages (from fasttext) (1.21.4)\n",
      "Building wheels for collected packages: fasttext\n",
      "  Building wheel for fasttext (setup.py) ... \u001b[?25ldone\n",
      "\u001b[?25h  Created wheel for fasttext: filename=fasttext-0.9.2-cp39-cp39-linux_x86_64.whl size=307078 sha256=d51906213ab5eab523d0624b2aa88c6b94fd8800c3c15702666cec92196346fd\n",
      "  Stored in directory: /home/studio-lab-user/.cache/pip/wheels/64/57/bc/1741406019061d5664914b070bd3e71f6244648732bc96109e\n",
      "Successfully built fasttext\n",
      "Installing collected packages: pybind11, fasttext\n",
      "Successfully installed fasttext-0.9.2 pybind11-2.9.0\n"
     ]
    }
   ],
   "source": [
    "!pip install fasttext"
   ]
  },
  {
   "cell_type": "code",
   "execution_count": 31,
   "id": "45b15a09-81c5-4987-87f5-6b5bb72de9c8",
   "metadata": {},
   "outputs": [
    {
     "name": "stdout",
     "output_type": "stream",
     "text": [
      "Collecting nltk\n",
      "  Downloading nltk-3.6.7-py3-none-any.whl (1.5 MB)\n",
      "\u001b[K     |████████████████████████████████| 1.5 MB 3.1 MB/s eta 0:00:01\n",
      "\u001b[?25hCollecting joblib\n",
      "  Downloading joblib-1.1.0-py2.py3-none-any.whl (306 kB)\n",
      "\u001b[K     |████████████████████████████████| 306 kB 28.6 MB/s eta 0:00:01\n",
      "\u001b[?25hCollecting tqdm\n",
      "  Downloading tqdm-4.62.3-py2.py3-none-any.whl (76 kB)\n",
      "\u001b[K     |████████████████████████████████| 76 kB 4.2 MB/s eta 0:00:011\n",
      "\u001b[?25hCollecting regex>=2021.8.3\n",
      "  Downloading regex-2021.11.10-cp39-cp39-manylinux_2_17_x86_64.manylinux2014_x86_64.whl (763 kB)\n",
      "\u001b[K     |████████████████████████████████| 763 kB 24.3 MB/s eta 0:00:01\n",
      "\u001b[?25hCollecting click\n",
      "  Downloading click-8.0.3-py3-none-any.whl (97 kB)\n",
      "\u001b[K     |████████████████████████████████| 97 kB 7.2 MB/s  eta 0:00:01\n",
      "\u001b[?25hInstalling collected packages: tqdm, regex, joblib, click, nltk\n",
      "Successfully installed click-8.0.3 joblib-1.1.0 nltk-3.6.7 regex-2021.11.10 tqdm-4.62.3\n"
     ]
    }
   ],
   "source": [
    "!pip install nltk"
   ]
  },
  {
   "cell_type": "code",
   "execution_count": 33,
   "id": "8e0654be-bfee-4e1c-8159-5a61d4f1ca6e",
   "metadata": {},
   "outputs": [
    {
     "name": "stderr",
     "output_type": "stream",
     "text": [
      "[nltk_data] Downloading package stopwords to /home/studio-lab-\n",
      "[nltk_data]     user/nltk_data...\n",
      "[nltk_data]   Unzipping corpora/stopwords.zip.\n"
     ]
    },
    {
     "data": {
      "text/plain": [
       "True"
      ]
     },
     "execution_count": 33,
     "metadata": {},
     "output_type": "execute_result"
    }
   ],
   "source": [
    "nltk.download('stopwords')"
   ]
  },
  {
   "cell_type": "code",
   "execution_count": 8,
   "id": "6c4463aa-b86f-44fc-bed9-d61cf55ad1af",
   "metadata": {},
   "outputs": [],
   "source": [
    "import pandas as pd\n",
    "import re, string; "
   ]
  },
  {
   "cell_type": "code",
   "execution_count": 9,
   "id": "54d48049-1349-49ec-a7e0-6aa746da1902",
   "metadata": {},
   "outputs": [],
   "source": [
    "# import urllib\n",
    "# urllib.request.urlretrieve(\"https://amazon-berkeley-objects.s3.amazonaws.com/static_html/assets/listings.json\", \"listing3.json\")"
   ]
  },
  {
   "cell_type": "code",
   "execution_count": 10,
   "id": "5ef81789-42f2-42bd-9370-0dbe6bd3fb99",
   "metadata": {},
   "outputs": [],
   "source": [
    "import json \n",
    "\n",
    "\n",
    "\n",
    "def getProducts(language_prefix=\"\"):\n",
    "    if (getProducts._products is None):\n",
    "        lines = open(\"listings.json\").readlines()\n",
    "        l1 = [json.loads(line) for line in lines]\n",
    "        l2 = [ [l['item_id'],l.get('main_image_id',''),l['item_name'][0]['value'],l['item_name'][0]['language_tag'],l['product_type'][0]['value'], l['domain_name'],\",\".join(l.get('other_image_id',[]))] for l in l1]\n",
    "        getProducts._products = pd.DataFrame(l2,columns=[\"id\",\"image_id_main\",\"name\",\"language\",\"category\",\"domain\",\"image_ids_other\"])\n",
    "    languages = [l for l in getProducts._products.language.unique() if language_prefix in l]\n",
    "    return getProducts._products[getProducts._products['language'].isin(languages)]\n",
    "\n",
    "getProducts._products = None\n",
    "    "
   ]
  },
  {
   "cell_type": "code",
   "execution_count": 11,
   "id": "181fec3c-4a5a-4913-8c6c-1ecf9ebdcb75",
   "metadata": {},
   "outputs": [],
   "source": [
    "df=getProducts(\"en_\")"
   ]
  },
  {
   "cell_type": "code",
   "execution_count": 12,
   "id": "0f712194-ae2e-4461-b0b3-3783d8cae642",
   "metadata": {},
   "outputs": [
    {
     "data": {
      "text/html": [
       "<div>\n",
       "<style scoped>\n",
       "    .dataframe tbody tr th:only-of-type {\n",
       "        vertical-align: middle;\n",
       "    }\n",
       "\n",
       "    .dataframe tbody tr th {\n",
       "        vertical-align: top;\n",
       "    }\n",
       "\n",
       "    .dataframe thead th {\n",
       "        text-align: right;\n",
       "    }\n",
       "</style>\n",
       "<table border=\"1\" class=\"dataframe\">\n",
       "  <thead>\n",
       "    <tr style=\"text-align: right;\">\n",
       "      <th></th>\n",
       "      <th>id</th>\n",
       "      <th>image_id_main</th>\n",
       "      <th>name</th>\n",
       "      <th>language</th>\n",
       "      <th>category</th>\n",
       "      <th>domain</th>\n",
       "      <th>image_ids_other</th>\n",
       "    </tr>\n",
       "  </thead>\n",
       "  <tbody>\n",
       "    <tr>\n",
       "      <th>0</th>\n",
       "      <td>B0857LX8VK</td>\n",
       "      <td>61kQWDA5EIL</td>\n",
       "      <td>Amazon Brand - Solimo Designer Red Moon UV Pri...</td>\n",
       "      <td>en_IN</td>\n",
       "      <td>CELLULAR_PHONE_CASE</td>\n",
       "      <td>amazon.in</td>\n",
       "      <td>61+woWTqkwL,61SE4RTPjdL</td>\n",
       "    </tr>\n",
       "    <tr>\n",
       "      <th>4</th>\n",
       "      <td>B07YF2L8YK</td>\n",
       "      <td>71E1C39m8tL</td>\n",
       "      <td>AmazonBasics Flex Style Correction Tape, 6-Pack</td>\n",
       "      <td>en_CA</td>\n",
       "      <td>OFFICE_PRODUCTS</td>\n",
       "      <td>amazon.ca</td>\n",
       "      <td>71EL3apdNWL,61h6xXK3M8L,51d-Pa+EC+L,61mJdxkw4CL</td>\n",
       "    </tr>\n",
       "    <tr>\n",
       "      <th>5</th>\n",
       "      <td>B07YFG4GF1</td>\n",
       "      <td>81svzHPcn7L</td>\n",
       "      <td>Concept 3 by Skechers Issel Lace-up Casual Sne...</td>\n",
       "      <td>en_GB</td>\n",
       "      <td>SHOES</td>\n",
       "      <td>amazon.co.uk</td>\n",
       "      <td>81Vgckr3ISL,81rbO80vpOL,71TY0I+fncL,71ZOP4y25v...</td>\n",
       "    </tr>\n",
       "    <tr>\n",
       "      <th>7</th>\n",
       "      <td>B00R45AFPO</td>\n",
       "      <td>91FAysakrbL</td>\n",
       "      <td>AmazonBasics 100% Cotton Duvet Set, Green Bloc...</td>\n",
       "      <td>en_GB</td>\n",
       "      <td>HOME_BED_AND_BATH</td>\n",
       "      <td>amazon.co.uk</td>\n",
       "      <td>A1w+DAKDs6L</td>\n",
       "    </tr>\n",
       "    <tr>\n",
       "      <th>8</th>\n",
       "      <td>B00SXKUIX8</td>\n",
       "      <td>A1JiwW0pf4L</td>\n",
       "      <td>AmazonBasics 4-Piece Packing Cube Set - 2 Medi...</td>\n",
       "      <td>en_US</td>\n",
       "      <td>SUITCASE</td>\n",
       "      <td>primenow.amazon.com</td>\n",
       "      <td>A1hFXE9J9OL,61W0fs5v8fL,91EJxyLTvFL,91vCCws6tA...</td>\n",
       "    </tr>\n",
       "  </tbody>\n",
       "</table>\n",
       "</div>"
      ],
      "text/plain": [
       "           id image_id_main  \\\n",
       "0  B0857LX8VK   61kQWDA5EIL   \n",
       "4  B07YF2L8YK   71E1C39m8tL   \n",
       "5  B07YFG4GF1   81svzHPcn7L   \n",
       "7  B00R45AFPO   91FAysakrbL   \n",
       "8  B00SXKUIX8   A1JiwW0pf4L   \n",
       "\n",
       "                                                name language  \\\n",
       "0  Amazon Brand - Solimo Designer Red Moon UV Pri...    en_IN   \n",
       "4    AmazonBasics Flex Style Correction Tape, 6-Pack    en_CA   \n",
       "5  Concept 3 by Skechers Issel Lace-up Casual Sne...    en_GB   \n",
       "7  AmazonBasics 100% Cotton Duvet Set, Green Bloc...    en_GB   \n",
       "8  AmazonBasics 4-Piece Packing Cube Set - 2 Medi...    en_US   \n",
       "\n",
       "              category               domain  \\\n",
       "0  CELLULAR_PHONE_CASE            amazon.in   \n",
       "4      OFFICE_PRODUCTS            amazon.ca   \n",
       "5                SHOES         amazon.co.uk   \n",
       "7    HOME_BED_AND_BATH         amazon.co.uk   \n",
       "8             SUITCASE  primenow.amazon.com   \n",
       "\n",
       "                                     image_ids_other  \n",
       "0                            61+woWTqkwL,61SE4RTPjdL  \n",
       "4    71EL3apdNWL,61h6xXK3M8L,51d-Pa+EC+L,61mJdxkw4CL  \n",
       "5  81Vgckr3ISL,81rbO80vpOL,71TY0I+fncL,71ZOP4y25v...  \n",
       "7                                        A1w+DAKDs6L  \n",
       "8  A1hFXE9J9OL,61W0fs5v8fL,91EJxyLTvFL,91vCCws6tA...  "
      ]
     },
     "execution_count": 12,
     "metadata": {},
     "output_type": "execute_result"
    }
   ],
   "source": [
    "df.head()"
   ]
  },
  {
   "cell_type": "code",
   "execution_count": 13,
   "id": "7d39c871-6ad7-4929-92a7-b7c8b040e06b",
   "metadata": {},
   "outputs": [
    {
     "data": {
      "text/plain": [
       "array(['CELLULAR_PHONE_CASE', 'OFFICE_PRODUCTS', 'SHOES',\n",
       "       'HOME_BED_AND_BATH', 'SUITCASE', 'HOME', 'FLATWARE',\n",
       "       'HOME_FURNITURE_AND_DECOR', 'BOOT', 'SHELF', 'SCREWDRIVER',\n",
       "       'TOOLS', 'HARDWARE', 'GROCERY', 'PET_SUPPLIES', 'ACCESSORY',\n",
       "       'FINEEARRING', 'SANDAL', 'HARDWARE_HANDLE', 'DRINKING_CUP',\n",
       "       'OUTDOOR_LIVING', 'SAFETY_SUPPLY',\n",
       "       'PORTABLE_ELECTRONIC_DEVICE_STAND', 'MEDICATION', 'BACKPACK',\n",
       "       'BATTERY', 'LAMP', 'FINENECKLACEBRACELETANKLET', 'TOYS_AND_GAMES',\n",
       "       'TABLE', 'SPORTING_GOODS', 'JANITORIAL_SUPPLY', 'OTTOMAN', 'HERB',\n",
       "       'ABIS_KITCHEN', 'FOOD_SERVICE_SUPPLY', 'BREAD', 'RECREATION_BALL',\n",
       "       'FLAT_SHEET', 'HANDBAG', 'CAMERA_SUPPORT', 'PLUMBING_FIXTURE',\n",
       "       'LABEL', 'CLOTHES_HANGER', 'WIRELESS_ACCESSORY',\n",
       "       'PORTABLE_TOOL_BOX', 'HEADPHONES', 'CAMERA_TRIPOD', 'EARRING',\n",
       "       'FILE_FOLDER', 'ACCESSORY_OR_PART_OR_SUPPLY', 'STORAGE_HOOK',\n",
       "       'WRENCH', 'NUTRITIONAL_SUPPLEMENT', 'SWATCH', 'COFFEE',\n",
       "       'FURNITURE_COVER', 'DESK', 'WRITING_BOARD', 'SOFA',\n",
       "       'INSTRUMENT_PARTS_AND_ACCESSORIES', 'PROTEIN_SUPPLEMENT_POWDER',\n",
       "       'PERCUSSION_INSTRUMENTS', 'JUICE_AND_JUICE_DRINK', 'SPEAKERS',\n",
       "       'SCREEN_PROTECTOR', 'HAT', 'FURNITURE', 'WALLET', 'SAUTE_FRY_PAN',\n",
       "       'MARKING_PEN', 'HEALTH_PERSONAL_CARE', 'TECHNICAL_SPORT_SHOE',\n",
       "       'CHAIR', 'OVERALLS', 'VEHICLE_SEAT_COVER',\n",
       "       'PORTABLE_ELECTRONIC_DEVICE_COVER', 'MULTIPORT_HUB', 'MICROPHONE',\n",
       "       'DAIRY_BASED_DRINK', 'KITCHEN', 'STAPLER',\n",
       "       'HOME_LIGHTING_AND_LAMPS', 'MOUSE_PAD', 'THERMOPLASTIC_FILAMENT',\n",
       "       'EARMUFF', 'DISHWARE_PLATE', 'SKIN_CLEANING_AGENT',\n",
       "       'DAIRY_BASED_CHEESE', 'TOWEL_HOLDER', 'SAUCE', 'SNACK_FOOD_BAR',\n",
       "       'DRYING_RACK', 'CLEANING_AGENT', 'BEAUTY', 'AREA_DEODORIZER',\n",
       "       'MECHANICAL_COMPONENTS', 'CHARGING_ADAPTER', 'FLASH_MEMORY',\n",
       "       'STORAGE_BINDER', 'NECKLACE', 'STOOL_SEATING',\n",
       "       'CAMERA_OTHER_ACCESSORIES', 'ELECTROMECHANICAL_GAUGE',\n",
       "       'DISHWARE_PLACE_SETTING', 'BAG', 'PINBOARD',\n",
       "       'WIRELESS_LOCKED_PHONE', 'FLAT_SCREEN_DISPLAY_MOUNT',\n",
       "       'AMAZON_TABLET_ACCESSORY', 'EXERCISE_BAND', 'OFFICE_ELECTRONICS',\n",
       "       'ELECTRONIC_ADAPTER', 'DRESSER', 'LAUNDRY_HAMPER',\n",
       "       'HOME_ORGANIZERS_AND_STORAGE', 'FINERING', 'AUTO_OIL',\n",
       "       'KITCHEN_KNIFE', 'AUTO_PART', 'OUTDOOR_RECREATION_PRODUCT',\n",
       "       'PAPER_PRODUCT', 'LOCK', 'HARDWARE_TUBING', 'TOILET_PAPER_HOLDER',\n",
       "       'SAFE', 'BISS', 'FASHIONEARRING', 'WASTE_BAG', 'LIGHT_FIXTURE',\n",
       "       'SKIN_MOISTURIZER', 'LIGHT_BULB', 'MUSCLE_ROLLER',\n",
       "       'CAMERA_BAGS_AND_CASES', 'STORAGE_BOX', 'FOOD_SLICER',\n",
       "       'WINDOW_SHADE', 'STRINGED_INSTRUMENTS', 'DOORSTOP',\n",
       "       'STORAGE_DRAWER', 'DUTCH_OVENS', 'HEADBOARD', 'CLOTHES_RACK',\n",
       "       'EARPLUG', 'FINEOTHER', 'TRASH_CAN', 'BED_FRAME',\n",
       "       'VIDEO_GAME_ACCESSORIES', 'LAUNDRY_DETERGENT', 'WATER',\n",
       "       'INPUT_MOUSE', 'ASTRINGENT_SUBSTANCE', 'POULTRY',\n",
       "       'NOTEBOOK_COMPUTER', 'NETWORK_INTERFACE_CONTROLLER_ADAPTER',\n",
       "       'DAIRY_BASED_CREAM', 'VITAMIN', 'ENVELOPE', 'PUMP_DISPENSER',\n",
       "       'ABIS_ELECTRONICS', 'CARRYING_CASE_OR_BAG', 'BOTTLE_OPENER',\n",
       "       'BASKET', 'NOODLE', 'FURNITURE_LINER', 'RAZOR_BLADE_CARTRIDGE',\n",
       "       'FACIAL_TISSUE', 'CLEANING_BRUSH', 'BENCH', 'STORAGE_BAG',\n",
       "       'TOOTHBRUSH_HOLDER', 'MAJOR_HOME_APPLIANCES', 'BOTTLE_RACK', 'JAR',\n",
       "       'COMPUTER_ADD_ON', 'WOUND_DRESSING', 'WINE', 'FAUCET', 'VEGETABLE',\n",
       "       'VALVE', 'WATER_PURIFICATION_UNIT', 'CHOCOLATE_CANDY',\n",
       "       'SKIN_CLEANING_WIPE', 'ABIS_DRUGSTORE', 'NAIL_POLISH',\n",
       "       'BREAKFAST_CEREAL', 'BODY_POSITIONER', 'CANDLE', 'BRACELET',\n",
       "       'FASHIONRING', 'POWER_SUPPLIES_OR_PROTECTION', 'TOTE_BAG',\n",
       "       'PLANTER', 'PET_PEST_CONTROL', 'BINOCULAR', 'SNACK_CHIP_AND_CRISP',\n",
       "       'SECURITY_ELECTRONICS', 'CAKE', 'PRINT_COPY_PAPER',\n",
       "       'HARDWARE_HINGE', 'CLOCK', 'STORAGE_RACK', 'HAIRBAND', 'MEAT',\n",
       "       'AV_FURNITURE', 'LUGGAGE', 'HONEY', 'FISH', 'KEYBOARDS',\n",
       "       'NUT_BUTTER', 'CABINET', 'AUTO_ACCESSORY', 'CE_ACCESSORY',\n",
       "       'WRITING_INSTRUMENT', 'UMBRELLA', 'TEA', 'AIR_CONDITIONER',\n",
       "       'FRUIT', 'DRILL_BITS', 'ABIS_BEAUTY', 'FOOD_STORAGE_BAG',\n",
       "       'LIP_COLOR', 'LEGUME', 'RUG_PAD', 'CAMERA_LENS_FILTERS',\n",
       "       'HAIR_COMB', 'SWEATBAND', 'LITTER_BOX', 'TOILET_SEAT',\n",
       "       'PORTABLE_ELECTRONIC_DEVICE_MOUNT', 'CARGO_STRAP', 'ELECTRIC_FAN',\n",
       "       'BATHWATER_ADDITIVE', 'BUCKET', 'PLACEMAT',\n",
       "       'DAIRY_BASED_ICE_CREAM', 'TEACHING_EQUIPMENT', 'PERSONAL_COMPUTER',\n",
       "       'SALAD_DRESSING', 'TOOTHBRUSH', 'CAN_OPENER', 'PANTRY', 'EYEWEAR',\n",
       "       'TRANSPORT_RACK', 'DISHWARE_BOWL', 'SHIPPING_BOX',\n",
       "       'PORTABLE_AUDIO', 'CONSUMER_ELECTRONICS',\n",
       "       'LICENSE_PLATE_ATTACHMENT', 'VACUUM_CLEANER',\n",
       "       'CAR_AUDIO_OR_THEATER', 'REMOTE_CONTROL', 'PACIFIER',\n",
       "       'VEHICLE_INTERIOR_SHADE', 'BED', 'JEWELRY_STORAGE',\n",
       "       'MINERAL_SUPPLEMENT', 'PACKAGED_SOUP_AND_STEW', 'SHAMPOO',\n",
       "       'EDIBLE_OIL_VEGETABLE', 'MULTITOOL', 'CANDY',\n",
       "       'FASHIONNECKLACEBRACELETANKLET', 'SNACK_MIX', 'ORTHOPEDIC_BRACE',\n",
       "       'PERSONAL_CARE_APPLIANCE', 'DISHWASHER', 'ABIS_LAWN_AND_GARDEN',\n",
       "       'KNIFE_BLOCK_SET', 'PAPER_TOWEL_HOLDER', 'VINEGAR', 'EXERCISE_MAT',\n",
       "       'BOTTLE', 'HERBAL_SUPPLEMENT', 'NUTS', 'LEOTARD', 'FUEL_PUMP',\n",
       "       'STRING_LIGHT', 'ARTIFICIAL_TREE', 'DRINKING_STRAW',\n",
       "       'COMPUTER_COMPONENT', 'ABIS_HOME_IMPROVEMENT', 'COSMETIC_BRUSH',\n",
       "       'COOKIE', 'TOY_SLIME', 'SALWAR_SUIT_SET', 'SCISSORS',\n",
       "       'STICKER_DECAL', 'PRETZEL', 'BEAN_BAG_CHAIR', 'FRUIT_SNACK',\n",
       "       'BAKING_PAN', 'SAFETY_GLASSES', 'FREESTANDING_SHELTER',\n",
       "       'ART_AND_CRAFT_SUPPLY', 'ELECTRIC_WATER_BOILER', 'BLANK_MEDIA',\n",
       "       'SUNSCREEN', 'ABIS_BOOK', 'BAKING_PAPER', 'MOUTHWASH',\n",
       "       'POWER_STRIP', 'COSMETIC_CASE', 'WATCH', 'BABY_PRODUCT',\n",
       "       'ROOM_DIVIDER', 'MONITOR', 'INK_OR_TONER', 'PLIERS',\n",
       "       'LIGHT_SOURCE', 'AUTO_CHEMICAL', 'FLOUR', 'COMPUTER', 'PITCHER',\n",
       "       'SUGAR', 'DISHWASHER_DETERGENT', 'REFRIGERATOR', 'CRACKER',\n",
       "       'ANTENNA', 'PROFESSIONAL_HEALTHCARE',\n",
       "       'SOUND_AND_RECORDING_EQUIPMENT', 'DEHUMIDIFIER', 'WATER_PUMP',\n",
       "       'DRINK_FLAVORED', 'CARD_STOCK', 'GPS_OR_NAVIGATION_SYSTEM',\n",
       "       'FOOD_BLENDER', 'FOUNTAIN', 'COFFEE_MAKER', 'FIGURINE',\n",
       "       'DAIRY_BASED_BUTTER', 'CASSEROLES', 'SELF_STICK_NOTE', 'SAW_BLADE',\n",
       "       'PAINT_BRUSH', 'TOASTER', 'BAKING_MIX', 'ICE_CHEST', 'POPCORN',\n",
       "       'TELEVISION', 'RING', 'BADGE_HOLDER', 'SHOWERHEAD',\n",
       "       'HOME_LIGHTING_ACCESSORY', 'RECEIVER_OR_AMPLIFIER',\n",
       "       'ANIMAL_LITTER', 'PERSONAL_PILL_DISPENSER', 'MASCARA', 'BARBELL',\n",
       "       'MILK_SUBSTITUTE', 'BROOM', 'INPUT_PEN', 'SHOE_INSERT',\n",
       "       'COMPUTER_SPEAKER', 'JERKY', 'LAB_SUPPLY', 'PHONE_ACCESSORY',\n",
       "       'PET_APPAREL', 'CADDY', 'SUNGLASSES', 'SHEET_PAN', 'STROLLER',\n",
       "       'HAIR_IRON', 'EYELID_COLOR', 'CONDITIONER', 'MEASURING_CUP',\n",
       "       'PORTABLE_AV_DEVICE', 'MEDIA_STORAGE', 'CHILDRENS_COSTUME',\n",
       "       'COMPUTER_DRIVE_OR_STORAGE', 'TENT', 'WHEEL', 'PRESSURE_COOKER',\n",
       "       'CANDLE_HOLDER', 'WEIGH_SCALE', 'AIR_COMPRESSOR', 'PUNCHING_BAG',\n",
       "       'CE_CARRYING_CASE_OR_BAG', 'MASSAGER', 'FOOD_PROCESSOR',\n",
       "       'STEERING_WHEEL_COVER', 'AIR_MATTRESS', 'POWER_CONVERTER',\n",
       "       'LEAVENING_AGENT', 'FITNESS_BENCH', 'SEALS', 'MICROSCOPES',\n",
       "       'TOY_BUILDING_BLOCK', 'PASTRY', 'COMPUTER_INPUT_DEVICE',\n",
       "       'COUNTERTOP_GRIDDLE_APPLIANCE', 'MEAL_HOLDER', 'NON_DAIRY_CREAM',\n",
       "       'TRACK_SUIT', 'PUZZLES', 'INCENSE', 'BABY_BOTTLE', 'BOXING_GLOVE',\n",
       "       'MEMORY_READER', 'GPS_OR_NAVIGATION_ACCESSORY', 'HUMIDIFIER',\n",
       "       'ABIS_VIDEO_GAMES', 'SLEEPING_BAG', 'EDUCATIONAL_SUPPLIES',\n",
       "       'SPIRITS', 'COSMETIC_POWDER', 'DRINK_COASTER', 'PHONE',\n",
       "       'POWER_BANK', 'CHARM', 'TOY_FIGURE', 'WRITING_PAPER', 'LIP_BALM',\n",
       "       'AIR_PUMP', 'FASTENER_DRIVE_BIT', 'RICE_MIX', 'INKJET_PRINTER_INK',\n",
       "       'ELECTRONIC_DEVICE_DOCKING_STATION', 'KITCHEN_TOOLS',\n",
       "       'PORTABLE_STOVE', 'VACUUM_SEALER_MACHINE', 'BOOKEND', 'POT_HOLDER',\n",
       "       'RICE_COOKERS', 'WHEEL_CUTTER', 'FOOD_PREPARATION_MOLD',\n",
       "       'MICROWAVE_OVEN', 'JUICER', 'UTILITY_KNIFE', 'AIR_PURIFIER',\n",
       "       'WASHER_DRYER_COMBINATION', 'RADIO', 'VEHICLE_LIGHT_BULB',\n",
       "       'TERMINAL_BLOCK', 'CALCULATOR', 'SUGAR_CANDY', 'SHELLFISH',\n",
       "       'SKIN_EXFOLIANT', 'AMAZON_BOOK_READER_ACCESSORY',\n",
       "       'COUNTERTOP_OVEN', 'LANDLINE_PHONE', 'BARBECUE_GRILL',\n",
       "       'HAIR_STYLING_AGENT', 'WILDLIFE_FEEDER', 'NECKTIE',\n",
       "       'VIDEO_PROJECTOR', 'FLAVORED_DRINK_CONCENTRATE',\n",
       "       'SYSTEM_POWER_DEVICE', 'TOOTH_CLEANING_AGENT', 'FOOD_MIXER',\n",
       "       'TABLETOP_GAME', 'THERMOS', 'JEWELRY_SET', 'SUGAR_SUBSTITUTE',\n",
       "       'LAUNDRY_APPLIANCE', 'THICKENING_AGENT', 'TWO_WAY_RADIO',\n",
       "       'ESSENTIAL_OIL', 'GAME_DICE', 'HAIR_BRUSH', 'COOKING_OVEN',\n",
       "       'PET_TOY', 'CAMCORDER', 'COUNTERTOP_BURNER',\n",
       "       'BREAD_MAKING_MACHINE', 'DIGITAL_DEVICE_3', 'FLASH_DRIVE',\n",
       "       'FASHIONOTHER', 'KICK_SCOOTER', 'BODY_LUBRICANT', 'SUSPENDER',\n",
       "       'VINE', 'NON_RIDING_TOY_VEHICLE', 'BODY_DEODORANT',\n",
       "       'HAIR_COLORING_AGENT', 'CAR_ELECTRONICS',\n",
       "       'REFRIGERATION_APPLIANCE', 'SLEEP_MASK', 'AGRICULTURAL_SUPPLIES',\n",
       "       'SLOW_COOKER', 'CONDIMENT', 'RUG', 'HOME_MIRROR', 'WALL_ART',\n",
       "       'PILLOW', 'BUILDING_MATERIAL', 'CURTAIN', 'PICTURE_FRAME',\n",
       "       'ELECTRONIC_CABLE', 'BLANKET', 'UTILITY_CART_WAGON', 'MATTRESS',\n",
       "       'ANIMAL_COLLAR'], dtype=object)"
      ]
     },
     "execution_count": 13,
     "metadata": {},
     "output_type": "execute_result"
    }
   ],
   "source": [
    "df.category.unique()"
   ]
  },
  {
   "cell_type": "code",
   "execution_count": 14,
   "id": "6245490e-4070-408c-bf90-21d3d21cc356",
   "metadata": {},
   "outputs": [
    {
     "data": {
      "text/html": [
       "<div>\n",
       "<style scoped>\n",
       "    .dataframe tbody tr th:only-of-type {\n",
       "        vertical-align: middle;\n",
       "    }\n",
       "\n",
       "    .dataframe tbody tr th {\n",
       "        vertical-align: top;\n",
       "    }\n",
       "\n",
       "    .dataframe thead th {\n",
       "        text-align: right;\n",
       "    }\n",
       "</style>\n",
       "<table border=\"1\" class=\"dataframe\">\n",
       "  <thead>\n",
       "    <tr style=\"text-align: right;\">\n",
       "      <th></th>\n",
       "      <th>id</th>\n",
       "      <th>image_id_main</th>\n",
       "      <th>name</th>\n",
       "      <th>language</th>\n",
       "      <th>category</th>\n",
       "      <th>domain</th>\n",
       "      <th>image_ids_other</th>\n",
       "    </tr>\n",
       "  </thead>\n",
       "  <tbody>\n",
       "    <tr>\n",
       "      <th>count</th>\n",
       "      <td>106474</td>\n",
       "      <td>106474</td>\n",
       "      <td>106474</td>\n",
       "      <td>106474</td>\n",
       "      <td>106474</td>\n",
       "      <td>106474</td>\n",
       "      <td>106474</td>\n",
       "    </tr>\n",
       "    <tr>\n",
       "      <th>unique</th>\n",
       "      <td>105948</td>\n",
       "      <td>95551</td>\n",
       "      <td>101108</td>\n",
       "      <td>7</td>\n",
       "      <td>493</td>\n",
       "      <td>18</td>\n",
       "      <td>73023</td>\n",
       "    </tr>\n",
       "    <tr>\n",
       "      <th>top</th>\n",
       "      <td>B07K4SL4HQ</td>\n",
       "      <td>61OnkGVhMWL</td>\n",
       "      <td>Amazon Brand - Symbol Men's Sneakers</td>\n",
       "      <td>en_IN</td>\n",
       "      <td>CELLULAR_PHONE_CASE</td>\n",
       "      <td>amazon.in</td>\n",
       "      <td>61+woWTqkwL,61SE4RTPjdL</td>\n",
       "    </tr>\n",
       "    <tr>\n",
       "      <th>freq</th>\n",
       "      <td>3</td>\n",
       "      <td>418</td>\n",
       "      <td>300</td>\n",
       "      <td>74006</td>\n",
       "      <td>64668</td>\n",
       "      <td>74002</td>\n",
       "      <td>15011</td>\n",
       "    </tr>\n",
       "  </tbody>\n",
       "</table>\n",
       "</div>"
      ],
      "text/plain": [
       "                id image_id_main                                  name  \\\n",
       "count       106474        106474                                106474   \n",
       "unique      105948         95551                                101108   \n",
       "top     B07K4SL4HQ   61OnkGVhMWL  Amazon Brand - Symbol Men's Sneakers   \n",
       "freq             3           418                                   300   \n",
       "\n",
       "       language             category     domain          image_ids_other  \n",
       "count    106474               106474     106474                   106474  \n",
       "unique        7                  493         18                    73023  \n",
       "top       en_IN  CELLULAR_PHONE_CASE  amazon.in  61+woWTqkwL,61SE4RTPjdL  \n",
       "freq      74006                64668      74002                    15011  "
      ]
     },
     "execution_count": 14,
     "metadata": {},
     "output_type": "execute_result"
    }
   ],
   "source": [
    "df.describe()"
   ]
  },
  {
   "cell_type": "code",
   "execution_count": 15,
   "id": "852acc4a-e662-469e-9a63-a08b1e610110",
   "metadata": {},
   "outputs": [
    {
     "name": "stdout",
     "output_type": "stream",
     "text": [
      "['i', 'me', 'my', 'myself', 'we', 'our', 'ours', 'ourselves', 'you', \"you're\", \"you've\", \"you'll\", \"you'd\", 'your', 'yours', 'yourself', 'yourselves', 'he', 'him', 'his', 'himself', 'she', \"she's\", 'her', 'hers', 'herself', 'it', \"it's\", 'its', 'itself', 'they', 'them', 'their', 'theirs', 'themselves', 'what', 'which', 'who', 'whom', 'this', 'that', \"that'll\", 'these', 'those', 'am', 'is', 'are', 'was', 'were', 'be', 'been', 'being', 'have', 'has', 'had', 'having', 'do', 'does', 'did', 'doing', 'a', 'an', 'the', 'and', 'but', 'if', 'or', 'because', 'as', 'until', 'while', 'of', 'at', 'by', 'for', 'with', 'about', 'against', 'between', 'into', 'through', 'during', 'before', 'after', 'above', 'below', 'to', 'from', 'up', 'down', 'in', 'out', 'on', 'off', 'over', 'under', 'again', 'further', 'then', 'once', 'here', 'there', 'when', 'where', 'why', 'how', 'all', 'any', 'both', 'each', 'few', 'more', 'most', 'other', 'some', 'such', 'no', 'nor', 'not', 'only', 'own', 'same', 'so', 'than', 'too', 'very', 's', 't', 'can', 'will', 'just', 'don', \"don't\", 'should', \"should've\", 'now', 'd', 'll', 'm', 'o', 're', 've', 'y', 'ain', 'aren', \"aren't\", 'couldn', \"couldn't\", 'didn', \"didn't\", 'doesn', \"doesn't\", 'hadn', \"hadn't\", 'hasn', \"hasn't\", 'haven', \"haven't\", 'isn', \"isn't\", 'ma', 'mightn', \"mightn't\", 'mustn', \"mustn't\", 'needn', \"needn't\", 'shan', \"shan't\", 'shouldn', \"shouldn't\", 'wasn', \"wasn't\", 'weren', \"weren't\", 'won', \"won't\", 'wouldn', \"wouldn't\"]\n"
     ]
    }
   ],
   "source": [
    "import nltk\n",
    "from nltk.corpus import stopwords\n",
    "print(stopwords.words('english'))"
   ]
  },
  {
   "cell_type": "code",
   "execution_count": 16,
   "id": "a947b73d-89d4-44a8-9749-cc4b90a2e06f",
   "metadata": {},
   "outputs": [],
   "source": [
    "def categoryToWords(cat):\n",
    "    return \" \".join(cat.lower().split(\"_\"))"
   ]
  },
  {
   "cell_type": "code",
   "execution_count": 17,
   "id": "deb804e1-326a-49e6-95e9-ca00294c25da",
   "metadata": {},
   "outputs": [
    {
     "name": "stdout",
     "output_type": "stream",
     "text": [
      "h\n",
      "e\n",
      "l\n",
      "l\n",
      "o\n",
      " \n",
      "w\n",
      "o\n",
      "r\n",
      "l\n",
      "d\n"
     ]
    }
   ],
   "source": [
    "for w in \"hello world\":\n",
    "    print(w)"
   ]
  },
  {
   "cell_type": "code",
   "execution_count": 18,
   "id": "cc3496d0-55c8-435e-b2ff-96b6bf58e37f",
   "metadata": {},
   "outputs": [],
   "source": [
    "def cleanTitle(name):\n",
    "    pattern = re.compile('[\\W_]+')\n",
    "    cleaned1 = pattern.sub(' ', name)\n",
    "    cleaned2 = \" \".join([ word for word in cleaned1.split(\" \") if word not in stopwords.words('english') and len(word)>=3 ])\n",
    "    return cleaned2"
   ]
  },
  {
   "cell_type": "code",
   "execution_count": 20,
   "id": "06447fed-28aa-4d46-947c-4846e1cbcead",
   "metadata": {},
   "outputs": [
    {
     "data": {
      "text/plain": [
       "'home Amazon Brand Solimo Fabric Storage Box Lid Medium Set Medical Blue Blue'"
      ]
     },
     "execution_count": 20,
     "metadata": {},
     "output_type": "execute_result"
    }
   ],
   "source": [
    "cleanTitle(\"home Amazon Brand - Solimo Fabric Storage Box with Lid, Medium, Set of 3, Medical Blue and R. Blue\")"
   ]
  },
  {
   "cell_type": "code",
   "execution_count": 21,
   "id": "00476aed-0da5-4040-8c55-f15414228c50",
   "metadata": {},
   "outputs": [],
   "source": [
    "with open(\"catv2.txt\",\"w\") as train_file:\n",
    "    for index,row in df[[\"name\",\"category\"]].iterrows():\n",
    "        train_file.write(\"__label__\"+row['category']+\" \"+cleanTitle(row['name'])+\"\\r\\n\")"
   ]
  },
  {
   "cell_type": "code",
   "execution_count": 22,
   "id": "74d55f5c-4bd4-4b96-be64-532fa813da4f",
   "metadata": {},
   "outputs": [
    {
     "name": "stderr",
     "output_type": "stream",
     "text": [
      "Read 1M words\n",
      "Number of words:  14624\n",
      "Number of labels: 479\n",
      "Progress: 100.0% words/sec/thread:   67989 lr:  0.000000 avg.loss:  1.303926 ETA:   0h 0m 0s 0m21s\n"
     ]
    }
   ],
   "source": [
    "import fasttext\n",
    "model= fasttext.train_supervised(input=\"catv2_train.txt\")"
   ]
  },
  {
   "cell_type": "code",
   "execution_count": 23,
   "id": "5c83aa3a-8027-49d6-a206-78977328e2d8",
   "metadata": {},
   "outputs": [],
   "source": [
    "model.save_model(\"cat_model_v2.bin\")"
   ]
  },
  {
   "cell_type": "code",
   "execution_count": 24,
   "id": "35d62d36-b61c-4a5c-9401-105a4baaa986",
   "metadata": {},
   "outputs": [
    {
     "data": {
      "text/plain": [
       "(14747, 0.9466332135349562, 0.9466332135349562)"
      ]
     },
     "execution_count": 24,
     "metadata": {},
     "output_type": "execute_result"
    }
   ],
   "source": [
    "model.test(\"catv2_val.txt\", k=1)"
   ]
  },
  {
   "cell_type": "code",
   "execution_count": 31,
   "id": "f074ebf0-30ca-4d00-8de2-c1993db6ad1f",
   "metadata": {},
   "outputs": [
    {
     "data": {
      "text/plain": [
       "(('__label__CELLULAR_PHONE_CASE',\n",
       "  '__label__BEAUTY',\n",
       "  '__label__HEALTH_PERSONAL_CARE',\n",
       "  '__label__HOME_BED_AND_BATH',\n",
       "  '__label__SCREEN_PROTECTOR'),\n",
       " array([9.99855757e-01, 1.39179712e-04, 2.18974310e-05, 1.40761313e-05,\n",
       "        1.29922100e-05]))"
      ]
     },
     "execution_count": 31,
     "metadata": {},
     "output_type": "execute_result"
    }
   ],
   "source": [
    "model.predict(\"Amazon Brand Solimo Designer Solar System Printed Hard Back Case Mobile Cover Coolpad Note Lite\",k=5)"
   ]
  },
  {
   "cell_type": "code",
   "execution_count": 32,
   "id": "c1de22ff-dc75-458a-8ab9-7ba4df76f496",
   "metadata": {},
   "outputs": [
    {
     "data": {
      "text/plain": [
       "(('__label__OFFICE_PRODUCTS',\n",
       "  '__label__WRITING_INSTRUMENT',\n",
       "  '__label__JANITORIAL_SUPPLY',\n",
       "  '__label__CLOTHES_HANGER',\n",
       "  '__label__CARGO_STRAP'),\n",
       " array([0.10426551, 0.04398663, 0.03903133, 0.03576854, 0.03401559]))"
      ]
     },
     "execution_count": 32,
     "metadata": {},
     "output_type": "execute_result"
    }
   ],
   "source": [
    "model.predict(\"AmazonBasics Retractable Ballpoint Pen Black Pack Renewed\",k=5)"
   ]
  },
  {
   "cell_type": "code",
   "execution_count": 33,
   "id": "b132d644-abd9-4186-b72a-bffd043b5131",
   "metadata": {},
   "outputs": [
    {
     "data": {
      "text/plain": [
       "(('__label__BOOT',\n",
       "  '__label__SHOES',\n",
       "  '__label__ACCESSORY',\n",
       "  '__label__HAT',\n",
       "  '__label__SOFA'),\n",
       " array([8.32908154e-01, 1.48425937e-01, 9.83149558e-03, 8.03826377e-03,\n",
       "        2.32076287e-04]))"
      ]
     },
     "execution_count": 33,
     "metadata": {},
     "output_type": "execute_result"
    }
   ],
   "source": [
    "model.predict(\"Simple Joys Carter Baby Girls Ella Bootie Chelsea Boot Tan Toddler\",k=5)"
   ]
  },
  {
   "cell_type": "code",
   "execution_count": 30,
   "id": "31aa5aa6-60ca-42d7-81c7-18cc1181cfe1",
   "metadata": {},
   "outputs": [
    {
     "data": {
      "text/plain": [
       "(('__label__GROCERY',\n",
       "  '__label__HEALTH_PERSONAL_CARE',\n",
       "  '__label__VITAMIN',\n",
       "  '__label__NUTRITIONAL_SUPPLEMENT',\n",
       "  '__label__SKIN_CLEANING_AGENT'),\n",
       " array([0.58627921, 0.06894386, 0.05353471, 0.02608245, 0.01985353]))"
      ]
     },
     "execution_count": 30,
     "metadata": {},
     "output_type": "execute_result"
    }
   ],
   "source": [
    "model.predict(\"365 Everyday Value Maximum Digestive Health Probiotic Billion CFU\",k=5)"
   ]
  },
  {
   "cell_type": "code",
   "execution_count": null,
   "id": "088a6b46-a7b0-4eb2-b3fc-336bc05bb2c3",
   "metadata": {},
   "outputs": [],
   "source": [
    "model.findKBest"
   ]
  },
  {
   "cell_type": "code",
   "execution_count": 6,
   "id": "274ea79c-f5c7-4277-a583-b077ebe25280",
   "metadata": {},
   "outputs": [],
   "source": [
    "from faker import Faker\n",
    "fake = Faker()"
   ]
  },
  {
   "cell_type": "code",
   "execution_count": 20,
   "id": "5321bfb2-98be-4b9c-b44d-7eb1ba6974ad",
   "metadata": {},
   "outputs": [],
   "source": [
    "def getRandomUser():\n",
    "    name = fake.name()\n",
    "    email = fake.email() \n",
    "    address = fake.address()\n",
    "    date_joined = fake.date_time_this_century()\n",
    "    return [ name, email, address, date_joined]"
   ]
  },
  {
   "cell_type": "code",
   "execution_count": 21,
   "id": "354e3323-7e7b-4c94-8438-518514e92e9c",
   "metadata": {},
   "outputs": [
    {
     "ename": "IndentationError",
     "evalue": "expected an indented block (191213573.py, line 1)",
     "output_type": "error",
     "traceback": [
      "\u001b[0;36m  File \u001b[0;32m\"/tmp/ipykernel_796/191213573.py\"\u001b[0;36m, line \u001b[0;32m1\u001b[0m\n\u001b[0;31m    def gadgetLover():\u001b[0m\n\u001b[0m                      ^\u001b[0m\n\u001b[0;31mIndentationError\u001b[0m\u001b[0;31m:\u001b[0m expected an indented block\n"
     ]
    }
   ],
   "source": [
    "def gadgetLover():\n"
   ]
  },
  {
   "cell_type": "code",
   "execution_count": 22,
   "id": "0968a33b-c7e8-403b-8a56-bd2c4ec39dde",
   "metadata": {},
   "outputs": [
    {
     "data": {
      "text/plain": [
       "['Robert Wall',\n",
       " 'owaters@example.com',\n",
       " '0623 Logan Well Apt. 586\\nCrystalborough, MA 50927',\n",
       " datetime.datetime(2016, 3, 30, 1, 27, 44)]"
      ]
     },
     "execution_count": 22,
     "metadata": {},
     "output_type": "execute_result"
    }
   ],
   "source": [
    "getRandomUser()"
   ]
  },
  {
   "cell_type": "code",
   "execution_count": 5,
   "id": "71d2fe67-a527-46f2-9e7d-4638a4d08076",
   "metadata": {},
   "outputs": [
    {
     "data": {
      "text/plain": [
       "'David Mcmahon'"
      ]
     },
     "execution_count": 5,
     "metadata": {},
     "output_type": "execute_result"
    }
   ],
   "source": [
    "fake.name()"
   ]
  },
  {
   "cell_type": "code",
   "execution_count": null,
   "id": "e4897300-d128-48a9-bff2-30659ab1908a",
   "metadata": {},
   "outputs": [],
   "source": []
  }
 ],
 "metadata": {
  "kernelspec": {
   "display_name": "default:Python",
   "language": "python",
   "name": "conda-env-default-py"
  },
  "language_info": {
   "codemirror_mode": {
    "name": "ipython",
    "version": 3
   },
   "file_extension": ".py",
   "mimetype": "text/x-python",
   "name": "python",
   "nbconvert_exporter": "python",
   "pygments_lexer": "ipython3",
   "version": "3.9.7"
  }
 },
 "nbformat": 4,
 "nbformat_minor": 5
}
