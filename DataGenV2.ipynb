{
 "cells": [
  {
   "cell_type": "markdown",
   "id": "52635b0a-49f3-46a0-8f72-a3918d5ea857",
   "metadata": {},
   "source": [
    "## Data Gen"
   ]
  },
  {
   "cell_type": "markdown",
   "id": "21a53224-f1b3-47b0-b201-4098bcc7c198",
   "metadata": {},
   "source": [
    "I want to create a retail data mart\n",
    "\n",
    "This has tables like\n",
    "\n",
    "1. ClickLogs (sessionid, deviceid, userid, id, pageurl, previousurl, time) \n",
    "2. Users (id, name#, email#, address#, country#, join_date)\n",
    "3. Products\n",
    "4. Sale\n",
    "5. AddToCart\n",
    "6. Returns \n",
    "7. Categories \n"
   ]
  },
  {
   "cell_type": "code",
   "execution_count": 1,
   "id": "d135b2f4-1f9b-4a9e-b6dd-439b4a7d10b0",
   "metadata": {},
   "outputs": [
    {
     "name": "stdout",
     "output_type": "stream",
     "text": [
      "Collecting Faker\n",
      "  Downloading Faker-11.3.0-py3-none-any.whl (1.2 MB)\n",
      "\u001b[K     |████████████████████████████████| 1.2 MB 2.8 MB/s eta 0:00:01\n",
      "\u001b[?25hCollecting text-unidecode==1.3\n",
      "  Downloading text_unidecode-1.3-py2.py3-none-any.whl (78 kB)\n",
      "\u001b[K     |████████████████████████████████| 78 kB 9.7 MB/s  eta 0:00:01\n",
      "\u001b[?25hRequirement already satisfied: python-dateutil>=2.4 in /home/studio-lab-user/.conda/envs/default/lib/python3.9/site-packages (from Faker) (2.8.2)\n",
      "Requirement already satisfied: six>=1.5 in /home/studio-lab-user/.conda/envs/default/lib/python3.9/site-packages (from python-dateutil>=2.4->Faker) (1.16.0)\n",
      "Installing collected packages: text-unidecode, Faker\n",
      "Successfully installed Faker-11.3.0 text-unidecode-1.3\n"
     ]
    }
   ],
   "source": [
    "!pip install Faker "
   ]
  },
  {
   "cell_type": "code",
   "execution_count": 24,
   "id": "07c40842-8379-41b8-ba29-2e55a16b0bc5",
   "metadata": {},
   "outputs": [
    {
     "name": "stdout",
     "output_type": "stream",
     "text": [
      "Collecting pandas\n",
      "  Downloading pandas-1.3.5-cp39-cp39-manylinux_2_17_x86_64.manylinux2014_x86_64.whl (11.5 MB)\n",
      "\u001b[K     |████████████████████████████████| 11.5 MB 3.3 MB/s eta 0:00:01\n",
      "\u001b[?25hRequirement already satisfied: python-dateutil>=2.7.3 in /home/studio-lab-user/.conda/envs/default/lib/python3.9/site-packages (from pandas) (2.8.2)\n",
      "Collecting pytz>=2017.3\n",
      "  Downloading pytz-2021.3-py2.py3-none-any.whl (503 kB)\n",
      "\u001b[K     |████████████████████████████████| 503 kB 76.7 MB/s eta 0:00:01\n",
      "\u001b[?25hRequirement already satisfied: numpy>=1.17.3 in /home/studio-lab-user/.conda/envs/default/lib/python3.9/site-packages (from pandas) (1.21.4)\n",
      "Requirement already satisfied: six>=1.5 in /home/studio-lab-user/.conda/envs/default/lib/python3.9/site-packages (from python-dateutil>=2.7.3->pandas) (1.16.0)\n",
      "Installing collected packages: pytz, pandas\n",
      "Successfully installed pandas-1.3.5 pytz-2021.3\n"
     ]
    }
   ],
   "source": [
    "!pip install pandas"
   ]
  },
  {
   "cell_type": "code",
   "execution_count": 1,
   "id": "896df716-8ca3-47ba-afd7-8c8af6e0ffa4",
   "metadata": {},
   "outputs": [
    {
     "name": "stdout",
     "output_type": "stream",
     "text": [
      "Collecting fasttext\n",
      "  Downloading fasttext-0.9.2.tar.gz (68 kB)\n",
      "\u001b[K     |████████████████████████████████| 68 kB 2.3 MB/s eta 0:00:01\n",
      "\u001b[?25hCollecting pybind11>=2.2\n",
      "  Using cached pybind11-2.9.0-py2.py3-none-any.whl (210 kB)\n",
      "Requirement already satisfied: setuptools>=0.7.0 in /home/studio-lab-user/.conda/envs/default/lib/python3.9/site-packages (from fasttext) (59.2.0)\n",
      "Requirement already satisfied: numpy in /home/studio-lab-user/.conda/envs/default/lib/python3.9/site-packages (from fasttext) (1.21.4)\n",
      "Building wheels for collected packages: fasttext\n",
      "  Building wheel for fasttext (setup.py) ... \u001b[?25ldone\n",
      "\u001b[?25h  Created wheel for fasttext: filename=fasttext-0.9.2-cp39-cp39-linux_x86_64.whl size=307078 sha256=d51906213ab5eab523d0624b2aa88c6b94fd8800c3c15702666cec92196346fd\n",
      "  Stored in directory: /home/studio-lab-user/.cache/pip/wheels/64/57/bc/1741406019061d5664914b070bd3e71f6244648732bc96109e\n",
      "Successfully built fasttext\n",
      "Installing collected packages: pybind11, fasttext\n",
      "Successfully installed fasttext-0.9.2 pybind11-2.9.0\n"
     ]
    }
   ],
   "source": [
    "!pip install fasttext"
   ]
  },
  {
   "cell_type": "code",
   "execution_count": 31,
   "id": "45b15a09-81c5-4987-87f5-6b5bb72de9c8",
   "metadata": {},
   "outputs": [
    {
     "name": "stdout",
     "output_type": "stream",
     "text": [
      "Collecting nltk\n",
      "  Downloading nltk-3.6.7-py3-none-any.whl (1.5 MB)\n",
      "\u001b[K     |████████████████████████████████| 1.5 MB 3.1 MB/s eta 0:00:01\n",
      "\u001b[?25hCollecting joblib\n",
      "  Downloading joblib-1.1.0-py2.py3-none-any.whl (306 kB)\n",
      "\u001b[K     |████████████████████████████████| 306 kB 28.6 MB/s eta 0:00:01\n",
      "\u001b[?25hCollecting tqdm\n",
      "  Downloading tqdm-4.62.3-py2.py3-none-any.whl (76 kB)\n",
      "\u001b[K     |████████████████████████████████| 76 kB 4.2 MB/s eta 0:00:011\n",
      "\u001b[?25hCollecting regex>=2021.8.3\n",
      "  Downloading regex-2021.11.10-cp39-cp39-manylinux_2_17_x86_64.manylinux2014_x86_64.whl (763 kB)\n",
      "\u001b[K     |████████████████████████████████| 763 kB 24.3 MB/s eta 0:00:01\n",
      "\u001b[?25hCollecting click\n",
      "  Downloading click-8.0.3-py3-none-any.whl (97 kB)\n",
      "\u001b[K     |████████████████████████████████| 97 kB 7.2 MB/s  eta 0:00:01\n",
      "\u001b[?25hInstalling collected packages: tqdm, regex, joblib, click, nltk\n",
      "Successfully installed click-8.0.3 joblib-1.1.0 nltk-3.6.7 regex-2021.11.10 tqdm-4.62.3\n"
     ]
    }
   ],
   "source": [
    "!pip install nltk"
   ]
  },
  {
   "cell_type": "code",
   "execution_count": 33,
   "id": "8e0654be-bfee-4e1c-8159-5a61d4f1ca6e",
   "metadata": {},
   "outputs": [
    {
     "name": "stderr",
     "output_type": "stream",
     "text": [
      "[nltk_data] Downloading package stopwords to /home/studio-lab-\n",
      "[nltk_data]     user/nltk_data...\n",
      "[nltk_data]   Unzipping corpora/stopwords.zip.\n"
     ]
    },
    {
     "data": {
      "text/plain": [
       "True"
      ]
     },
     "execution_count": 33,
     "metadata": {},
     "output_type": "execute_result"
    }
   ],
   "source": [
    "nltk.download('stopwords')"
   ]
  },
  {
   "cell_type": "code",
   "execution_count": 2,
   "id": "6c4463aa-b86f-44fc-bed9-d61cf55ad1af",
   "metadata": {},
   "outputs": [],
   "source": [
    "import pandas as pd\n",
    "import re, string; "
   ]
  },
  {
   "cell_type": "code",
   "execution_count": 3,
   "id": "54d48049-1349-49ec-a7e0-6aa746da1902",
   "metadata": {},
   "outputs": [],
   "source": [
    "# import urllib\n",
    "# urllib.request.urlretrieve(\"https://amazon-berkeley-objects.s3.amazonaws.com/static_html/assets/listings.json\", \"listing3.json\")"
   ]
  },
  {
   "cell_type": "code",
   "execution_count": 4,
   "id": "5ef81789-42f2-42bd-9370-0dbe6bd3fb99",
   "metadata": {},
   "outputs": [],
   "source": [
    "import json \n",
    "\n",
    "\n",
    "\n",
    "def getProducts(language_prefix=\"\"):\n",
    "    if (getProducts._products is None):\n",
    "        lines = open(\"listings.json\").readlines()\n",
    "        l1 = [json.loads(line) for line in lines]\n",
    "        l2 = [ [l['item_id'],l.get('main_image_id',''),l['item_name'][0]['value'],l['item_name'][0]['language_tag'],l['product_type'][0]['value'], l['domain_name'],\",\".join(l.get('other_image_id',[]))] for l in l1]\n",
    "        getProducts._products = pd.DataFrame(l2,columns=[\"id\",\"image_id_main\",\"name\",\"language\",\"category\",\"domain\",\"image_ids_other\"])\n",
    "    languages = [l for l in getProducts._products.language.unique() if language_prefix in l]\n",
    "    return getProducts._products[getProducts._products['language'].isin(languages)]\n",
    "\n",
    "getProducts._products = None\n",
    "    "
   ]
  },
  {
   "cell_type": "code",
   "execution_count": 5,
   "id": "181fec3c-4a5a-4913-8c6c-1ecf9ebdcb75",
   "metadata": {},
   "outputs": [],
   "source": [
    "df=getProducts(\"en_\")"
   ]
  },
  {
   "cell_type": "code",
   "execution_count": 6,
   "id": "0f712194-ae2e-4461-b0b3-3783d8cae642",
   "metadata": {},
   "outputs": [
    {
     "data": {
      "text/html": [
       "<div>\n",
       "<style scoped>\n",
       "    .dataframe tbody tr th:only-of-type {\n",
       "        vertical-align: middle;\n",
       "    }\n",
       "\n",
       "    .dataframe tbody tr th {\n",
       "        vertical-align: top;\n",
       "    }\n",
       "\n",
       "    .dataframe thead th {\n",
       "        text-align: right;\n",
       "    }\n",
       "</style>\n",
       "<table border=\"1\" class=\"dataframe\">\n",
       "  <thead>\n",
       "    <tr style=\"text-align: right;\">\n",
       "      <th></th>\n",
       "      <th>id</th>\n",
       "      <th>image_id_main</th>\n",
       "      <th>name</th>\n",
       "      <th>language</th>\n",
       "      <th>category</th>\n",
       "      <th>domain</th>\n",
       "      <th>image_ids_other</th>\n",
       "    </tr>\n",
       "  </thead>\n",
       "  <tbody>\n",
       "    <tr>\n",
       "      <th>0</th>\n",
       "      <td>B0857LX8VK</td>\n",
       "      <td>61kQWDA5EIL</td>\n",
       "      <td>Amazon Brand - Solimo Designer Red Moon UV Pri...</td>\n",
       "      <td>en_IN</td>\n",
       "      <td>CELLULAR_PHONE_CASE</td>\n",
       "      <td>amazon.in</td>\n",
       "      <td>61+woWTqkwL,61SE4RTPjdL</td>\n",
       "    </tr>\n",
       "    <tr>\n",
       "      <th>4</th>\n",
       "      <td>B07YF2L8YK</td>\n",
       "      <td>71E1C39m8tL</td>\n",
       "      <td>AmazonBasics Flex Style Correction Tape, 6-Pack</td>\n",
       "      <td>en_CA</td>\n",
       "      <td>OFFICE_PRODUCTS</td>\n",
       "      <td>amazon.ca</td>\n",
       "      <td>71EL3apdNWL,61h6xXK3M8L,51d-Pa+EC+L,61mJdxkw4CL</td>\n",
       "    </tr>\n",
       "    <tr>\n",
       "      <th>5</th>\n",
       "      <td>B07YFG4GF1</td>\n",
       "      <td>81svzHPcn7L</td>\n",
       "      <td>Concept 3 by Skechers Issel Lace-up Casual Sne...</td>\n",
       "      <td>en_GB</td>\n",
       "      <td>SHOES</td>\n",
       "      <td>amazon.co.uk</td>\n",
       "      <td>81Vgckr3ISL,81rbO80vpOL,71TY0I+fncL,71ZOP4y25v...</td>\n",
       "    </tr>\n",
       "    <tr>\n",
       "      <th>7</th>\n",
       "      <td>B00R45AFPO</td>\n",
       "      <td>91FAysakrbL</td>\n",
       "      <td>AmazonBasics 100% Cotton Duvet Set, Green Bloc...</td>\n",
       "      <td>en_GB</td>\n",
       "      <td>HOME_BED_AND_BATH</td>\n",
       "      <td>amazon.co.uk</td>\n",
       "      <td>A1w+DAKDs6L</td>\n",
       "    </tr>\n",
       "    <tr>\n",
       "      <th>8</th>\n",
       "      <td>B00SXKUIX8</td>\n",
       "      <td>A1JiwW0pf4L</td>\n",
       "      <td>AmazonBasics 4-Piece Packing Cube Set - 2 Medi...</td>\n",
       "      <td>en_US</td>\n",
       "      <td>SUITCASE</td>\n",
       "      <td>primenow.amazon.com</td>\n",
       "      <td>A1hFXE9J9OL,61W0fs5v8fL,91EJxyLTvFL,91vCCws6tA...</td>\n",
       "    </tr>\n",
       "  </tbody>\n",
       "</table>\n",
       "</div>"
      ],
      "text/plain": [
       "           id image_id_main  \\\n",
       "0  B0857LX8VK   61kQWDA5EIL   \n",
       "4  B07YF2L8YK   71E1C39m8tL   \n",
       "5  B07YFG4GF1   81svzHPcn7L   \n",
       "7  B00R45AFPO   91FAysakrbL   \n",
       "8  B00SXKUIX8   A1JiwW0pf4L   \n",
       "\n",
       "                                                name language  \\\n",
       "0  Amazon Brand - Solimo Designer Red Moon UV Pri...    en_IN   \n",
       "4    AmazonBasics Flex Style Correction Tape, 6-Pack    en_CA   \n",
       "5  Concept 3 by Skechers Issel Lace-up Casual Sne...    en_GB   \n",
       "7  AmazonBasics 100% Cotton Duvet Set, Green Bloc...    en_GB   \n",
       "8  AmazonBasics 4-Piece Packing Cube Set - 2 Medi...    en_US   \n",
       "\n",
       "              category               domain  \\\n",
       "0  CELLULAR_PHONE_CASE            amazon.in   \n",
       "4      OFFICE_PRODUCTS            amazon.ca   \n",
       "5                SHOES         amazon.co.uk   \n",
       "7    HOME_BED_AND_BATH         amazon.co.uk   \n",
       "8             SUITCASE  primenow.amazon.com   \n",
       "\n",
       "                                     image_ids_other  \n",
       "0                            61+woWTqkwL,61SE4RTPjdL  \n",
       "4    71EL3apdNWL,61h6xXK3M8L,51d-Pa+EC+L,61mJdxkw4CL  \n",
       "5  81Vgckr3ISL,81rbO80vpOL,71TY0I+fncL,71ZOP4y25v...  \n",
       "7                                        A1w+DAKDs6L  \n",
       "8  A1hFXE9J9OL,61W0fs5v8fL,91EJxyLTvFL,91vCCws6tA...  "
      ]
     },
     "execution_count": 6,
     "metadata": {},
     "output_type": "execute_result"
    }
   ],
   "source": [
    "df.head()"
   ]
  },
  {
   "cell_type": "code",
   "execution_count": 7,
   "id": "7d39c871-6ad7-4929-92a7-b7c8b040e06b",
   "metadata": {},
   "outputs": [
    {
     "data": {
      "text/plain": [
       "array(['CELLULAR_PHONE_CASE', 'OFFICE_PRODUCTS', 'SHOES',\n",
       "       'HOME_BED_AND_BATH', 'SUITCASE', 'HOME', 'FLATWARE',\n",
       "       'HOME_FURNITURE_AND_DECOR', 'BOOT', 'SHELF', 'SCREWDRIVER',\n",
       "       'TOOLS', 'HARDWARE', 'GROCERY', 'PET_SUPPLIES', 'ACCESSORY',\n",
       "       'FINEEARRING', 'SANDAL', 'HARDWARE_HANDLE', 'DRINKING_CUP',\n",
       "       'OUTDOOR_LIVING', 'SAFETY_SUPPLY',\n",
       "       'PORTABLE_ELECTRONIC_DEVICE_STAND', 'MEDICATION', 'BACKPACK',\n",
       "       'BATTERY', 'LAMP', 'FINENECKLACEBRACELETANKLET', 'TOYS_AND_GAMES',\n",
       "       'TABLE', 'SPORTING_GOODS', 'JANITORIAL_SUPPLY', 'OTTOMAN', 'HERB',\n",
       "       'ABIS_KITCHEN', 'FOOD_SERVICE_SUPPLY', 'BREAD', 'RECREATION_BALL',\n",
       "       'FLAT_SHEET', 'HANDBAG', 'CAMERA_SUPPORT', 'PLUMBING_FIXTURE',\n",
       "       'LABEL', 'CLOTHES_HANGER', 'WIRELESS_ACCESSORY',\n",
       "       'PORTABLE_TOOL_BOX', 'HEADPHONES', 'CAMERA_TRIPOD', 'EARRING',\n",
       "       'FILE_FOLDER', 'ACCESSORY_OR_PART_OR_SUPPLY', 'STORAGE_HOOK',\n",
       "       'WRENCH', 'NUTRITIONAL_SUPPLEMENT', 'SWATCH', 'COFFEE',\n",
       "       'FURNITURE_COVER', 'DESK', 'WRITING_BOARD', 'SOFA',\n",
       "       'INSTRUMENT_PARTS_AND_ACCESSORIES', 'PROTEIN_SUPPLEMENT_POWDER',\n",
       "       'PERCUSSION_INSTRUMENTS', 'JUICE_AND_JUICE_DRINK', 'SPEAKERS',\n",
       "       'SCREEN_PROTECTOR', 'HAT', 'FURNITURE', 'WALLET', 'SAUTE_FRY_PAN',\n",
       "       'MARKING_PEN', 'HEALTH_PERSONAL_CARE', 'TECHNICAL_SPORT_SHOE',\n",
       "       'CHAIR', 'OVERALLS', 'VEHICLE_SEAT_COVER',\n",
       "       'PORTABLE_ELECTRONIC_DEVICE_COVER', 'MULTIPORT_HUB', 'MICROPHONE',\n",
       "       'DAIRY_BASED_DRINK', 'KITCHEN', 'STAPLER',\n",
       "       'HOME_LIGHTING_AND_LAMPS', 'MOUSE_PAD', 'THERMOPLASTIC_FILAMENT',\n",
       "       'EARMUFF', 'DISHWARE_PLATE', 'SKIN_CLEANING_AGENT',\n",
       "       'DAIRY_BASED_CHEESE', 'TOWEL_HOLDER', 'SAUCE', 'SNACK_FOOD_BAR',\n",
       "       'DRYING_RACK', 'CLEANING_AGENT', 'BEAUTY', 'AREA_DEODORIZER',\n",
       "       'MECHANICAL_COMPONENTS', 'CHARGING_ADAPTER', 'FLASH_MEMORY',\n",
       "       'STORAGE_BINDER', 'NECKLACE', 'STOOL_SEATING',\n",
       "       'CAMERA_OTHER_ACCESSORIES', 'ELECTROMECHANICAL_GAUGE',\n",
       "       'DISHWARE_PLACE_SETTING', 'BAG', 'PINBOARD',\n",
       "       'WIRELESS_LOCKED_PHONE', 'FLAT_SCREEN_DISPLAY_MOUNT',\n",
       "       'AMAZON_TABLET_ACCESSORY', 'EXERCISE_BAND', 'OFFICE_ELECTRONICS',\n",
       "       'ELECTRONIC_ADAPTER', 'DRESSER', 'LAUNDRY_HAMPER',\n",
       "       'HOME_ORGANIZERS_AND_STORAGE', 'FINERING', 'AUTO_OIL',\n",
       "       'KITCHEN_KNIFE', 'AUTO_PART', 'OUTDOOR_RECREATION_PRODUCT',\n",
       "       'PAPER_PRODUCT', 'LOCK', 'HARDWARE_TUBING', 'TOILET_PAPER_HOLDER',\n",
       "       'SAFE', 'BISS', 'FASHIONEARRING', 'WASTE_BAG', 'LIGHT_FIXTURE',\n",
       "       'SKIN_MOISTURIZER', 'LIGHT_BULB', 'MUSCLE_ROLLER',\n",
       "       'CAMERA_BAGS_AND_CASES', 'STORAGE_BOX', 'FOOD_SLICER',\n",
       "       'WINDOW_SHADE', 'STRINGED_INSTRUMENTS', 'DOORSTOP',\n",
       "       'STORAGE_DRAWER', 'DUTCH_OVENS', 'HEADBOARD', 'CLOTHES_RACK',\n",
       "       'EARPLUG', 'FINEOTHER', 'TRASH_CAN', 'BED_FRAME',\n",
       "       'VIDEO_GAME_ACCESSORIES', 'LAUNDRY_DETERGENT', 'WATER',\n",
       "       'INPUT_MOUSE', 'ASTRINGENT_SUBSTANCE', 'POULTRY',\n",
       "       'NOTEBOOK_COMPUTER', 'NETWORK_INTERFACE_CONTROLLER_ADAPTER',\n",
       "       'DAIRY_BASED_CREAM', 'VITAMIN', 'ENVELOPE', 'PUMP_DISPENSER',\n",
       "       'ABIS_ELECTRONICS', 'CARRYING_CASE_OR_BAG', 'BOTTLE_OPENER',\n",
       "       'BASKET', 'NOODLE', 'FURNITURE_LINER', 'RAZOR_BLADE_CARTRIDGE',\n",
       "       'FACIAL_TISSUE', 'CLEANING_BRUSH', 'BENCH', 'STORAGE_BAG',\n",
       "       'TOOTHBRUSH_HOLDER', 'MAJOR_HOME_APPLIANCES', 'BOTTLE_RACK', 'JAR',\n",
       "       'COMPUTER_ADD_ON', 'WOUND_DRESSING', 'WINE', 'FAUCET', 'VEGETABLE',\n",
       "       'VALVE', 'WATER_PURIFICATION_UNIT', 'CHOCOLATE_CANDY',\n",
       "       'SKIN_CLEANING_WIPE', 'ABIS_DRUGSTORE', 'NAIL_POLISH',\n",
       "       'BREAKFAST_CEREAL', 'BODY_POSITIONER', 'CANDLE', 'BRACELET',\n",
       "       'FASHIONRING', 'POWER_SUPPLIES_OR_PROTECTION', 'TOTE_BAG',\n",
       "       'PLANTER', 'PET_PEST_CONTROL', 'BINOCULAR', 'SNACK_CHIP_AND_CRISP',\n",
       "       'SECURITY_ELECTRONICS', 'CAKE', 'PRINT_COPY_PAPER',\n",
       "       'HARDWARE_HINGE', 'CLOCK', 'STORAGE_RACK', 'HAIRBAND', 'MEAT',\n",
       "       'AV_FURNITURE', 'LUGGAGE', 'HONEY', 'FISH', 'KEYBOARDS',\n",
       "       'NUT_BUTTER', 'CABINET', 'AUTO_ACCESSORY', 'CE_ACCESSORY',\n",
       "       'WRITING_INSTRUMENT', 'UMBRELLA', 'TEA', 'AIR_CONDITIONER',\n",
       "       'FRUIT', 'DRILL_BITS', 'ABIS_BEAUTY', 'FOOD_STORAGE_BAG',\n",
       "       'LIP_COLOR', 'LEGUME', 'RUG_PAD', 'CAMERA_LENS_FILTERS',\n",
       "       'HAIR_COMB', 'SWEATBAND', 'LITTER_BOX', 'TOILET_SEAT',\n",
       "       'PORTABLE_ELECTRONIC_DEVICE_MOUNT', 'CARGO_STRAP', 'ELECTRIC_FAN',\n",
       "       'BATHWATER_ADDITIVE', 'BUCKET', 'PLACEMAT',\n",
       "       'DAIRY_BASED_ICE_CREAM', 'TEACHING_EQUIPMENT', 'PERSONAL_COMPUTER',\n",
       "       'SALAD_DRESSING', 'TOOTHBRUSH', 'CAN_OPENER', 'PANTRY', 'EYEWEAR',\n",
       "       'TRANSPORT_RACK', 'DISHWARE_BOWL', 'SHIPPING_BOX',\n",
       "       'PORTABLE_AUDIO', 'CONSUMER_ELECTRONICS',\n",
       "       'LICENSE_PLATE_ATTACHMENT', 'VACUUM_CLEANER',\n",
       "       'CAR_AUDIO_OR_THEATER', 'REMOTE_CONTROL', 'PACIFIER',\n",
       "       'VEHICLE_INTERIOR_SHADE', 'BED', 'JEWELRY_STORAGE',\n",
       "       'MINERAL_SUPPLEMENT', 'PACKAGED_SOUP_AND_STEW', 'SHAMPOO',\n",
       "       'EDIBLE_OIL_VEGETABLE', 'MULTITOOL', 'CANDY',\n",
       "       'FASHIONNECKLACEBRACELETANKLET', 'SNACK_MIX', 'ORTHOPEDIC_BRACE',\n",
       "       'PERSONAL_CARE_APPLIANCE', 'DISHWASHER', 'ABIS_LAWN_AND_GARDEN',\n",
       "       'KNIFE_BLOCK_SET', 'PAPER_TOWEL_HOLDER', 'VINEGAR', 'EXERCISE_MAT',\n",
       "       'BOTTLE', 'HERBAL_SUPPLEMENT', 'NUTS', 'LEOTARD', 'FUEL_PUMP',\n",
       "       'STRING_LIGHT', 'ARTIFICIAL_TREE', 'DRINKING_STRAW',\n",
       "       'COMPUTER_COMPONENT', 'ABIS_HOME_IMPROVEMENT', 'COSMETIC_BRUSH',\n",
       "       'COOKIE', 'TOY_SLIME', 'SALWAR_SUIT_SET', 'SCISSORS',\n",
       "       'STICKER_DECAL', 'PRETZEL', 'BEAN_BAG_CHAIR', 'FRUIT_SNACK',\n",
       "       'BAKING_PAN', 'SAFETY_GLASSES', 'FREESTANDING_SHELTER',\n",
       "       'ART_AND_CRAFT_SUPPLY', 'ELECTRIC_WATER_BOILER', 'BLANK_MEDIA',\n",
       "       'SUNSCREEN', 'ABIS_BOOK', 'BAKING_PAPER', 'MOUTHWASH',\n",
       "       'POWER_STRIP', 'COSMETIC_CASE', 'WATCH', 'BABY_PRODUCT',\n",
       "       'ROOM_DIVIDER', 'MONITOR', 'INK_OR_TONER', 'PLIERS',\n",
       "       'LIGHT_SOURCE', 'AUTO_CHEMICAL', 'FLOUR', 'COMPUTER', 'PITCHER',\n",
       "       'SUGAR', 'DISHWASHER_DETERGENT', 'REFRIGERATOR', 'CRACKER',\n",
       "       'ANTENNA', 'PROFESSIONAL_HEALTHCARE',\n",
       "       'SOUND_AND_RECORDING_EQUIPMENT', 'DEHUMIDIFIER', 'WATER_PUMP',\n",
       "       'DRINK_FLAVORED', 'CARD_STOCK', 'GPS_OR_NAVIGATION_SYSTEM',\n",
       "       'FOOD_BLENDER', 'FOUNTAIN', 'COFFEE_MAKER', 'FIGURINE',\n",
       "       'DAIRY_BASED_BUTTER', 'CASSEROLES', 'SELF_STICK_NOTE', 'SAW_BLADE',\n",
       "       'PAINT_BRUSH', 'TOASTER', 'BAKING_MIX', 'ICE_CHEST', 'POPCORN',\n",
       "       'TELEVISION', 'RING', 'BADGE_HOLDER', 'SHOWERHEAD',\n",
       "       'HOME_LIGHTING_ACCESSORY', 'RECEIVER_OR_AMPLIFIER',\n",
       "       'ANIMAL_LITTER', 'PERSONAL_PILL_DISPENSER', 'MASCARA', 'BARBELL',\n",
       "       'MILK_SUBSTITUTE', 'BROOM', 'INPUT_PEN', 'SHOE_INSERT',\n",
       "       'COMPUTER_SPEAKER', 'JERKY', 'LAB_SUPPLY', 'PHONE_ACCESSORY',\n",
       "       'PET_APPAREL', 'CADDY', 'SUNGLASSES', 'SHEET_PAN', 'STROLLER',\n",
       "       'HAIR_IRON', 'EYELID_COLOR', 'CONDITIONER', 'MEASURING_CUP',\n",
       "       'PORTABLE_AV_DEVICE', 'MEDIA_STORAGE', 'CHILDRENS_COSTUME',\n",
       "       'COMPUTER_DRIVE_OR_STORAGE', 'TENT', 'WHEEL', 'PRESSURE_COOKER',\n",
       "       'CANDLE_HOLDER', 'WEIGH_SCALE', 'AIR_COMPRESSOR', 'PUNCHING_BAG',\n",
       "       'CE_CARRYING_CASE_OR_BAG', 'MASSAGER', 'FOOD_PROCESSOR',\n",
       "       'STEERING_WHEEL_COVER', 'AIR_MATTRESS', 'POWER_CONVERTER',\n",
       "       'LEAVENING_AGENT', 'FITNESS_BENCH', 'SEALS', 'MICROSCOPES',\n",
       "       'TOY_BUILDING_BLOCK', 'PASTRY', 'COMPUTER_INPUT_DEVICE',\n",
       "       'COUNTERTOP_GRIDDLE_APPLIANCE', 'MEAL_HOLDER', 'NON_DAIRY_CREAM',\n",
       "       'TRACK_SUIT', 'PUZZLES', 'INCENSE', 'BABY_BOTTLE', 'BOXING_GLOVE',\n",
       "       'MEMORY_READER', 'GPS_OR_NAVIGATION_ACCESSORY', 'HUMIDIFIER',\n",
       "       'ABIS_VIDEO_GAMES', 'SLEEPING_BAG', 'EDUCATIONAL_SUPPLIES',\n",
       "       'SPIRITS', 'COSMETIC_POWDER', 'DRINK_COASTER', 'PHONE',\n",
       "       'POWER_BANK', 'CHARM', 'TOY_FIGURE', 'WRITING_PAPER', 'LIP_BALM',\n",
       "       'AIR_PUMP', 'FASTENER_DRIVE_BIT', 'RICE_MIX', 'INKJET_PRINTER_INK',\n",
       "       'ELECTRONIC_DEVICE_DOCKING_STATION', 'KITCHEN_TOOLS',\n",
       "       'PORTABLE_STOVE', 'VACUUM_SEALER_MACHINE', 'BOOKEND', 'POT_HOLDER',\n",
       "       'RICE_COOKERS', 'WHEEL_CUTTER', 'FOOD_PREPARATION_MOLD',\n",
       "       'MICROWAVE_OVEN', 'JUICER', 'UTILITY_KNIFE', 'AIR_PURIFIER',\n",
       "       'WASHER_DRYER_COMBINATION', 'RADIO', 'VEHICLE_LIGHT_BULB',\n",
       "       'TERMINAL_BLOCK', 'CALCULATOR', 'SUGAR_CANDY', 'SHELLFISH',\n",
       "       'SKIN_EXFOLIANT', 'AMAZON_BOOK_READER_ACCESSORY',\n",
       "       'COUNTERTOP_OVEN', 'LANDLINE_PHONE', 'BARBECUE_GRILL',\n",
       "       'HAIR_STYLING_AGENT', 'WILDLIFE_FEEDER', 'NECKTIE',\n",
       "       'VIDEO_PROJECTOR', 'FLAVORED_DRINK_CONCENTRATE',\n",
       "       'SYSTEM_POWER_DEVICE', 'TOOTH_CLEANING_AGENT', 'FOOD_MIXER',\n",
       "       'TABLETOP_GAME', 'THERMOS', 'JEWELRY_SET', 'SUGAR_SUBSTITUTE',\n",
       "       'LAUNDRY_APPLIANCE', 'THICKENING_AGENT', 'TWO_WAY_RADIO',\n",
       "       'ESSENTIAL_OIL', 'GAME_DICE', 'HAIR_BRUSH', 'COOKING_OVEN',\n",
       "       'PET_TOY', 'CAMCORDER', 'COUNTERTOP_BURNER',\n",
       "       'BREAD_MAKING_MACHINE', 'DIGITAL_DEVICE_3', 'FLASH_DRIVE',\n",
       "       'FASHIONOTHER', 'KICK_SCOOTER', 'BODY_LUBRICANT', 'SUSPENDER',\n",
       "       'VINE', 'NON_RIDING_TOY_VEHICLE', 'BODY_DEODORANT',\n",
       "       'HAIR_COLORING_AGENT', 'CAR_ELECTRONICS',\n",
       "       'REFRIGERATION_APPLIANCE', 'SLEEP_MASK', 'AGRICULTURAL_SUPPLIES',\n",
       "       'SLOW_COOKER', 'CONDIMENT', 'RUG', 'HOME_MIRROR', 'WALL_ART',\n",
       "       'PILLOW', 'BUILDING_MATERIAL', 'CURTAIN', 'PICTURE_FRAME',\n",
       "       'ELECTRONIC_CABLE', 'BLANKET', 'UTILITY_CART_WAGON', 'MATTRESS',\n",
       "       'ANIMAL_COLLAR'], dtype=object)"
      ]
     },
     "execution_count": 7,
     "metadata": {},
     "output_type": "execute_result"
    }
   ],
   "source": [
    "df.category.unique()"
   ]
  },
  {
   "cell_type": "code",
   "execution_count": 8,
   "id": "6245490e-4070-408c-bf90-21d3d21cc356",
   "metadata": {},
   "outputs": [
    {
     "data": {
      "text/html": [
       "<div>\n",
       "<style scoped>\n",
       "    .dataframe tbody tr th:only-of-type {\n",
       "        vertical-align: middle;\n",
       "    }\n",
       "\n",
       "    .dataframe tbody tr th {\n",
       "        vertical-align: top;\n",
       "    }\n",
       "\n",
       "    .dataframe thead th {\n",
       "        text-align: right;\n",
       "    }\n",
       "</style>\n",
       "<table border=\"1\" class=\"dataframe\">\n",
       "  <thead>\n",
       "    <tr style=\"text-align: right;\">\n",
       "      <th></th>\n",
       "      <th>id</th>\n",
       "      <th>image_id_main</th>\n",
       "      <th>name</th>\n",
       "      <th>language</th>\n",
       "      <th>category</th>\n",
       "      <th>domain</th>\n",
       "      <th>image_ids_other</th>\n",
       "    </tr>\n",
       "  </thead>\n",
       "  <tbody>\n",
       "    <tr>\n",
       "      <th>count</th>\n",
       "      <td>106474</td>\n",
       "      <td>106474</td>\n",
       "      <td>106474</td>\n",
       "      <td>106474</td>\n",
       "      <td>106474</td>\n",
       "      <td>106474</td>\n",
       "      <td>106474</td>\n",
       "    </tr>\n",
       "    <tr>\n",
       "      <th>unique</th>\n",
       "      <td>105948</td>\n",
       "      <td>95551</td>\n",
       "      <td>101108</td>\n",
       "      <td>7</td>\n",
       "      <td>493</td>\n",
       "      <td>18</td>\n",
       "      <td>73023</td>\n",
       "    </tr>\n",
       "    <tr>\n",
       "      <th>top</th>\n",
       "      <td>B07K4SL4HQ</td>\n",
       "      <td>61OnkGVhMWL</td>\n",
       "      <td>Amazon Brand - Symbol Men's Sneakers</td>\n",
       "      <td>en_IN</td>\n",
       "      <td>CELLULAR_PHONE_CASE</td>\n",
       "      <td>amazon.in</td>\n",
       "      <td>61+woWTqkwL,61SE4RTPjdL</td>\n",
       "    </tr>\n",
       "    <tr>\n",
       "      <th>freq</th>\n",
       "      <td>3</td>\n",
       "      <td>418</td>\n",
       "      <td>300</td>\n",
       "      <td>74006</td>\n",
       "      <td>64668</td>\n",
       "      <td>74002</td>\n",
       "      <td>15011</td>\n",
       "    </tr>\n",
       "  </tbody>\n",
       "</table>\n",
       "</div>"
      ],
      "text/plain": [
       "                id image_id_main                                  name  \\\n",
       "count       106474        106474                                106474   \n",
       "unique      105948         95551                                101108   \n",
       "top     B07K4SL4HQ   61OnkGVhMWL  Amazon Brand - Symbol Men's Sneakers   \n",
       "freq             3           418                                   300   \n",
       "\n",
       "       language             category     domain          image_ids_other  \n",
       "count    106474               106474     106474                   106474  \n",
       "unique        7                  493         18                    73023  \n",
       "top       en_IN  CELLULAR_PHONE_CASE  amazon.in  61+woWTqkwL,61SE4RTPjdL  \n",
       "freq      74006                64668      74002                    15011  "
      ]
     },
     "execution_count": 8,
     "metadata": {},
     "output_type": "execute_result"
    }
   ],
   "source": [
    "df.describe()"
   ]
  },
  {
   "cell_type": "code",
   "execution_count": 9,
   "id": "852acc4a-e662-469e-9a63-a08b1e610110",
   "metadata": {},
   "outputs": [
    {
     "name": "stdout",
     "output_type": "stream",
     "text": [
      "['i', 'me', 'my', 'myself', 'we', 'our', 'ours', 'ourselves', 'you', \"you're\", \"you've\", \"you'll\", \"you'd\", 'your', 'yours', 'yourself', 'yourselves', 'he', 'him', 'his', 'himself', 'she', \"she's\", 'her', 'hers', 'herself', 'it', \"it's\", 'its', 'itself', 'they', 'them', 'their', 'theirs', 'themselves', 'what', 'which', 'who', 'whom', 'this', 'that', \"that'll\", 'these', 'those', 'am', 'is', 'are', 'was', 'were', 'be', 'been', 'being', 'have', 'has', 'had', 'having', 'do', 'does', 'did', 'doing', 'a', 'an', 'the', 'and', 'but', 'if', 'or', 'because', 'as', 'until', 'while', 'of', 'at', 'by', 'for', 'with', 'about', 'against', 'between', 'into', 'through', 'during', 'before', 'after', 'above', 'below', 'to', 'from', 'up', 'down', 'in', 'out', 'on', 'off', 'over', 'under', 'again', 'further', 'then', 'once', 'here', 'there', 'when', 'where', 'why', 'how', 'all', 'any', 'both', 'each', 'few', 'more', 'most', 'other', 'some', 'such', 'no', 'nor', 'not', 'only', 'own', 'same', 'so', 'than', 'too', 'very', 's', 't', 'can', 'will', 'just', 'don', \"don't\", 'should', \"should've\", 'now', 'd', 'll', 'm', 'o', 're', 've', 'y', 'ain', 'aren', \"aren't\", 'couldn', \"couldn't\", 'didn', \"didn't\", 'doesn', \"doesn't\", 'hadn', \"hadn't\", 'hasn', \"hasn't\", 'haven', \"haven't\", 'isn', \"isn't\", 'ma', 'mightn', \"mightn't\", 'mustn', \"mustn't\", 'needn', \"needn't\", 'shan', \"shan't\", 'shouldn', \"shouldn't\", 'wasn', \"wasn't\", 'weren', \"weren't\", 'won', \"won't\", 'wouldn', \"wouldn't\"]\n"
     ]
    }
   ],
   "source": [
    "import nltk\n",
    "from nltk.corpus import stopwords\n",
    "print(stopwords.words('english'))"
   ]
  },
  {
   "cell_type": "code",
   "execution_count": 10,
   "id": "a947b73d-89d4-44a8-9749-cc4b90a2e06f",
   "metadata": {},
   "outputs": [],
   "source": [
    "def categoryToWords(cat):\n",
    "    return \" \".join(cat.lower().split(\"_\"))"
   ]
  },
  {
   "cell_type": "code",
   "execution_count": 11,
   "id": "cc3496d0-55c8-435e-b2ff-96b6bf58e37f",
   "metadata": {},
   "outputs": [],
   "source": [
    "def cleanTitle(name):\n",
    "    pattern = re.compile('[\\W_]+')\n",
    "    cleaned1 = pattern.sub(' ', name)\n",
    "    cleaned2 = \" \".join([ word for word in cleaned1.split(\" \") if word not in stopwords.words('english') and len(word)>=3 ])\n",
    "    return cleaned2.lower()"
   ]
  },
  {
   "cell_type": "code",
   "execution_count": 12,
   "id": "06447fed-28aa-4d46-947c-4846e1cbcead",
   "metadata": {},
   "outputs": [
    {
     "data": {
      "text/plain": [
       "'home amazon brand solimo fabric storage box lid medium set medical blue blue'"
      ]
     },
     "execution_count": 12,
     "metadata": {},
     "output_type": "execute_result"
    }
   ],
   "source": [
    "cleanTitle(\"home Amazon Brand - Solimo Fabric Storage Box with Lid, Medium, Set of 3, Medical Blue and R. Blue\")"
   ]
  },
  {
   "cell_type": "code",
   "execution_count": 13,
   "id": "00476aed-0da5-4040-8c55-f15414228c50",
   "metadata": {},
   "outputs": [],
   "source": [
    "# with open(\"catv3.txt\",\"w\") as train_file:\n",
    "#     for index,row in df[[\"name\",\"category\"]].iterrows():\n",
    "#         train_file.write(\"__label__\"+row['category']+\" \"+cleanTitle(row['name'])+\"\\r\\n\")"
   ]
  },
  {
   "cell_type": "code",
   "execution_count": 14,
   "id": "74d55f5c-4bd4-4b96-be64-532fa813da4f",
   "metadata": {},
   "outputs": [],
   "source": [
    "import fasttext\n"
   ]
  },
  {
   "cell_type": "code",
   "execution_count": 15,
   "id": "bc10d122-d9f9-4316-9619-d8a5a2042bf0",
   "metadata": {},
   "outputs": [
    {
     "name": "stderr",
     "output_type": "stream",
     "text": [
      "Warning : `load_model` does not return WordVectorModel or SupervisedModel any more, but a `FastText` object which is very similar.\n"
     ]
    }
   ],
   "source": [
    "model = fasttext.load_model(\"cat_model_v3.bin\")"
   ]
  },
  {
   "cell_type": "code",
   "execution_count": 16,
   "id": "8fabab1c-d208-48a1-a0ec-166880513636",
   "metadata": {},
   "outputs": [],
   "source": [
    "# model= fasttext.train_supervised(input=\"catv3_train.txt\")"
   ]
  },
  {
   "cell_type": "code",
   "execution_count": 17,
   "id": "5c83aa3a-8027-49d6-a206-78977328e2d8",
   "metadata": {},
   "outputs": [],
   "source": [
    "#model.save_model(\"cat_model_v3.bin\")"
   ]
  },
  {
   "cell_type": "code",
   "execution_count": 19,
   "id": "35d62d36-b61c-4a5c-9401-105a4baaa986",
   "metadata": {},
   "outputs": [
    {
     "data": {
      "text/plain": [
       "(15985, 0.8873318736315295, 0.8873318736315295)"
      ]
     },
     "execution_count": 19,
     "metadata": {},
     "output_type": "execute_result"
    }
   ],
   "source": [
    "model.test(\"catv3_val.txt\", k=1)"
   ]
  },
  {
   "cell_type": "code",
   "execution_count": 20,
   "id": "f074ebf0-30ca-4d00-8de2-c1993db6ad1f",
   "metadata": {},
   "outputs": [],
   "source": [
    "def getLabels(text=\"amazon brand solimo designer line texture wall printed hard back case mobile cover gionee f103 pro\", clean=True,k=5, threshold=0.1):\n",
    "    if(clean):\n",
    "        text = cleanTitle(text)\n",
    "    (labels,probs) = model.predict(text,k)\n",
    "    return_list = []\n",
    "    for index,prob in enumerate(probs):\n",
    "        if prob >= threshold:\n",
    "            return_list.append((labels[index],probs[index]))\n",
    "    return return_list"
   ]
  },
  {
   "cell_type": "code",
   "execution_count": 21,
   "id": "c1de22ff-dc75-458a-8ab9-7ba4df76f496",
   "metadata": {},
   "outputs": [
    {
     "data": {
      "text/plain": [
       "[('__label__OFFICE_PRODUCTS', 0.13958366215229034)]"
      ]
     },
     "execution_count": 21,
     "metadata": {},
     "output_type": "execute_result"
    }
   ],
   "source": [
    "getLabels(\"AmazonBasics Retractable Ballpoint Pen Black Pack Renewed\",True)"
   ]
  },
  {
   "cell_type": "code",
   "execution_count": 22,
   "id": "b132d644-abd9-4186-b72a-bffd043b5131",
   "metadata": {},
   "outputs": [
    {
     "data": {
      "text/plain": [
       "[('__label__BOOT', 0.7276193499565125), ('__label__SHOES', 0.250287264585495)]"
      ]
     },
     "execution_count": 22,
     "metadata": {},
     "output_type": "execute_result"
    }
   ],
   "source": [
    "getLabels(\"Simple Joys Carter Baby Girls Ella Bootie Chelsea Boot Tan Toddler\")"
   ]
  },
  {
   "cell_type": "code",
   "execution_count": 23,
   "id": "31aa5aa6-60ca-42d7-81c7-18cc1181cfe1",
   "metadata": {},
   "outputs": [
    {
     "data": {
      "text/plain": [
       "'GROCERY'"
      ]
     },
     "execution_count": 23,
     "metadata": {},
     "output_type": "execute_result"
    }
   ],
   "source": [
    "getLabels(\"365 Everyday Value Maximum Digestive Health Probiotic Billion CFU\")[0][0][9:]"
   ]
  },
  {
   "cell_type": "code",
   "execution_count": 37,
   "id": "91bf058e-8f84-4318-a02e-10926836c2b1",
   "metadata": {},
   "outputs": [],
   "source": [
    "# label_correlation = []\n",
    "# for index,row in df[['name','category']].iterrows():\n",
    "#     for (label,prob) in getLabels(row['name']):\n",
    "#         label_correlation.append([row['category'],label[9:],prob])"
   ]
  },
  {
   "cell_type": "code",
   "execution_count": 39,
   "id": "0533f58f-94e0-4a2c-9270-43fe389409db",
   "metadata": {},
   "outputs": [],
   "source": [
    "import pickle \n",
    "# with open(\"label_correlation.csv\",\"wb\") as label_file:\n",
    "#     pickle.dump(label_correlation,label_file)\n",
    "with open(\"label_correlation.csv\",\"rb\") as label_file:\n",
    "    label_correlation = pickle.load(label_file)"
   ]
  },
  {
   "cell_type": "code",
   "execution_count": 40,
   "id": "d3cb38f1-9716-404f-a6c8-18054d69e836",
   "metadata": {},
   "outputs": [
    {
     "data": {
      "text/plain": [
       "117909"
      ]
     },
     "execution_count": 40,
     "metadata": {},
     "output_type": "execute_result"
    }
   ],
   "source": [
    "len(label_correlation)"
   ]
  },
  {
   "cell_type": "code",
   "execution_count": 41,
   "id": "71e4eb7d-cfb9-4b86-a8af-762fe020bccd",
   "metadata": {},
   "outputs": [
    {
     "data": {
      "text/plain": [
       "[['CELLULAR_PHONE_CASE', 'CELLULAR_PHONE_CASE', 0.9998881816864014],\n",
       " ['OFFICE_PRODUCTS', 'OFFICE_PRODUCTS', 0.1819745898246765],\n",
       " ['SHOES', 'SHOES', 0.9968297481536865],\n",
       " ['HOME_BED_AND_BATH', 'HOME_BED_AND_BATH', 0.9901714324951172],\n",
       " ['SHOES', 'SHOES', 0.893153190612793],\n",
       " ['SHOES', 'SANDAL', 0.7175414562225342],\n",
       " ['SHOES', 'SHOES', 0.2793114185333252],\n",
       " ['SHOES', 'SHOES', 0.5180142521858215],\n",
       " ['SHOES', 'SANDAL', 0.29658058285713196],\n",
       " ['HOME', 'HOME', 0.9626740217208862]]"
      ]
     },
     "execution_count": 41,
     "metadata": {},
     "output_type": "execute_result"
    }
   ],
   "source": [
    "label_correlation[:10]"
   ]
  },
  {
   "cell_type": "code",
   "execution_count": 50,
   "id": "088a6b46-a7b0-4eb2-b3fc-336bc05bb2c3",
   "metadata": {},
   "outputs": [],
   "source": [
    "label_df = pd.DataFrame(label_correlation,columns=['cat1','cat2','prob'])"
   ]
  },
  {
   "cell_type": "code",
   "execution_count": 51,
   "id": "85ee1da2-c0f4-4084-8716-095a16dfa0f5",
   "metadata": {},
   "outputs": [],
   "source": [
    "label_df = label_df.sort_values(by=\"prob\",ascending=False)"
   ]
  },
  {
   "cell_type": "code",
   "execution_count": 52,
   "id": "7f8baf74-03e1-42b8-b7c6-d158d6c40b9d",
   "metadata": {},
   "outputs": [],
   "source": [
    "label_df = label_df[label_df.cat1 != label_df.cat2]"
   ]
  },
  {
   "cell_type": "code",
   "execution_count": 53,
   "id": "991cf051-50bf-4508-9722-c418822e86bc",
   "metadata": {},
   "outputs": [
    {
     "data": {
      "text/html": [
       "<div>\n",
       "<style scoped>\n",
       "    .dataframe tbody tr th:only-of-type {\n",
       "        vertical-align: middle;\n",
       "    }\n",
       "\n",
       "    .dataframe tbody tr th {\n",
       "        vertical-align: top;\n",
       "    }\n",
       "\n",
       "    .dataframe thead th {\n",
       "        text-align: right;\n",
       "    }\n",
       "</style>\n",
       "<table border=\"1\" class=\"dataframe\">\n",
       "  <thead>\n",
       "    <tr style=\"text-align: right;\">\n",
       "      <th></th>\n",
       "      <th>cat1</th>\n",
       "      <th>cat2</th>\n",
       "      <th>prob</th>\n",
       "    </tr>\n",
       "  </thead>\n",
       "  <tbody>\n",
       "    <tr>\n",
       "      <th>8796</th>\n",
       "      <td>BOOT</td>\n",
       "      <td>SHOES</td>\n",
       "      <td>0.999428</td>\n",
       "    </tr>\n",
       "    <tr>\n",
       "      <th>94995</th>\n",
       "      <td>CHAIR</td>\n",
       "      <td>GROCERY</td>\n",
       "      <td>0.998972</td>\n",
       "    </tr>\n",
       "    <tr>\n",
       "      <th>59052</th>\n",
       "      <td>CHAIR</td>\n",
       "      <td>GROCERY</td>\n",
       "      <td>0.998972</td>\n",
       "    </tr>\n",
       "    <tr>\n",
       "      <th>85859</th>\n",
       "      <td>BOOT</td>\n",
       "      <td>SHOES</td>\n",
       "      <td>0.997657</td>\n",
       "    </tr>\n",
       "    <tr>\n",
       "      <th>100736</th>\n",
       "      <td>BOOT</td>\n",
       "      <td>SHOES</td>\n",
       "      <td>0.997657</td>\n",
       "    </tr>\n",
       "  </tbody>\n",
       "</table>\n",
       "</div>"
      ],
      "text/plain": [
       "         cat1     cat2      prob\n",
       "8796     BOOT    SHOES  0.999428\n",
       "94995   CHAIR  GROCERY  0.998972\n",
       "59052   CHAIR  GROCERY  0.998972\n",
       "85859    BOOT    SHOES  0.997657\n",
       "100736   BOOT    SHOES  0.997657"
      ]
     },
     "execution_count": 53,
     "metadata": {},
     "output_type": "execute_result"
    }
   ],
   "source": [
    "label_df.head()"
   ]
  },
  {
   "cell_type": "code",
   "execution_count": 54,
   "id": "012af1f4-14e9-4f74-a454-35963255681a",
   "metadata": {},
   "outputs": [],
   "source": [
    "label_df.to_csv(\"label_df.csv\",index=False)"
   ]
  },
  {
   "cell_type": "code",
   "execution_count": 55,
   "id": "3c9c0aac-6123-4473-bdf3-cc3eca7c2f0a",
   "metadata": {},
   "outputs": [],
   "source": [
    "label_df = pd.read_csv(\"label_df.csv\")"
   ]
  },
  {
   "cell_type": "code",
   "execution_count": 56,
   "id": "0fb5f617-5b3e-48c1-87cd-1d1afca058e5",
   "metadata": {},
   "outputs": [],
   "source": [
    "g1 = label_df.groupby(by=[\"cat1\",'cat2']).sum().reset_index().sort_values(by=\"prob\",ascending=False)"
   ]
  },
  {
   "cell_type": "code",
   "execution_count": 57,
   "id": "8853c292-e293-44da-8e27-9c7e0233addf",
   "metadata": {},
   "outputs": [],
   "source": [
    "g1 = g1.sort_values(by=\"prob\",ascending=False)"
   ]
  },
  {
   "cell_type": "code",
   "execution_count": 59,
   "id": "9eb5a90f-bcd6-4c93-bf13-e4d3094d1f09",
   "metadata": {},
   "outputs": [
    {
     "data": {
      "text/html": [
       "<div>\n",
       "<style scoped>\n",
       "    .dataframe tbody tr th:only-of-type {\n",
       "        vertical-align: middle;\n",
       "    }\n",
       "\n",
       "    .dataframe tbody tr th {\n",
       "        vertical-align: top;\n",
       "    }\n",
       "\n",
       "    .dataframe thead th {\n",
       "        text-align: right;\n",
       "    }\n",
       "</style>\n",
       "<table border=\"1\" class=\"dataframe\">\n",
       "  <thead>\n",
       "    <tr style=\"text-align: right;\">\n",
       "      <th></th>\n",
       "      <th>prob</th>\n",
       "    </tr>\n",
       "  </thead>\n",
       "  <tbody>\n",
       "    <tr>\n",
       "      <th>count</th>\n",
       "      <td>1840.000000</td>\n",
       "    </tr>\n",
       "    <tr>\n",
       "      <th>mean</th>\n",
       "      <td>3.286712</td>\n",
       "    </tr>\n",
       "    <tr>\n",
       "      <th>std</th>\n",
       "      <td>13.416960</td>\n",
       "    </tr>\n",
       "    <tr>\n",
       "      <th>min</th>\n",
       "      <td>0.100089</td>\n",
       "    </tr>\n",
       "    <tr>\n",
       "      <th>25%</th>\n",
       "      <td>0.160079</td>\n",
       "    </tr>\n",
       "    <tr>\n",
       "      <th>50%</th>\n",
       "      <td>0.415097</td>\n",
       "    </tr>\n",
       "    <tr>\n",
       "      <th>75%</th>\n",
       "      <td>1.378442</td>\n",
       "    </tr>\n",
       "    <tr>\n",
       "      <th>max</th>\n",
       "      <td>211.630534</td>\n",
       "    </tr>\n",
       "  </tbody>\n",
       "</table>\n",
       "</div>"
      ],
      "text/plain": [
       "              prob\n",
       "count  1840.000000\n",
       "mean      3.286712\n",
       "std      13.416960\n",
       "min       0.100089\n",
       "25%       0.160079\n",
       "50%       0.415097\n",
       "75%       1.378442\n",
       "max     211.630534"
      ]
     },
     "execution_count": 59,
     "metadata": {},
     "output_type": "execute_result"
    }
   ],
   "source": [
    "g1.describe()"
   ]
  },
  {
   "cell_type": "code",
   "execution_count": 58,
   "id": "6ad5ce6e-8ff2-4201-8689-2e5e37d25077",
   "metadata": {},
   "outputs": [
    {
     "data": {
      "text/html": [
       "<div>\n",
       "<style scoped>\n",
       "    .dataframe tbody tr th:only-of-type {\n",
       "        vertical-align: middle;\n",
       "    }\n",
       "\n",
       "    .dataframe tbody tr th {\n",
       "        vertical-align: top;\n",
       "    }\n",
       "\n",
       "    .dataframe thead th {\n",
       "        text-align: right;\n",
       "    }\n",
       "</style>\n",
       "<table border=\"1\" class=\"dataframe\">\n",
       "  <thead>\n",
       "    <tr style=\"text-align: right;\">\n",
       "      <th></th>\n",
       "      <th>cat1</th>\n",
       "      <th>cat2</th>\n",
       "      <th>prob</th>\n",
       "    </tr>\n",
       "  </thead>\n",
       "  <tbody>\n",
       "    <tr>\n",
       "      <th>250</th>\n",
       "      <td>BOOT</td>\n",
       "      <td>SHOES</td>\n",
       "      <td>211.630534</td>\n",
       "    </tr>\n",
       "    <tr>\n",
       "      <th>1472</th>\n",
       "      <td>SHOES</td>\n",
       "      <td>BOOT</td>\n",
       "      <td>197.665964</td>\n",
       "    </tr>\n",
       "    <tr>\n",
       "      <th>802</th>\n",
       "      <td>HAT</td>\n",
       "      <td>ACCESSORY</td>\n",
       "      <td>179.707335</td>\n",
       "    </tr>\n",
       "    <tr>\n",
       "      <th>43</th>\n",
       "      <td>ACCESSORY</td>\n",
       "      <td>HAT</td>\n",
       "      <td>168.658458</td>\n",
       "    </tr>\n",
       "    <tr>\n",
       "      <th>1400</th>\n",
       "      <td>SANDAL</td>\n",
       "      <td>SHOES</td>\n",
       "      <td>167.815899</td>\n",
       "    </tr>\n",
       "  </tbody>\n",
       "</table>\n",
       "</div>"
      ],
      "text/plain": [
       "           cat1       cat2        prob\n",
       "250        BOOT      SHOES  211.630534\n",
       "1472      SHOES       BOOT  197.665964\n",
       "802         HAT  ACCESSORY  179.707335\n",
       "43    ACCESSORY        HAT  168.658458\n",
       "1400     SANDAL      SHOES  167.815899"
      ]
     },
     "execution_count": 58,
     "metadata": {},
     "output_type": "execute_result"
    }
   ],
   "source": [
    "g1.head()"
   ]
  },
  {
   "cell_type": "code",
   "execution_count": 60,
   "id": "d7f684ae-4633-42db-a4e9-7529c3129156",
   "metadata": {},
   "outputs": [],
   "source": [
    "top  = g1[g1.prob>=4]"
   ]
  },
  {
   "cell_type": "code",
   "execution_count": 61,
   "id": "7cc978e8-c427-4eef-9bef-393acbcfdf46",
   "metadata": {},
   "outputs": [
    {
     "name": "stderr",
     "output_type": "stream",
     "text": [
      "/tmp/ipykernel_47/395596978.py:1: SettingWithCopyWarning: \n",
      "A value is trying to be set on a copy of a slice from a DataFrame.\n",
      "Try using .loc[row_indexer,col_indexer] = value instead\n",
      "\n",
      "See the caveats in the documentation: https://pandas.pydata.org/pandas-docs/stable/user_guide/indexing.html#returning-a-view-versus-a-copy\n",
      "  top['key']= top.apply(lambda row:\"-\".join(sorted([row['cat1'],row['cat2']])),axis=1)\n"
     ]
    }
   ],
   "source": [
    "top['key']= top.apply(lambda row:\"-\".join(sorted([row['cat1'],row['cat2']])),axis=1)"
   ]
  },
  {
   "cell_type": "code",
   "execution_count": 77,
   "id": "ce82495d-1e09-4d29-a5b0-63fe9ddca04b",
   "metadata": {},
   "outputs": [],
   "source": [
    "corr = top.groupby(by=\"key\").sum().sort_values(by=\"prob\",ascending=False).reset_index()"
   ]
  },
  {
   "cell_type": "code",
   "execution_count": 78,
   "id": "d4d1afdb-ec47-49bd-bb1f-e2b312dcfebd",
   "metadata": {},
   "outputs": [
    {
     "data": {
      "text/html": [
       "<div>\n",
       "<style scoped>\n",
       "    .dataframe tbody tr th:only-of-type {\n",
       "        vertical-align: middle;\n",
       "    }\n",
       "\n",
       "    .dataframe tbody tr th {\n",
       "        vertical-align: top;\n",
       "    }\n",
       "\n",
       "    .dataframe thead th {\n",
       "        text-align: right;\n",
       "    }\n",
       "</style>\n",
       "<table border=\"1\" class=\"dataframe\">\n",
       "  <thead>\n",
       "    <tr style=\"text-align: right;\">\n",
       "      <th></th>\n",
       "      <th>key</th>\n",
       "      <th>prob</th>\n",
       "    </tr>\n",
       "  </thead>\n",
       "  <tbody>\n",
       "    <tr>\n",
       "      <th>0</th>\n",
       "      <td>BOOT-SHOES</td>\n",
       "      <td>409.296497</td>\n",
       "    </tr>\n",
       "    <tr>\n",
       "      <th>1</th>\n",
       "      <td>ACCESSORY-HAT</td>\n",
       "      <td>348.365792</td>\n",
       "    </tr>\n",
       "    <tr>\n",
       "      <th>2</th>\n",
       "      <td>SANDAL-SHOES</td>\n",
       "      <td>308.301973</td>\n",
       "    </tr>\n",
       "    <tr>\n",
       "      <th>3</th>\n",
       "      <td>HOME-HOME_BED_AND_BATH</td>\n",
       "      <td>245.049009</td>\n",
       "    </tr>\n",
       "    <tr>\n",
       "      <th>4</th>\n",
       "      <td>GROCERY-HEALTH_PERSONAL_CARE</td>\n",
       "      <td>199.164474</td>\n",
       "    </tr>\n",
       "    <tr>\n",
       "      <th>5</th>\n",
       "      <td>FINENECKLACEBRACELETANKLET-NECKLACE</td>\n",
       "      <td>163.419520</td>\n",
       "    </tr>\n",
       "    <tr>\n",
       "      <th>6</th>\n",
       "      <td>GROCERY-HERB</td>\n",
       "      <td>136.447610</td>\n",
       "    </tr>\n",
       "    <tr>\n",
       "      <th>7</th>\n",
       "      <td>EARRING-FINEEARRING</td>\n",
       "      <td>98.311560</td>\n",
       "    </tr>\n",
       "    <tr>\n",
       "      <th>8</th>\n",
       "      <td>COFFEE-GROCERY</td>\n",
       "      <td>93.810375</td>\n",
       "    </tr>\n",
       "    <tr>\n",
       "      <th>9</th>\n",
       "      <td>BEAUTY-GROCERY</td>\n",
       "      <td>79.301497</td>\n",
       "    </tr>\n",
       "  </tbody>\n",
       "</table>\n",
       "</div>"
      ],
      "text/plain": [
       "                                   key        prob\n",
       "0                           BOOT-SHOES  409.296497\n",
       "1                        ACCESSORY-HAT  348.365792\n",
       "2                         SANDAL-SHOES  308.301973\n",
       "3               HOME-HOME_BED_AND_BATH  245.049009\n",
       "4         GROCERY-HEALTH_PERSONAL_CARE  199.164474\n",
       "5  FINENECKLACEBRACELETANKLET-NECKLACE  163.419520\n",
       "6                         GROCERY-HERB  136.447610\n",
       "7                  EARRING-FINEEARRING   98.311560\n",
       "8                       COFFEE-GROCERY   93.810375\n",
       "9                       BEAUTY-GROCERY   79.301497"
      ]
     },
     "execution_count": 78,
     "metadata": {},
     "output_type": "execute_result"
    }
   ],
   "source": [
    "corr.head(10)"
   ]
  },
  {
   "cell_type": "code",
   "execution_count": 79,
   "id": "26b58fc8-0c05-46ef-89bc-1e3284bc039e",
   "metadata": {},
   "outputs": [],
   "source": [
    "corr.to_csv(\"corss.csv\",index=False)"
   ]
  },
  {
   "cell_type": "code",
   "execution_count": 80,
   "id": "6c837f71-e5f0-4ffa-9e54-018ccca52f54",
   "metadata": {},
   "outputs": [],
   "source": [
    "corr = pd.read_csv(\"corss.csv\")"
   ]
  },
  {
   "cell_type": "code",
   "execution_count": 81,
   "id": "d67ae4b9-2165-4742-b157-107618d7a1be",
   "metadata": {},
   "outputs": [
    {
     "data": {
      "text/html": [
       "<div>\n",
       "<style scoped>\n",
       "    .dataframe tbody tr th:only-of-type {\n",
       "        vertical-align: middle;\n",
       "    }\n",
       "\n",
       "    .dataframe tbody tr th {\n",
       "        vertical-align: top;\n",
       "    }\n",
       "\n",
       "    .dataframe thead th {\n",
       "        text-align: right;\n",
       "    }\n",
       "</style>\n",
       "<table border=\"1\" class=\"dataframe\">\n",
       "  <thead>\n",
       "    <tr style=\"text-align: right;\">\n",
       "      <th></th>\n",
       "      <th>key</th>\n",
       "      <th>prob</th>\n",
       "    </tr>\n",
       "  </thead>\n",
       "  <tbody>\n",
       "    <tr>\n",
       "      <th>0</th>\n",
       "      <td>BOOT-SHOES</td>\n",
       "      <td>409.296497</td>\n",
       "    </tr>\n",
       "    <tr>\n",
       "      <th>1</th>\n",
       "      <td>ACCESSORY-HAT</td>\n",
       "      <td>348.365792</td>\n",
       "    </tr>\n",
       "    <tr>\n",
       "      <th>2</th>\n",
       "      <td>SANDAL-SHOES</td>\n",
       "      <td>308.301973</td>\n",
       "    </tr>\n",
       "    <tr>\n",
       "      <th>3</th>\n",
       "      <td>HOME-HOME_BED_AND_BATH</td>\n",
       "      <td>245.049009</td>\n",
       "    </tr>\n",
       "    <tr>\n",
       "      <th>4</th>\n",
       "      <td>GROCERY-HEALTH_PERSONAL_CARE</td>\n",
       "      <td>199.164474</td>\n",
       "    </tr>\n",
       "    <tr>\n",
       "      <th>5</th>\n",
       "      <td>FINENECKLACEBRACELETANKLET-NECKLACE</td>\n",
       "      <td>163.419520</td>\n",
       "    </tr>\n",
       "    <tr>\n",
       "      <th>6</th>\n",
       "      <td>GROCERY-HERB</td>\n",
       "      <td>136.447610</td>\n",
       "    </tr>\n",
       "    <tr>\n",
       "      <th>7</th>\n",
       "      <td>EARRING-FINEEARRING</td>\n",
       "      <td>98.311560</td>\n",
       "    </tr>\n",
       "    <tr>\n",
       "      <th>8</th>\n",
       "      <td>COFFEE-GROCERY</td>\n",
       "      <td>93.810375</td>\n",
       "    </tr>\n",
       "    <tr>\n",
       "      <th>9</th>\n",
       "      <td>BEAUTY-GROCERY</td>\n",
       "      <td>79.301497</td>\n",
       "    </tr>\n",
       "  </tbody>\n",
       "</table>\n",
       "</div>"
      ],
      "text/plain": [
       "                                   key        prob\n",
       "0                           BOOT-SHOES  409.296497\n",
       "1                        ACCESSORY-HAT  348.365792\n",
       "2                         SANDAL-SHOES  308.301973\n",
       "3               HOME-HOME_BED_AND_BATH  245.049009\n",
       "4         GROCERY-HEALTH_PERSONAL_CARE  199.164474\n",
       "5  FINENECKLACEBRACELETANKLET-NECKLACE  163.419520\n",
       "6                         GROCERY-HERB  136.447610\n",
       "7                  EARRING-FINEEARRING   98.311560\n",
       "8                       COFFEE-GROCERY   93.810375\n",
       "9                       BEAUTY-GROCERY   79.301497"
      ]
     },
     "execution_count": 81,
     "metadata": {},
     "output_type": "execute_result"
    }
   ],
   "source": [
    "corr.head(10)"
   ]
  },
  {
   "cell_type": "code",
   "execution_count": 69,
   "id": "6b51a0ad-0f0a-43ec-9b92-f27a521d9bc1",
   "metadata": {},
   "outputs": [],
   "source": [
    "top.to_csv(\"top.csv\",index=False)"
   ]
  },
  {
   "cell_type": "code",
   "execution_count": 70,
   "id": "9db83636-4083-4c08-955e-52ad7ad8ed2c",
   "metadata": {},
   "outputs": [],
   "source": [
    "top = pd.read_csv(\"top.csv\")"
   ]
  },
  {
   "cell_type": "code",
   "execution_count": 71,
   "id": "3eba9810-64e9-4c7c-afda-45311fd687dc",
   "metadata": {},
   "outputs": [
    {
     "data": {
      "text/html": [
       "<div>\n",
       "<style scoped>\n",
       "    .dataframe tbody tr th:only-of-type {\n",
       "        vertical-align: middle;\n",
       "    }\n",
       "\n",
       "    .dataframe tbody tr th {\n",
       "        vertical-align: top;\n",
       "    }\n",
       "\n",
       "    .dataframe thead th {\n",
       "        text-align: right;\n",
       "    }\n",
       "</style>\n",
       "<table border=\"1\" class=\"dataframe\">\n",
       "  <thead>\n",
       "    <tr style=\"text-align: right;\">\n",
       "      <th></th>\n",
       "      <th>cat1</th>\n",
       "      <th>cat2</th>\n",
       "      <th>prob</th>\n",
       "      <th>key</th>\n",
       "    </tr>\n",
       "  </thead>\n",
       "  <tbody>\n",
       "    <tr>\n",
       "      <th>0</th>\n",
       "      <td>BOOT</td>\n",
       "      <td>SHOES</td>\n",
       "      <td>211.630534</td>\n",
       "      <td>BOOT-SHOES</td>\n",
       "    </tr>\n",
       "    <tr>\n",
       "      <th>1</th>\n",
       "      <td>SHOES</td>\n",
       "      <td>BOOT</td>\n",
       "      <td>197.665964</td>\n",
       "      <td>BOOT-SHOES</td>\n",
       "    </tr>\n",
       "    <tr>\n",
       "      <th>2</th>\n",
       "      <td>HAT</td>\n",
       "      <td>ACCESSORY</td>\n",
       "      <td>179.707335</td>\n",
       "      <td>ACCESSORY-HAT</td>\n",
       "    </tr>\n",
       "    <tr>\n",
       "      <th>3</th>\n",
       "      <td>ACCESSORY</td>\n",
       "      <td>HAT</td>\n",
       "      <td>168.658458</td>\n",
       "      <td>ACCESSORY-HAT</td>\n",
       "    </tr>\n",
       "    <tr>\n",
       "      <th>4</th>\n",
       "      <td>SANDAL</td>\n",
       "      <td>SHOES</td>\n",
       "      <td>167.815899</td>\n",
       "      <td>SANDAL-SHOES</td>\n",
       "    </tr>\n",
       "  </tbody>\n",
       "</table>\n",
       "</div>"
      ],
      "text/plain": [
       "        cat1       cat2        prob            key\n",
       "0       BOOT      SHOES  211.630534     BOOT-SHOES\n",
       "1      SHOES       BOOT  197.665964     BOOT-SHOES\n",
       "2        HAT  ACCESSORY  179.707335  ACCESSORY-HAT\n",
       "3  ACCESSORY        HAT  168.658458  ACCESSORY-HAT\n",
       "4     SANDAL      SHOES  167.815899   SANDAL-SHOES"
      ]
     },
     "execution_count": 71,
     "metadata": {},
     "output_type": "execute_result"
    }
   ],
   "source": [
    "top.head()"
   ]
  },
  {
   "cell_type": "code",
   "execution_count": 29,
   "id": "96d5bbca-1aac-42df-89f2-b48b76ef3ed6",
   "metadata": {},
   "outputs": [
    {
     "name": "stderr",
     "output_type": "stream",
     "text": [
      "/tmp/ipykernel_56/3660448926.py:1: FutureWarning: Dropping of nuisance columns in DataFrame reductions (with 'numeric_only=None') is deprecated; in a future version this will raise TypeError.  Select only valid columns before calling the reduction.\n",
      "  g1.mean().to_csv(\"cat_cor.csv\")\n"
     ]
    }
   ],
   "source": [
    "g1.mean().to_csv(\"cat_cor.csv\")"
   ]
  },
  {
   "cell_type": "code",
   "execution_count": 42,
   "id": "30057c2f-07c3-47af-bbb9-684278ac5ce0",
   "metadata": {},
   "outputs": [
    {
     "data": {
      "text/html": [
       "<div>\n",
       "<style scoped>\n",
       "    .dataframe tbody tr th:only-of-type {\n",
       "        vertical-align: middle;\n",
       "    }\n",
       "\n",
       "    .dataframe tbody tr th {\n",
       "        vertical-align: top;\n",
       "    }\n",
       "\n",
       "    .dataframe thead th {\n",
       "        text-align: right;\n",
       "    }\n",
       "</style>\n",
       "<table border=\"1\" class=\"dataframe\">\n",
       "  <thead>\n",
       "    <tr style=\"text-align: right;\">\n",
       "      <th></th>\n",
       "      <th>cat1</th>\n",
       "      <th>cat2</th>\n",
       "      <th>prob</th>\n",
       "      <th>key</th>\n",
       "    </tr>\n",
       "  </thead>\n",
       "  <tbody>\n",
       "    <tr>\n",
       "      <th>250</th>\n",
       "      <td>BOOT</td>\n",
       "      <td>SHOES</td>\n",
       "      <td>211.630534</td>\n",
       "      <td>BOOT-SHOES</td>\n",
       "    </tr>\n",
       "    <tr>\n",
       "      <th>1472</th>\n",
       "      <td>SHOES</td>\n",
       "      <td>BOOT</td>\n",
       "      <td>197.665964</td>\n",
       "      <td>BOOT-SHOES</td>\n",
       "    </tr>\n",
       "    <tr>\n",
       "      <th>802</th>\n",
       "      <td>HAT</td>\n",
       "      <td>ACCESSORY</td>\n",
       "      <td>179.707335</td>\n",
       "      <td>ACCESSORY-HAT</td>\n",
       "    </tr>\n",
       "    <tr>\n",
       "      <th>43</th>\n",
       "      <td>ACCESSORY</td>\n",
       "      <td>HAT</td>\n",
       "      <td>168.658458</td>\n",
       "      <td>ACCESSORY-HAT</td>\n",
       "    </tr>\n",
       "    <tr>\n",
       "      <th>1400</th>\n",
       "      <td>SANDAL</td>\n",
       "      <td>SHOES</td>\n",
       "      <td>167.815899</td>\n",
       "      <td>SANDAL-SHOES</td>\n",
       "    </tr>\n",
       "    <tr>\n",
       "      <th>1476</th>\n",
       "      <td>SHOES</td>\n",
       "      <td>SANDAL</td>\n",
       "      <td>140.486074</td>\n",
       "      <td>SANDAL-SHOES</td>\n",
       "    </tr>\n",
       "    <tr>\n",
       "      <th>890</th>\n",
       "      <td>HOME_BED_AND_BATH</td>\n",
       "      <td>HOME</td>\n",
       "      <td>126.918759</td>\n",
       "      <td>HOME-HOME_BED_AND_BATH</td>\n",
       "    </tr>\n",
       "    <tr>\n",
       "      <th>861</th>\n",
       "      <td>HOME</td>\n",
       "      <td>HOME_BED_AND_BATH</td>\n",
       "      <td>118.130251</td>\n",
       "      <td>HOME-HOME_BED_AND_BATH</td>\n",
       "    </tr>\n",
       "    <tr>\n",
       "      <th>826</th>\n",
       "      <td>HEALTH_PERSONAL_CARE</td>\n",
       "      <td>GROCERY</td>\n",
       "      <td>116.457325</td>\n",
       "      <td>GROCERY-HEALTH_PERSONAL_CARE</td>\n",
       "    </tr>\n",
       "    <tr>\n",
       "      <th>842</th>\n",
       "      <td>HERB</td>\n",
       "      <td>GROCERY</td>\n",
       "      <td>112.258259</td>\n",
       "      <td>GROCERY-HERB</td>\n",
       "    </tr>\n",
       "  </tbody>\n",
       "</table>\n",
       "</div>"
      ],
      "text/plain": [
       "                      cat1               cat2        prob  \\\n",
       "250                   BOOT              SHOES  211.630534   \n",
       "1472                 SHOES               BOOT  197.665964   \n",
       "802                    HAT          ACCESSORY  179.707335   \n",
       "43               ACCESSORY                HAT  168.658458   \n",
       "1400                SANDAL              SHOES  167.815899   \n",
       "1476                 SHOES             SANDAL  140.486074   \n",
       "890      HOME_BED_AND_BATH               HOME  126.918759   \n",
       "861                   HOME  HOME_BED_AND_BATH  118.130251   \n",
       "826   HEALTH_PERSONAL_CARE            GROCERY  116.457325   \n",
       "842                   HERB            GROCERY  112.258259   \n",
       "\n",
       "                               key  \n",
       "250                     BOOT-SHOES  \n",
       "1472                    BOOT-SHOES  \n",
       "802                  ACCESSORY-HAT  \n",
       "43                   ACCESSORY-HAT  \n",
       "1400                  SANDAL-SHOES  \n",
       "1476                  SANDAL-SHOES  \n",
       "890         HOME-HOME_BED_AND_BATH  \n",
       "861         HOME-HOME_BED_AND_BATH  \n",
       "826   GROCERY-HEALTH_PERSONAL_CARE  \n",
       "842                   GROCERY-HERB  "
      ]
     },
     "execution_count": 42,
     "metadata": {},
     "output_type": "execute_result"
    }
   ],
   "source": [
    "top.head(10)"
   ]
  },
  {
   "cell_type": "code",
   "execution_count": 43,
   "id": "8a3a3ba7-db4e-46df-87f6-a8d955f6f53e",
   "metadata": {},
   "outputs": [],
   "source": [
    "top_children = top[top.cat1.isin(top_cats_unique) & ~top.cat2.isin(top_cats_unique)]"
   ]
  },
  {
   "cell_type": "code",
   "execution_count": 44,
   "id": "230691dd-0674-4b41-9e0b-cac11caea38f",
   "metadata": {},
   "outputs": [
    {
     "data": {
      "text/html": [
       "<div>\n",
       "<style scoped>\n",
       "    .dataframe tbody tr th:only-of-type {\n",
       "        vertical-align: middle;\n",
       "    }\n",
       "\n",
       "    .dataframe tbody tr th {\n",
       "        vertical-align: top;\n",
       "    }\n",
       "\n",
       "    .dataframe thead th {\n",
       "        text-align: right;\n",
       "    }\n",
       "</style>\n",
       "<table border=\"1\" class=\"dataframe\">\n",
       "  <thead>\n",
       "    <tr style=\"text-align: right;\">\n",
       "      <th></th>\n",
       "      <th>cat1</th>\n",
       "      <th>cat2</th>\n",
       "      <th>prob</th>\n",
       "      <th>key</th>\n",
       "    </tr>\n",
       "  </thead>\n",
       "  <tbody>\n",
       "    <tr>\n",
       "      <th>43</th>\n",
       "      <td>ACCESSORY</td>\n",
       "      <td>HAT</td>\n",
       "      <td>168.658458</td>\n",
       "      <td>ACCESSORY-HAT</td>\n",
       "    </tr>\n",
       "    <tr>\n",
       "      <th>363</th>\n",
       "      <td>CHAIR</td>\n",
       "      <td>SOFA</td>\n",
       "      <td>35.380482</td>\n",
       "      <td>CHAIR-SOFA</td>\n",
       "    </tr>\n",
       "    <tr>\n",
       "      <th>360</th>\n",
       "      <td>CHAIR</td>\n",
       "      <td>OUTDOOR_LIVING</td>\n",
       "      <td>33.781202</td>\n",
       "      <td>CHAIR-OUTDOOR_LIVING</td>\n",
       "    </tr>\n",
       "    <tr>\n",
       "      <th>738</th>\n",
       "      <td>GROCERY</td>\n",
       "      <td>COFFEE</td>\n",
       "      <td>30.624957</td>\n",
       "      <td>COFFEE-GROCERY</td>\n",
       "    </tr>\n",
       "    <tr>\n",
       "      <th>901</th>\n",
       "      <td>HOME_FURNITURE_AND_DECOR</td>\n",
       "      <td>CLOCK</td>\n",
       "      <td>25.635597</td>\n",
       "      <td>CLOCK-HOME_FURNITURE_AND_DECOR</td>\n",
       "    </tr>\n",
       "    <tr>\n",
       "      <th>743</th>\n",
       "      <td>GROCERY</td>\n",
       "      <td>HERB</td>\n",
       "      <td>24.189350</td>\n",
       "      <td>GROCERY-HERB</td>\n",
       "    </tr>\n",
       "    <tr>\n",
       "      <th>880</th>\n",
       "      <td>HOME</td>\n",
       "      <td>WALL_ART</td>\n",
       "      <td>23.804230</td>\n",
       "      <td>HOME-WALL_ART</td>\n",
       "    </tr>\n",
       "    <tr>\n",
       "      <th>915</th>\n",
       "      <td>HOME_FURNITURE_AND_DECOR</td>\n",
       "      <td>RUG</td>\n",
       "      <td>23.654452</td>\n",
       "      <td>HOME_FURNITURE_AND_DECOR-RUG</td>\n",
       "    </tr>\n",
       "    <tr>\n",
       "      <th>823</th>\n",
       "      <td>HEALTH_PERSONAL_CARE</td>\n",
       "      <td>BEAUTY</td>\n",
       "      <td>22.502882</td>\n",
       "      <td>BEAUTY-HEALTH_PERSONAL_CARE</td>\n",
       "    </tr>\n",
       "    <tr>\n",
       "      <th>734</th>\n",
       "      <td>GROCERY</td>\n",
       "      <td>BEAUTY</td>\n",
       "      <td>18.403554</td>\n",
       "      <td>BEAUTY-GROCERY</td>\n",
       "    </tr>\n",
       "    <tr>\n",
       "      <th>884</th>\n",
       "      <td>HOME_BED_AND_BATH</td>\n",
       "      <td>FLAT_SHEET</td>\n",
       "      <td>16.900919</td>\n",
       "      <td>FLAT_SHEET-HOME_BED_AND_BATH</td>\n",
       "    </tr>\n",
       "    <tr>\n",
       "      <th>366</th>\n",
       "      <td>CHAIR</td>\n",
       "      <td>SWATCH</td>\n",
       "      <td>15.086162</td>\n",
       "      <td>CHAIR-SWATCH</td>\n",
       "    </tr>\n",
       "    <tr>\n",
       "      <th>895</th>\n",
       "      <td>HOME_BED_AND_BATH</td>\n",
       "      <td>PILLOW</td>\n",
       "      <td>12.851278</td>\n",
       "      <td>HOME_BED_AND_BATH-PILLOW</td>\n",
       "    </tr>\n",
       "    <tr>\n",
       "      <th>917</th>\n",
       "      <td>HOME_FURNITURE_AND_DECOR</td>\n",
       "      <td>SOFA</td>\n",
       "      <td>10.972431</td>\n",
       "      <td>HOME_FURNITURE_AND_DECOR-SOFA</td>\n",
       "    </tr>\n",
       "    <tr>\n",
       "      <th>46</th>\n",
       "      <td>ACCESSORY</td>\n",
       "      <td>SHOES</td>\n",
       "      <td>8.970107</td>\n",
       "      <td>ACCESSORY-SHOES</td>\n",
       "    </tr>\n",
       "    <tr>\n",
       "      <th>870</th>\n",
       "      <td>HOME</td>\n",
       "      <td>OFFICE_PRODUCTS</td>\n",
       "      <td>7.727028</td>\n",
       "      <td>HOME-OFFICE_PRODUCTS</td>\n",
       "    </tr>\n",
       "    <tr>\n",
       "      <th>864</th>\n",
       "      <td>HOME</td>\n",
       "      <td>HOME_MIRROR</td>\n",
       "      <td>7.533122</td>\n",
       "      <td>HOME-HOME_MIRROR</td>\n",
       "    </tr>\n",
       "    <tr>\n",
       "      <th>921</th>\n",
       "      <td>HOME_FURNITURE_AND_DECOR</td>\n",
       "      <td>SWATCH</td>\n",
       "      <td>7.250338</td>\n",
       "      <td>HOME_FURNITURE_AND_DECOR-SWATCH</td>\n",
       "    </tr>\n",
       "    <tr>\n",
       "      <th>42</th>\n",
       "      <td>ACCESSORY</td>\n",
       "      <td>HANDBAG</td>\n",
       "      <td>5.635020</td>\n",
       "      <td>ACCESSORY-HANDBAG</td>\n",
       "    </tr>\n",
       "    <tr>\n",
       "      <th>744</th>\n",
       "      <td>GROCERY</td>\n",
       "      <td>PET_SUPPLIES</td>\n",
       "      <td>5.092795</td>\n",
       "      <td>GROCERY-PET_SUPPLIES</td>\n",
       "    </tr>\n",
       "  </tbody>\n",
       "</table>\n",
       "</div>"
      ],
      "text/plain": [
       "                         cat1             cat2        prob  \\\n",
       "43                  ACCESSORY              HAT  168.658458   \n",
       "363                     CHAIR             SOFA   35.380482   \n",
       "360                     CHAIR   OUTDOOR_LIVING   33.781202   \n",
       "738                   GROCERY           COFFEE   30.624957   \n",
       "901  HOME_FURNITURE_AND_DECOR            CLOCK   25.635597   \n",
       "743                   GROCERY             HERB   24.189350   \n",
       "880                      HOME         WALL_ART   23.804230   \n",
       "915  HOME_FURNITURE_AND_DECOR              RUG   23.654452   \n",
       "823      HEALTH_PERSONAL_CARE           BEAUTY   22.502882   \n",
       "734                   GROCERY           BEAUTY   18.403554   \n",
       "884         HOME_BED_AND_BATH       FLAT_SHEET   16.900919   \n",
       "366                     CHAIR           SWATCH   15.086162   \n",
       "895         HOME_BED_AND_BATH           PILLOW   12.851278   \n",
       "917  HOME_FURNITURE_AND_DECOR             SOFA   10.972431   \n",
       "46                  ACCESSORY            SHOES    8.970107   \n",
       "870                      HOME  OFFICE_PRODUCTS    7.727028   \n",
       "864                      HOME      HOME_MIRROR    7.533122   \n",
       "921  HOME_FURNITURE_AND_DECOR           SWATCH    7.250338   \n",
       "42                  ACCESSORY          HANDBAG    5.635020   \n",
       "744                   GROCERY     PET_SUPPLIES    5.092795   \n",
       "\n",
       "                                 key  \n",
       "43                     ACCESSORY-HAT  \n",
       "363                       CHAIR-SOFA  \n",
       "360             CHAIR-OUTDOOR_LIVING  \n",
       "738                   COFFEE-GROCERY  \n",
       "901   CLOCK-HOME_FURNITURE_AND_DECOR  \n",
       "743                     GROCERY-HERB  \n",
       "880                    HOME-WALL_ART  \n",
       "915     HOME_FURNITURE_AND_DECOR-RUG  \n",
       "823      BEAUTY-HEALTH_PERSONAL_CARE  \n",
       "734                   BEAUTY-GROCERY  \n",
       "884     FLAT_SHEET-HOME_BED_AND_BATH  \n",
       "366                     CHAIR-SWATCH  \n",
       "895         HOME_BED_AND_BATH-PILLOW  \n",
       "917    HOME_FURNITURE_AND_DECOR-SOFA  \n",
       "46                   ACCESSORY-SHOES  \n",
       "870             HOME-OFFICE_PRODUCTS  \n",
       "864                 HOME-HOME_MIRROR  \n",
       "921  HOME_FURNITURE_AND_DECOR-SWATCH  \n",
       "42                 ACCESSORY-HANDBAG  \n",
       "744             GROCERY-PET_SUPPLIES  "
      ]
     },
     "execution_count": 44,
     "metadata": {},
     "output_type": "execute_result"
    }
   ],
   "source": [
    "top_children.head(20)"
   ]
  },
  {
   "cell_type": "code",
   "execution_count": 49,
   "id": "85b1aa03-4ced-4fee-92e8-3d8d4556b9c1",
   "metadata": {},
   "outputs": [
    {
     "data": {
      "text/html": [
       "<div>\n",
       "<style scoped>\n",
       "    .dataframe tbody tr th:only-of-type {\n",
       "        vertical-align: middle;\n",
       "    }\n",
       "\n",
       "    .dataframe tbody tr th {\n",
       "        vertical-align: top;\n",
       "    }\n",
       "\n",
       "    .dataframe thead th {\n",
       "        text-align: right;\n",
       "    }\n",
       "</style>\n",
       "<table border=\"1\" class=\"dataframe\">\n",
       "  <thead>\n",
       "    <tr style=\"text-align: right;\">\n",
       "      <th></th>\n",
       "      <th>prob</th>\n",
       "    </tr>\n",
       "    <tr>\n",
       "      <th>cat1</th>\n",
       "      <th></th>\n",
       "    </tr>\n",
       "  </thead>\n",
       "  <tbody>\n",
       "    <tr>\n",
       "      <th>ACCESSORY</th>\n",
       "      <td>188.099439</td>\n",
       "    </tr>\n",
       "    <tr>\n",
       "      <th>CHAIR</th>\n",
       "      <td>84.247846</td>\n",
       "    </tr>\n",
       "    <tr>\n",
       "      <th>GROCERY</th>\n",
       "      <td>78.310657</td>\n",
       "    </tr>\n",
       "    <tr>\n",
       "      <th>HEALTH_PERSONAL_CARE</th>\n",
       "      <td>22.502882</td>\n",
       "    </tr>\n",
       "    <tr>\n",
       "      <th>HOME</th>\n",
       "      <td>39.064380</td>\n",
       "    </tr>\n",
       "    <tr>\n",
       "      <th>HOME_BED_AND_BATH</th>\n",
       "      <td>29.752197</td>\n",
       "    </tr>\n",
       "    <tr>\n",
       "      <th>HOME_FURNITURE_AND_DECOR</th>\n",
       "      <td>67.512818</td>\n",
       "    </tr>\n",
       "    <tr>\n",
       "      <th>TABLE</th>\n",
       "      <td>4.969194</td>\n",
       "    </tr>\n",
       "  </tbody>\n",
       "</table>\n",
       "</div>"
      ],
      "text/plain": [
       "                                prob\n",
       "cat1                                \n",
       "ACCESSORY                 188.099439\n",
       "CHAIR                      84.247846\n",
       "GROCERY                    78.310657\n",
       "HEALTH_PERSONAL_CARE       22.502882\n",
       "HOME                       39.064380\n",
       "HOME_BED_AND_BATH          29.752197\n",
       "HOME_FURNITURE_AND_DECOR   67.512818\n",
       "TABLE                       4.969194"
      ]
     },
     "execution_count": 49,
     "metadata": {},
     "output_type": "execute_result"
    }
   ],
   "source": [
    "top_children.groupby(by=\"cat1\").sum()"
   ]
  },
  {
   "cell_type": "code",
   "execution_count": null,
   "id": "ae61fdca-f8b4-4c8c-a2e8-e20e123968d3",
   "metadata": {},
   "outputs": [],
   "source": [
    "top.groupby("
   ]
  },
  {
   "cell_type": "code",
   "execution_count": 45,
   "id": "ee77b5e1-92ff-43ad-b5d1-17c010914d02",
   "metadata": {},
   "outputs": [
    {
     "data": {
      "text/plain": [
       "['GROCERY', 'HOME', 'HOME_FURNITURE_AND_DECOR']"
      ]
     },
     "execution_count": 45,
     "metadata": {},
     "output_type": "execute_result"
    }
   ],
   "source": [
    "pairs = [ (pair.split(\"-\")[0],pair.split(\"-\")[1]) for pair in top['key'].unique()]\n",
    "\n",
    "pairs\n",
    "\n",
    "p_df = pd.DataFrame(pairs,columns=['cat1','cat2'])\n",
    "\n",
    "p_df[(p_df.cat2=='PILLOW') ].head(30)\n",
    "\n",
    "child1 = p_df.groupby(by=\"cat1\").count().reset_index().sort_values(by=\"cat2\",ascending=False)\n",
    "\n",
    "\n",
    "\n",
    "child1 = child1[child1.cat2>2]\n",
    "\n",
    "child1.describe()\n",
    "\n",
    "top_cats = child1[child1.cat2>10].head(20)['cat1'].to_list()\n",
    "\n",
    "child2 = p_df.groupby(by=\"cat2\").count().reset_index().sort_values(by=\"cat1\",ascending=False)\n",
    "\n",
    "child2 = child2[child2.cat1>2]\n",
    "\n",
    "top_cats = top_cats + child2[child2.cat1>10].head(20)['cat2'].to_list()\n",
    "\n",
    "top_cats_unique = list(set(top_cats))\n",
    "\n",
    "top_cats_unique"
   ]
  },
  {
   "cell_type": "code",
   "execution_count": 46,
   "id": "5ecd2668-907d-4155-a84c-6fb8a6050591",
   "metadata": {},
   "outputs": [
    {
     "data": {
      "text/html": [
       "<div>\n",
       "<style scoped>\n",
       "    .dataframe tbody tr th:only-of-type {\n",
       "        vertical-align: middle;\n",
       "    }\n",
       "\n",
       "    .dataframe tbody tr th {\n",
       "        vertical-align: top;\n",
       "    }\n",
       "\n",
       "    .dataframe thead th {\n",
       "        text-align: right;\n",
       "    }\n",
       "</style>\n",
       "<table border=\"1\" class=\"dataframe\">\n",
       "  <thead>\n",
       "    <tr style=\"text-align: right;\">\n",
       "      <th></th>\n",
       "      <th>cat1</th>\n",
       "    </tr>\n",
       "  </thead>\n",
       "  <tbody>\n",
       "    <tr>\n",
       "      <th>count</th>\n",
       "      <td>19.000000</td>\n",
       "    </tr>\n",
       "    <tr>\n",
       "      <th>mean</th>\n",
       "      <td>5.263158</td>\n",
       "    </tr>\n",
       "    <tr>\n",
       "      <th>std</th>\n",
       "      <td>3.739312</td>\n",
       "    </tr>\n",
       "    <tr>\n",
       "      <th>min</th>\n",
       "      <td>3.000000</td>\n",
       "    </tr>\n",
       "    <tr>\n",
       "      <th>25%</th>\n",
       "      <td>3.000000</td>\n",
       "    </tr>\n",
       "    <tr>\n",
       "      <th>50%</th>\n",
       "      <td>4.000000</td>\n",
       "    </tr>\n",
       "    <tr>\n",
       "      <th>75%</th>\n",
       "      <td>6.000000</td>\n",
       "    </tr>\n",
       "    <tr>\n",
       "      <th>max</th>\n",
       "      <td>18.000000</td>\n",
       "    </tr>\n",
       "  </tbody>\n",
       "</table>\n",
       "</div>"
      ],
      "text/plain": [
       "            cat1\n",
       "count  19.000000\n",
       "mean    5.263158\n",
       "std     3.739312\n",
       "min     3.000000\n",
       "25%     3.000000\n",
       "50%     4.000000\n",
       "75%     6.000000\n",
       "max    18.000000"
      ]
     },
     "execution_count": 46,
     "metadata": {},
     "output_type": "execute_result"
    }
   ],
   "source": [
    "child2.describe()"
   ]
  },
  {
   "cell_type": "code",
   "execution_count": 90,
   "id": "af006cc3-5a78-48f7-a859-82a9b9fe9c42",
   "metadata": {},
   "outputs": [
    {
     "data": {
      "text/html": [
       "<div>\n",
       "<style scoped>\n",
       "    .dataframe tbody tr th:only-of-type {\n",
       "        vertical-align: middle;\n",
       "    }\n",
       "\n",
       "    .dataframe tbody tr th {\n",
       "        vertical-align: top;\n",
       "    }\n",
       "\n",
       "    .dataframe thead th {\n",
       "        text-align: right;\n",
       "    }\n",
       "</style>\n",
       "<table border=\"1\" class=\"dataframe\">\n",
       "  <thead>\n",
       "    <tr style=\"text-align: right;\">\n",
       "      <th></th>\n",
       "      <th>cat2</th>\n",
       "      <th>cat1</th>\n",
       "    </tr>\n",
       "  </thead>\n",
       "  <tbody>\n",
       "    <tr>\n",
       "      <th>24</th>\n",
       "      <td>GROCERY</td>\n",
       "      <td>32</td>\n",
       "    </tr>\n",
       "    <tr>\n",
       "      <th>35</th>\n",
       "      <td>HOME</td>\n",
       "      <td>30</td>\n",
       "    </tr>\n",
       "    <tr>\n",
       "      <th>122</th>\n",
       "      <td>SPORTING_GOODS</td>\n",
       "      <td>15</td>\n",
       "    </tr>\n",
       "    <tr>\n",
       "      <th>46</th>\n",
       "      <td>KITCHEN</td>\n",
       "      <td>13</td>\n",
       "    </tr>\n",
       "    <tr>\n",
       "      <th>140</th>\n",
       "      <td>TABLE</td>\n",
       "      <td>13</td>\n",
       "    </tr>\n",
       "    <tr>\n",
       "      <th>36</th>\n",
       "      <td>HOME_BED_AND_BATH</td>\n",
       "      <td>12</td>\n",
       "    </tr>\n",
       "    <tr>\n",
       "      <th>32</th>\n",
       "      <td>HEALTH_PERSONAL_CARE</td>\n",
       "      <td>12</td>\n",
       "    </tr>\n",
       "    <tr>\n",
       "      <th>37</th>\n",
       "      <td>HOME_FURNITURE_AND_DECOR</td>\n",
       "      <td>11</td>\n",
       "    </tr>\n",
       "  </tbody>\n",
       "</table>\n",
       "</div>"
      ],
      "text/plain": [
       "                         cat2  cat1\n",
       "24                    GROCERY    32\n",
       "35                       HOME    30\n",
       "122            SPORTING_GOODS    15\n",
       "46                    KITCHEN    13\n",
       "140                     TABLE    13\n",
       "36          HOME_BED_AND_BATH    12\n",
       "32       HEALTH_PERSONAL_CARE    12\n",
       "37   HOME_FURNITURE_AND_DECOR    11"
      ]
     },
     "execution_count": 90,
     "metadata": {},
     "output_type": "execute_result"
    }
   ],
   "source": [
    "child2[child2.cat1>10].head(20)"
   ]
  },
  {
   "cell_type": "code",
   "execution_count": 47,
   "id": "c01b38c1-bd36-4e73-a664-286415e334e3",
   "metadata": {},
   "outputs": [
    {
     "data": {
      "text/html": [
       "<div>\n",
       "<style scoped>\n",
       "    .dataframe tbody tr th:only-of-type {\n",
       "        vertical-align: middle;\n",
       "    }\n",
       "\n",
       "    .dataframe tbody tr th {\n",
       "        vertical-align: top;\n",
       "    }\n",
       "\n",
       "    .dataframe thead th {\n",
       "        text-align: right;\n",
       "    }\n",
       "</style>\n",
       "<table border=\"1\" class=\"dataframe\">\n",
       "  <thead>\n",
       "    <tr style=\"text-align: right;\">\n",
       "      <th></th>\n",
       "      <th>cat1</th>\n",
       "      <th>cat2</th>\n",
       "      <th>prob</th>\n",
       "      <th>key</th>\n",
       "    </tr>\n",
       "  </thead>\n",
       "  <tbody>\n",
       "    <tr>\n",
       "      <th>250</th>\n",
       "      <td>BOOT</td>\n",
       "      <td>SHOES</td>\n",
       "      <td>211.630534</td>\n",
       "      <td>BOOT-SHOES</td>\n",
       "    </tr>\n",
       "    <tr>\n",
       "      <th>1472</th>\n",
       "      <td>SHOES</td>\n",
       "      <td>BOOT</td>\n",
       "      <td>197.665964</td>\n",
       "      <td>BOOT-SHOES</td>\n",
       "    </tr>\n",
       "    <tr>\n",
       "      <th>802</th>\n",
       "      <td>HAT</td>\n",
       "      <td>ACCESSORY</td>\n",
       "      <td>179.707335</td>\n",
       "      <td>ACCESSORY-HAT</td>\n",
       "    </tr>\n",
       "    <tr>\n",
       "      <th>43</th>\n",
       "      <td>ACCESSORY</td>\n",
       "      <td>HAT</td>\n",
       "      <td>168.658458</td>\n",
       "      <td>ACCESSORY-HAT</td>\n",
       "    </tr>\n",
       "    <tr>\n",
       "      <th>1400</th>\n",
       "      <td>SANDAL</td>\n",
       "      <td>SHOES</td>\n",
       "      <td>167.815899</td>\n",
       "      <td>SANDAL-SHOES</td>\n",
       "    </tr>\n",
       "  </tbody>\n",
       "</table>\n",
       "</div>"
      ],
      "text/plain": [
       "           cat1       cat2        prob            key\n",
       "250        BOOT      SHOES  211.630534     BOOT-SHOES\n",
       "1472      SHOES       BOOT  197.665964     BOOT-SHOES\n",
       "802         HAT  ACCESSORY  179.707335  ACCESSORY-HAT\n",
       "43    ACCESSORY        HAT  168.658458  ACCESSORY-HAT\n",
       "1400     SANDAL      SHOES  167.815899   SANDAL-SHOES"
      ]
     },
     "execution_count": 47,
     "metadata": {},
     "output_type": "execute_result"
    }
   ],
   "source": [
    "top[top.cat1.isin()"
   ]
  },
  {
   "cell_type": "code",
   "execution_count": 6,
   "id": "274ea79c-f5c7-4277-a583-b077ebe25280",
   "metadata": {},
   "outputs": [],
   "source": [
    "from faker import Faker\n",
    "fake = Faker()"
   ]
  },
  {
   "cell_type": "code",
   "execution_count": 20,
   "id": "5321bfb2-98be-4b9c-b44d-7eb1ba6974ad",
   "metadata": {},
   "outputs": [],
   "source": [
    "def getRandomUser():\n",
    "    name = fake.name()\n",
    "    email = fake.email() \n",
    "    address = fake.address()\n",
    "    date_joined = fake.date_time_this_century()\n",
    "    return [ name, email, address, date_joined]"
   ]
  },
  {
   "cell_type": "code",
   "execution_count": 21,
   "id": "354e3323-7e7b-4c94-8438-518514e92e9c",
   "metadata": {},
   "outputs": [
    {
     "ename": "IndentationError",
     "evalue": "expected an indented block (191213573.py, line 1)",
     "output_type": "error",
     "traceback": [
      "\u001b[0;36m  File \u001b[0;32m\"/tmp/ipykernel_796/191213573.py\"\u001b[0;36m, line \u001b[0;32m1\u001b[0m\n\u001b[0;31m    def gadgetLover():\u001b[0m\n\u001b[0m                      ^\u001b[0m\n\u001b[0;31mIndentationError\u001b[0m\u001b[0;31m:\u001b[0m expected an indented block\n"
     ]
    }
   ],
   "source": [
    "def gadgetLover():\n"
   ]
  },
  {
   "cell_type": "code",
   "execution_count": 22,
   "id": "0968a33b-c7e8-403b-8a56-bd2c4ec39dde",
   "metadata": {},
   "outputs": [
    {
     "data": {
      "text/plain": [
       "['Robert Wall',\n",
       " 'owaters@example.com',\n",
       " '0623 Logan Well Apt. 586\\nCrystalborough, MA 50927',\n",
       " datetime.datetime(2016, 3, 30, 1, 27, 44)]"
      ]
     },
     "execution_count": 22,
     "metadata": {},
     "output_type": "execute_result"
    }
   ],
   "source": [
    "getRandomUser()"
   ]
  },
  {
   "cell_type": "code",
   "execution_count": 5,
   "id": "71d2fe67-a527-46f2-9e7d-4638a4d08076",
   "metadata": {},
   "outputs": [
    {
     "data": {
      "text/plain": [
       "'David Mcmahon'"
      ]
     },
     "execution_count": 5,
     "metadata": {},
     "output_type": "execute_result"
    }
   ],
   "source": [
    "fake.name()"
   ]
  },
  {
   "cell_type": "code",
   "execution_count": null,
   "id": "e4897300-d128-48a9-bff2-30659ab1908a",
   "metadata": {},
   "outputs": [],
   "source": []
  }
 ],
 "metadata": {
  "kernelspec": {
   "display_name": "default:Python",
   "language": "python",
   "name": "conda-env-default-py"
  },
  "language_info": {
   "codemirror_mode": {
    "name": "ipython",
    "version": 3
   },
   "file_extension": ".py",
   "mimetype": "text/x-python",
   "name": "python",
   "nbconvert_exporter": "python",
   "pygments_lexer": "ipython3",
   "version": "3.9.7"
  }
 },
 "nbformat": 4,
 "nbformat_minor": 5
}
